{
 "cells": [
  {
   "cell_type": "code",
   "execution_count": 1,
   "metadata": {
    "vscode": {
     "languageId": "r"
    }
   },
   "outputs": [
    {
     "name": "stderr",
     "output_type": "stream",
     "text": [
      "── \u001b[1mAttaching packages\u001b[22m ─────────────────────────────────────── tidyverse 1.3.2 ──\n",
      "\u001b[32m✔\u001b[39m \u001b[34mggplot2\u001b[39m 3.5.1     \u001b[32m✔\u001b[39m \u001b[34mpurrr  \u001b[39m 1.0.2\n",
      "\u001b[32m✔\u001b[39m \u001b[34mtibble \u001b[39m 3.2.1     \u001b[32m✔\u001b[39m \u001b[34mdplyr  \u001b[39m 1.1.4\n",
      "\u001b[32m✔\u001b[39m \u001b[34mtidyr  \u001b[39m 1.3.1     \u001b[32m✔\u001b[39m \u001b[34mstringr\u001b[39m 1.5.1\n",
      "\u001b[32m✔\u001b[39m \u001b[34mreadr  \u001b[39m 2.1.5     \u001b[32m✔\u001b[39m \u001b[34mforcats\u001b[39m 1.0.0\n",
      "Warning message:\n",
      "“package ‘ggplot2’ was built under R version 4.2.3”\n",
      "Warning message:\n",
      "“package ‘tibble’ was built under R version 4.2.3”\n",
      "Warning message:\n",
      "“package ‘tidyr’ was built under R version 4.2.3”\n",
      "Warning message:\n",
      "“package ‘readr’ was built under R version 4.2.3”\n",
      "Warning message:\n",
      "“package ‘purrr’ was built under R version 4.2.3”\n",
      "Warning message:\n",
      "“package ‘dplyr’ was built under R version 4.2.3”\n",
      "Warning message:\n",
      "“package ‘stringr’ was built under R version 4.2.3”\n",
      "Warning message:\n",
      "“package ‘forcats’ was built under R version 4.2.3”\n",
      "── \u001b[1mConflicts\u001b[22m ────────────────────────────────────────── tidyverse_conflicts() ──\n",
      "\u001b[31m✖\u001b[39m \u001b[34mdplyr\u001b[39m::\u001b[32mfilter()\u001b[39m masks \u001b[34mstats\u001b[39m::filter()\n",
      "\u001b[31m✖\u001b[39m \u001b[34mdplyr\u001b[39m::\u001b[32mlag()\u001b[39m    masks \u001b[34mstats\u001b[39m::lag()\n",
      "Warning message:\n",
      "“package ‘babynames’ was built under R version 4.2.3”\n"
     ]
    }
   ],
   "source": [
    "library(tidyverse)\n",
    "library(babynames)"
   ]
  },
  {
   "attachments": {},
   "cell_type": "markdown",
   "metadata": {},
   "source": [
    "## [14.2.4 Exercises](https://r4ds.hadley.nz/strings#exercises)"
   ]
  },
  {
   "attachments": {},
   "cell_type": "markdown",
   "metadata": {},
   "source": [
    "1. Create strings that contain the following values:\n",
    "\n",
    "    1. He said \"That's amazing!\"\n",
    "\n",
    "    2. \\a\\b\\c\\d\n",
    "\n",
    "    3. \\\\\\\\\\\\\\\\\\\\\\\\"
   ]
  },
  {
   "cell_type": "code",
   "execution_count": 8,
   "metadata": {
    "vscode": {
     "languageId": "r"
    }
   },
   "outputs": [
    {
     "data": {
      "text/plain": [
       "\u001b[90m[1] │\u001b[39m He said \"That's amazing!\"\n",
       "\u001b[90m[2] │\u001b[39m \\a\\b\\c\\d\n",
       "\u001b[90m[3] │\u001b[39m \\\\\\\\\\\\"
      ]
     },
     "metadata": {},
     "output_type": "display_data"
    }
   ],
   "source": [
    "x <- c('He said \"That\\'s amazing!\"', \"\\\\a\\\\b\\\\c\\\\d\", r\"(\\\\\\\\\\\\)\")\n",
    "str_view(x)"
   ]
  },
  {
   "attachments": {},
   "cell_type": "markdown",
   "metadata": {},
   "source": [
    "2. Create the string in your R session and print it. What happens to the special “\\u00a0”? How does str_view() display it? Can you do a little googling to figure out what this special character is?\n",
    "```r\n",
    "x <- \"This\\u00a0is\\u00a0tricky\"\n",
    "```"
   ]
  },
  {
   "cell_type": "code",
   "execution_count": 9,
   "metadata": {
    "vscode": {
     "languageId": "r"
    }
   },
   "outputs": [
    {
     "data": {
      "text/html": [
       "'This is tricky'"
      ],
      "text/latex": [
       "'This is tricky'"
      ],
      "text/markdown": [
       "'This is tricky'"
      ],
      "text/plain": [
       "[1] \"This is tricky\""
      ]
     },
     "metadata": {},
     "output_type": "display_data"
    },
    {
     "data": {
      "text/plain": [
       "\u001b[90m[1] │\u001b[39m This\u001b[36m{\\u00a0}\u001b[39mis\u001b[36m{\\u00a0}\u001b[39mtricky"
      ]
     },
     "metadata": {},
     "output_type": "display_data"
    }
   ],
   "source": [
    "x <- \"This\\u00a0is\\u00a0tricky\"\n",
    "x\n",
    "str_view(x)"
   ]
  },
  {
   "attachments": {},
   "cell_type": "markdown",
   "metadata": {},
   "source": [
    "Just printing the string turns the \\u00a0 to a space. When you use str_view(), they are surrounded by curly brackets. the special \\u00a0 is a non-breaking space character."
   ]
  },
  {
   "attachments": {},
   "cell_type": "markdown",
   "metadata": {},
   "source": [
    "## [14.3.4 Exercises](https://r4ds.hadley.nz/strings#exercises-1)"
   ]
  },
  {
   "attachments": {},
   "cell_type": "markdown",
   "metadata": {},
   "source": [
    "1. Compare and contrast the results of paste0() with str_c() for the following inputs:\n",
    "```r\n",
    "str_c(\"hi \", NA)\n",
    "str_c(letters[1:2], letters[1:3])\n",
    "```"
   ]
  },
  {
   "cell_type": "code",
   "execution_count": 10,
   "metadata": {
    "vscode": {
     "languageId": "r"
    }
   },
   "outputs": [
    {
     "data": {
      "text/html": [
       "'hi NA'"
      ],
      "text/latex": [
       "'hi NA'"
      ],
      "text/markdown": [
       "'hi NA'"
      ],
      "text/plain": [
       "[1] \"hi NA\""
      ]
     },
     "metadata": {},
     "output_type": "display_data"
    },
    {
     "data": {
      "text/html": [
       "<style>\n",
       ".list-inline {list-style: none; margin:0; padding: 0}\n",
       ".list-inline>li {display: inline-block}\n",
       ".list-inline>li:not(:last-child)::after {content: \"\\00b7\"; padding: 0 .5ex}\n",
       "</style>\n",
       "<ol class=list-inline><li>'aa'</li><li>'bb'</li><li>'ac'</li></ol>\n"
      ],
      "text/latex": [
       "\\begin{enumerate*}\n",
       "\\item 'aa'\n",
       "\\item 'bb'\n",
       "\\item 'ac'\n",
       "\\end{enumerate*}\n"
      ],
      "text/markdown": [
       "1. 'aa'\n",
       "2. 'bb'\n",
       "3. 'ac'\n",
       "\n",
       "\n"
      ],
      "text/plain": [
       "[1] \"aa\" \"bb\" \"ac\""
      ]
     },
     "metadata": {},
     "output_type": "display_data"
    },
    {
     "data": {
      "text/html": [
       "NA"
      ],
      "text/latex": [
       "NA"
      ],
      "text/markdown": [
       "NA"
      ],
      "text/plain": [
       "[1] NA"
      ]
     },
     "metadata": {},
     "output_type": "display_data"
    },
    {
     "ename": "ERROR",
     "evalue": "\u001b[1m\u001b[33mError\u001b[39m in `str_c()`:\u001b[22m\n\u001b[33m!\u001b[39m Can't recycle `..1` (size 2) to match `..2` (size 3).\n",
     "output_type": "error",
     "traceback": [
      "\u001b[1m\u001b[33mError\u001b[39m in `str_c()`:\u001b[22m\n\u001b[33m!\u001b[39m Can't recycle `..1` (size 2) to match `..2` (size 3).\nTraceback:\n",
      "1. vctrs::vec_size_common(!!!dots)",
      "2. stop_incompatible_size(x = .Primitive(\"quote\")(c(\"a\", \"b\")), \n .     y = .Primitive(\"quote\")(c(\"a\", \"b\", \"c\")), x_size = 2L, y_size = 3L, \n .     x_arg = \"..1\", y_arg = \"..2\", call = <environment>)",
      "3. stop_incompatible(x, y, x_size = x_size, y_size = y_size, ..., \n .     x_arg = x_arg, y_arg = y_arg, details = details, message = message, \n .     class = c(class, \"vctrs_error_incompatible_size\"), call = call)",
      "4. stop_vctrs(message, class = c(class, \"vctrs_error_incompatible\"), \n .     x = x, y = y, details = details, ..., call = call)",
      "5. abort(message, class = c(class, \"vctrs_error\"), ..., call = call)",
      "6. signal_abort(cnd, .file)",
      "7. signalCondition(cnd)"
     ]
    }
   ],
   "source": [
    "paste0(\"hi \", NA)\n",
    "paste0(letters[1:2], letters[1:3])\n",
    "\n",
    "str_c(\"hi \", NA)\n",
    "str_c(letters[1:2], letters[1:3])"
   ]
  },
  {
   "attachments": {},
   "cell_type": "markdown",
   "metadata": {},
   "source": [
    "paste0 works better in these instances because str_c just returns NA for the first line and an error for the second."
   ]
  },
  {
   "attachments": {},
   "cell_type": "markdown",
   "metadata": {},
   "source": [
    "2. What’s the difference between paste() and paste0()? How can you recreate the equivalent of paste() with str_c()?"
   ]
  },
  {
   "attachments": {},
   "cell_type": "markdown",
   "metadata": {},
   "source": [
    "paste() allows a separator argument while paste0() doesn't. To recreate the equivalent of paste() with str_c(), use str_replace_NA() inside of str_c()."
   ]
  },
  {
   "attachments": {},
   "cell_type": "markdown",
   "metadata": {},
   "source": [
    "3. Convert the following expressions from str_c() to str_glue() or vice versa:\n",
    "```r\n",
    "str_c(\"The price of \", food, \" is \", price)\n",
    "\n",
    "str_glue(\"I'm {age} years old and live in {country}\")\n",
    "\n",
    "str_c(\"\\\\section{\", title, \"}\")\n",
    "```"
   ]
  },
  {
   "cell_type": "code",
   "execution_count": null,
   "metadata": {
    "vscode": {
     "languageId": "r"
    }
   },
   "outputs": [],
   "source": [
    "str_glue(\"The price of {food} is {price}\")\n",
    "str_c(\"I'm \", age, \" years old and live in \", country)\n",
    "str_glue(\"\\\\section{{title}}\")"
   ]
  },
  {
   "attachments": {},
   "cell_type": "markdown",
   "metadata": {},
   "source": [
    "## [14.5.3 Exercises](https://r4ds.hadley.nz/strings#exercises-2)"
   ]
  },
  {
   "attachments": {},
   "cell_type": "markdown",
   "metadata": {},
   "source": [
    "1. When computing the distribution of the length of babynames, why did we use wt = n?"
   ]
  },
  {
   "attachments": {},
   "cell_type": "markdown",
   "metadata": {},
   "source": [
    "To get the weigthed count of names."
   ]
  },
  {
   "attachments": {},
   "cell_type": "markdown",
   "metadata": {},
   "source": [
    "2. Use str_length() and str_sub() to extract the middle letter from each baby name. What will you do if the string has an even number of characters?"
   ]
  },
  {
   "attachments": {},
   "cell_type": "markdown",
   "metadata": {},
   "source": [
    "If there is an even number of characters, it will print the middle two characters."
   ]
  },
  {
   "cell_type": "code",
   "execution_count": 18,
   "metadata": {
    "vscode": {
     "languageId": "r"
    }
   },
   "outputs": [
    {
     "data": {
      "text/html": [
       "<table class=\"dataframe\">\n",
       "<caption>A tibble: 1924665 × 2</caption>\n",
       "<thead>\n",
       "\t<tr><th scope=col>name</th><th scope=col>middle</th></tr>\n",
       "\t<tr><th scope=col>&lt;chr&gt;</th><th scope=col>&lt;chr&gt;</th></tr>\n",
       "</thead>\n",
       "<tbody>\n",
       "\t<tr><td>Mary     </td><td>ar</td></tr>\n",
       "\t<tr><td>Anna     </td><td>nn</td></tr>\n",
       "\t<tr><td>Emma     </td><td>mm</td></tr>\n",
       "\t<tr><td>Elizabeth</td><td>a </td></tr>\n",
       "\t<tr><td>Minnie   </td><td>nn</td></tr>\n",
       "\t<tr><td>Margaret </td><td>ga</td></tr>\n",
       "\t<tr><td>Ida      </td><td>d </td></tr>\n",
       "\t<tr><td>Alice    </td><td>i </td></tr>\n",
       "\t<tr><td>Bertha   </td><td>rt</td></tr>\n",
       "\t<tr><td>Sarah    </td><td>r </td></tr>\n",
       "\t<tr><td>Annie    </td><td>n </td></tr>\n",
       "\t<tr><td>Clara    </td><td>a </td></tr>\n",
       "\t<tr><td>Ella     </td><td>ll</td></tr>\n",
       "\t<tr><td>Florence </td><td>re</td></tr>\n",
       "\t<tr><td>Cora     </td><td>or</td></tr>\n",
       "\t<tr><td>Martha   </td><td>rt</td></tr>\n",
       "\t<tr><td>Laura    </td><td>u </td></tr>\n",
       "\t<tr><td>Nellie   </td><td>ll</td></tr>\n",
       "\t<tr><td>Grace    </td><td>a </td></tr>\n",
       "\t<tr><td>Carrie   </td><td>rr</td></tr>\n",
       "\t<tr><td>Maude    </td><td>u </td></tr>\n",
       "\t<tr><td>Mabel    </td><td>b </td></tr>\n",
       "\t<tr><td>Bessie   </td><td>ss</td></tr>\n",
       "\t<tr><td>Jennie   </td><td>nn</td></tr>\n",
       "\t<tr><td>Gertrude </td><td>tr</td></tr>\n",
       "\t<tr><td>Julia    </td><td>l </td></tr>\n",
       "\t<tr><td>Hattie   </td><td>tt</td></tr>\n",
       "\t<tr><td>Edith    </td><td>i </td></tr>\n",
       "\t<tr><td>Mattie   </td><td>tt</td></tr>\n",
       "\t<tr><td>Rose     </td><td>os</td></tr>\n",
       "\t<tr><td>⋮</td><td>⋮</td></tr>\n",
       "\t<tr><td>Zayer   </td><td>y </td></tr>\n",
       "\t<tr><td>Zayir   </td><td>y </td></tr>\n",
       "\t<tr><td>Zechari </td><td>h </td></tr>\n",
       "\t<tr><td>Zecharia</td><td>ha</td></tr>\n",
       "\t<tr><td>Zee     </td><td>e </td></tr>\n",
       "\t<tr><td>Zeid    </td><td>ei</td></tr>\n",
       "\t<tr><td>Zennith </td><td>n </td></tr>\n",
       "\t<tr><td>Zeo     </td><td>e </td></tr>\n",
       "\t<tr><td>Zerrick </td><td>r </td></tr>\n",
       "\t<tr><td>Zevon   </td><td>v </td></tr>\n",
       "\t<tr><td>Zhen    </td><td>he</td></tr>\n",
       "\t<tr><td>Zhiyuan </td><td>y </td></tr>\n",
       "\t<tr><td>Zhyir   </td><td>y </td></tr>\n",
       "\t<tr><td>Zikora  </td><td>ko</td></tr>\n",
       "\t<tr><td>Zionn   </td><td>o </td></tr>\n",
       "\t<tr><td>Ziyang  </td><td>ya</td></tr>\n",
       "\t<tr><td>Zkari   </td><td>a </td></tr>\n",
       "\t<tr><td>Zohaan  </td><td>ha</td></tr>\n",
       "\t<tr><td>Zoren   </td><td>r </td></tr>\n",
       "\t<tr><td>Zorion  </td><td>ri</td></tr>\n",
       "\t<tr><td>Zubeyr  </td><td>be</td></tr>\n",
       "\t<tr><td>Zy      </td><td>Zy</td></tr>\n",
       "\t<tr><td>Zyel    </td><td>ye</td></tr>\n",
       "\t<tr><td>Zyheem  </td><td>he</td></tr>\n",
       "\t<tr><td>Zyhier  </td><td>hi</td></tr>\n",
       "\t<tr><td>Zykai   </td><td>k </td></tr>\n",
       "\t<tr><td>Zykeem  </td><td>ke</td></tr>\n",
       "\t<tr><td>Zylin   </td><td>l </td></tr>\n",
       "\t<tr><td>Zylis   </td><td>l </td></tr>\n",
       "\t<tr><td>Zyrie   </td><td>r </td></tr>\n",
       "</tbody>\n",
       "</table>\n"
      ],
      "text/latex": [
       "A tibble: 1924665 × 2\n",
       "\\begin{tabular}{ll}\n",
       " name & middle\\\\\n",
       " <chr> & <chr>\\\\\n",
       "\\hline\n",
       "\t Mary      & ar\\\\\n",
       "\t Anna      & nn\\\\\n",
       "\t Emma      & mm\\\\\n",
       "\t Elizabeth & a \\\\\n",
       "\t Minnie    & nn\\\\\n",
       "\t Margaret  & ga\\\\\n",
       "\t Ida       & d \\\\\n",
       "\t Alice     & i \\\\\n",
       "\t Bertha    & rt\\\\\n",
       "\t Sarah     & r \\\\\n",
       "\t Annie     & n \\\\\n",
       "\t Clara     & a \\\\\n",
       "\t Ella      & ll\\\\\n",
       "\t Florence  & re\\\\\n",
       "\t Cora      & or\\\\\n",
       "\t Martha    & rt\\\\\n",
       "\t Laura     & u \\\\\n",
       "\t Nellie    & ll\\\\\n",
       "\t Grace     & a \\\\\n",
       "\t Carrie    & rr\\\\\n",
       "\t Maude     & u \\\\\n",
       "\t Mabel     & b \\\\\n",
       "\t Bessie    & ss\\\\\n",
       "\t Jennie    & nn\\\\\n",
       "\t Gertrude  & tr\\\\\n",
       "\t Julia     & l \\\\\n",
       "\t Hattie    & tt\\\\\n",
       "\t Edith     & i \\\\\n",
       "\t Mattie    & tt\\\\\n",
       "\t Rose      & os\\\\\n",
       "\t ⋮ & ⋮\\\\\n",
       "\t Zayer    & y \\\\\n",
       "\t Zayir    & y \\\\\n",
       "\t Zechari  & h \\\\\n",
       "\t Zecharia & ha\\\\\n",
       "\t Zee      & e \\\\\n",
       "\t Zeid     & ei\\\\\n",
       "\t Zennith  & n \\\\\n",
       "\t Zeo      & e \\\\\n",
       "\t Zerrick  & r \\\\\n",
       "\t Zevon    & v \\\\\n",
       "\t Zhen     & he\\\\\n",
       "\t Zhiyuan  & y \\\\\n",
       "\t Zhyir    & y \\\\\n",
       "\t Zikora   & ko\\\\\n",
       "\t Zionn    & o \\\\\n",
       "\t Ziyang   & ya\\\\\n",
       "\t Zkari    & a \\\\\n",
       "\t Zohaan   & ha\\\\\n",
       "\t Zoren    & r \\\\\n",
       "\t Zorion   & ri\\\\\n",
       "\t Zubeyr   & be\\\\\n",
       "\t Zy       & Zy\\\\\n",
       "\t Zyel     & ye\\\\\n",
       "\t Zyheem   & he\\\\\n",
       "\t Zyhier   & hi\\\\\n",
       "\t Zykai    & k \\\\\n",
       "\t Zykeem   & ke\\\\\n",
       "\t Zylin    & l \\\\\n",
       "\t Zylis    & l \\\\\n",
       "\t Zyrie    & r \\\\\n",
       "\\end{tabular}\n"
      ],
      "text/markdown": [
       "\n",
       "A tibble: 1924665 × 2\n",
       "\n",
       "| name &lt;chr&gt; | middle &lt;chr&gt; |\n",
       "|---|---|\n",
       "| Mary      | ar |\n",
       "| Anna      | nn |\n",
       "| Emma      | mm |\n",
       "| Elizabeth | a  |\n",
       "| Minnie    | nn |\n",
       "| Margaret  | ga |\n",
       "| Ida       | d  |\n",
       "| Alice     | i  |\n",
       "| Bertha    | rt |\n",
       "| Sarah     | r  |\n",
       "| Annie     | n  |\n",
       "| Clara     | a  |\n",
       "| Ella      | ll |\n",
       "| Florence  | re |\n",
       "| Cora      | or |\n",
       "| Martha    | rt |\n",
       "| Laura     | u  |\n",
       "| Nellie    | ll |\n",
       "| Grace     | a  |\n",
       "| Carrie    | rr |\n",
       "| Maude     | u  |\n",
       "| Mabel     | b  |\n",
       "| Bessie    | ss |\n",
       "| Jennie    | nn |\n",
       "| Gertrude  | tr |\n",
       "| Julia     | l  |\n",
       "| Hattie    | tt |\n",
       "| Edith     | i  |\n",
       "| Mattie    | tt |\n",
       "| Rose      | os |\n",
       "| ⋮ | ⋮ |\n",
       "| Zayer    | y  |\n",
       "| Zayir    | y  |\n",
       "| Zechari  | h  |\n",
       "| Zecharia | ha |\n",
       "| Zee      | e  |\n",
       "| Zeid     | ei |\n",
       "| Zennith  | n  |\n",
       "| Zeo      | e  |\n",
       "| Zerrick  | r  |\n",
       "| Zevon    | v  |\n",
       "| Zhen     | he |\n",
       "| Zhiyuan  | y  |\n",
       "| Zhyir    | y  |\n",
       "| Zikora   | ko |\n",
       "| Zionn    | o  |\n",
       "| Ziyang   | ya |\n",
       "| Zkari    | a  |\n",
       "| Zohaan   | ha |\n",
       "| Zoren    | r  |\n",
       "| Zorion   | ri |\n",
       "| Zubeyr   | be |\n",
       "| Zy       | Zy |\n",
       "| Zyel     | ye |\n",
       "| Zyheem   | he |\n",
       "| Zyhier   | hi |\n",
       "| Zykai    | k  |\n",
       "| Zykeem   | ke |\n",
       "| Zylin    | l  |\n",
       "| Zylis    | l  |\n",
       "| Zyrie    | r  |\n",
       "\n"
      ],
      "text/plain": [
       "        name      middle\n",
       "1       Mary      ar    \n",
       "2       Anna      nn    \n",
       "3       Emma      mm    \n",
       "4       Elizabeth a     \n",
       "5       Minnie    nn    \n",
       "6       Margaret  ga    \n",
       "7       Ida       d     \n",
       "8       Alice     i     \n",
       "9       Bertha    rt    \n",
       "10      Sarah     r     \n",
       "11      Annie     n     \n",
       "12      Clara     a     \n",
       "13      Ella      ll    \n",
       "14      Florence  re    \n",
       "15      Cora      or    \n",
       "16      Martha    rt    \n",
       "17      Laura     u     \n",
       "18      Nellie    ll    \n",
       "19      Grace     a     \n",
       "20      Carrie    rr    \n",
       "21      Maude     u     \n",
       "22      Mabel     b     \n",
       "23      Bessie    ss    \n",
       "24      Jennie    nn    \n",
       "25      Gertrude  tr    \n",
       "26      Julia     l     \n",
       "27      Hattie    tt    \n",
       "28      Edith     i     \n",
       "29      Mattie    tt    \n",
       "30      Rose      os    \n",
       "⋮       ⋮         ⋮     \n",
       "1924636 Zayer     y     \n",
       "1924637 Zayir     y     \n",
       "1924638 Zechari   h     \n",
       "1924639 Zecharia  ha    \n",
       "1924640 Zee       e     \n",
       "1924641 Zeid      ei    \n",
       "1924642 Zennith   n     \n",
       "1924643 Zeo       e     \n",
       "1924644 Zerrick   r     \n",
       "1924645 Zevon     v     \n",
       "1924646 Zhen      he    \n",
       "1924647 Zhiyuan   y     \n",
       "1924648 Zhyir     y     \n",
       "1924649 Zikora    ko    \n",
       "1924650 Zionn     o     \n",
       "1924651 Ziyang    ya    \n",
       "1924652 Zkari     a     \n",
       "1924653 Zohaan    ha    \n",
       "1924654 Zoren     r     \n",
       "1924655 Zorion    ri    \n",
       "1924656 Zubeyr    be    \n",
       "1924657 Zy        Zy    \n",
       "1924658 Zyel      ye    \n",
       "1924659 Zyheem    he    \n",
       "1924660 Zyhier    hi    \n",
       "1924661 Zykai     k     \n",
       "1924662 Zykeem    ke    \n",
       "1924663 Zylin     l     \n",
       "1924664 Zylis     l     \n",
       "1924665 Zyrie     r     "
      ]
     },
     "metadata": {},
     "output_type": "display_data"
    }
   ],
   "source": [
    "babynames |> \n",
    "  mutate(\n",
    "    middle = case_when(\n",
    "      str_length(name)%%2 != 0 ~ str_sub(name, (str_length(name)/2)+1, (str_length(name)/2)+1),\n",
    "      str_length(name)%%2 == 0 ~ str_sub(name, (str_length(name)/2), (str_length(name)/2)+1)\n",
    "    ),\n",
    "    .keep = \"used\"\n",
    "  )"
   ]
  },
  {
   "attachments": {},
   "cell_type": "markdown",
   "metadata": {},
   "source": [
    "3. Are there any major trends in the length of babynames over time? What about the popularity of first and last letters?"
   ]
  },
  {
   "cell_type": "code",
   "execution_count": 36,
   "metadata": {
    "vscode": {
     "languageId": "r"
    }
   },
   "outputs": [
    {
     "name": "stderr",
     "output_type": "stream",
     "text": [
      "\u001b[1m\u001b[22m`geom_smooth()` using method = 'gam' and formula = 'y ~ s(x, bs = \"cs\")'\n"
     ]
    },
    {
     "data": {
      "text/html": [
       "<table class=\"dataframe\">\n",
       "<caption>A tibble: 26 × 2</caption>\n",
       "<thead>\n",
       "\t<tr><th scope=col>first</th><th scope=col>n</th></tr>\n",
       "\t<tr><th scope=col>&lt;chr&gt;</th><th scope=col>&lt;int&gt;</th></tr>\n",
       "</thead>\n",
       "<tbody>\n",
       "\t<tr><td>A</td><td>187950</td></tr>\n",
       "\t<tr><td>M</td><td>159008</td></tr>\n",
       "\t<tr><td>J</td><td>145086</td></tr>\n",
       "\t<tr><td>S</td><td>135075</td></tr>\n",
       "\t<tr><td>C</td><td>133835</td></tr>\n",
       "\t<tr><td>L</td><td>130975</td></tr>\n",
       "\t<tr><td>D</td><td>130657</td></tr>\n",
       "\t<tr><td>K</td><td>121874</td></tr>\n",
       "\t<tr><td>T</td><td>105766</td></tr>\n",
       "\t<tr><td>R</td><td>100353</td></tr>\n",
       "\t<tr><td>E</td><td> 88224</td></tr>\n",
       "\t<tr><td>B</td><td> 78281</td></tr>\n",
       "\t<tr><td>N</td><td> 58590</td></tr>\n",
       "\t<tr><td>G</td><td> 56166</td></tr>\n",
       "\t<tr><td>H</td><td> 47286</td></tr>\n",
       "\t<tr><td>P</td><td> 35421</td></tr>\n",
       "\t<tr><td>V</td><td> 35366</td></tr>\n",
       "\t<tr><td>F</td><td> 33289</td></tr>\n",
       "\t<tr><td>I</td><td> 29613</td></tr>\n",
       "\t<tr><td>O</td><td> 28849</td></tr>\n",
       "\t<tr><td>W</td><td> 26812</td></tr>\n",
       "\t<tr><td>Z</td><td> 23452</td></tr>\n",
       "\t<tr><td>Y</td><td> 18931</td></tr>\n",
       "\t<tr><td>Q</td><td>  6441</td></tr>\n",
       "\t<tr><td>U</td><td>  4602</td></tr>\n",
       "\t<tr><td>X</td><td>  2763</td></tr>\n",
       "</tbody>\n",
       "</table>\n"
      ],
      "text/latex": [
       "A tibble: 26 × 2\n",
       "\\begin{tabular}{ll}\n",
       " first & n\\\\\n",
       " <chr> & <int>\\\\\n",
       "\\hline\n",
       "\t A & 187950\\\\\n",
       "\t M & 159008\\\\\n",
       "\t J & 145086\\\\\n",
       "\t S & 135075\\\\\n",
       "\t C & 133835\\\\\n",
       "\t L & 130975\\\\\n",
       "\t D & 130657\\\\\n",
       "\t K & 121874\\\\\n",
       "\t T & 105766\\\\\n",
       "\t R & 100353\\\\\n",
       "\t E &  88224\\\\\n",
       "\t B &  78281\\\\\n",
       "\t N &  58590\\\\\n",
       "\t G &  56166\\\\\n",
       "\t H &  47286\\\\\n",
       "\t P &  35421\\\\\n",
       "\t V &  35366\\\\\n",
       "\t F &  33289\\\\\n",
       "\t I &  29613\\\\\n",
       "\t O &  28849\\\\\n",
       "\t W &  26812\\\\\n",
       "\t Z &  23452\\\\\n",
       "\t Y &  18931\\\\\n",
       "\t Q &   6441\\\\\n",
       "\t U &   4602\\\\\n",
       "\t X &   2763\\\\\n",
       "\\end{tabular}\n"
      ],
      "text/markdown": [
       "\n",
       "A tibble: 26 × 2\n",
       "\n",
       "| first &lt;chr&gt; | n &lt;int&gt; |\n",
       "|---|---|\n",
       "| A | 187950 |\n",
       "| M | 159008 |\n",
       "| J | 145086 |\n",
       "| S | 135075 |\n",
       "| C | 133835 |\n",
       "| L | 130975 |\n",
       "| D | 130657 |\n",
       "| K | 121874 |\n",
       "| T | 105766 |\n",
       "| R | 100353 |\n",
       "| E |  88224 |\n",
       "| B |  78281 |\n",
       "| N |  58590 |\n",
       "| G |  56166 |\n",
       "| H |  47286 |\n",
       "| P |  35421 |\n",
       "| V |  35366 |\n",
       "| F |  33289 |\n",
       "| I |  29613 |\n",
       "| O |  28849 |\n",
       "| W |  26812 |\n",
       "| Z |  23452 |\n",
       "| Y |  18931 |\n",
       "| Q |   6441 |\n",
       "| U |   4602 |\n",
       "| X |   2763 |\n",
       "\n"
      ],
      "text/plain": [
       "   first n     \n",
       "1  A     187950\n",
       "2  M     159008\n",
       "3  J     145086\n",
       "4  S     135075\n",
       "5  C     133835\n",
       "6  L     130975\n",
       "7  D     130657\n",
       "8  K     121874\n",
       "9  T     105766\n",
       "10 R     100353\n",
       "11 E      88224\n",
       "12 B      78281\n",
       "13 N      58590\n",
       "14 G      56166\n",
       "15 H      47286\n",
       "16 P      35421\n",
       "17 V      35366\n",
       "18 F      33289\n",
       "19 I      29613\n",
       "20 O      28849\n",
       "21 W      26812\n",
       "22 Z      23452\n",
       "23 Y      18931\n",
       "24 Q       6441\n",
       "25 U       4602\n",
       "26 X       2763"
      ]
     },
     "metadata": {},
     "output_type": "display_data"
    },
    {
     "data": {
      "text/html": [
       "<table class=\"dataframe\">\n",
       "<caption>A tibble: 26 × 2</caption>\n",
       "<thead>\n",
       "\t<tr><th scope=col>last</th><th scope=col>n</th></tr>\n",
       "\t<tr><th scope=col>&lt;chr&gt;</th><th scope=col>&lt;int&gt;</th></tr>\n",
       "</thead>\n",
       "<tbody>\n",
       "\t<tr><td>a</td><td>497580</td></tr>\n",
       "\t<tr><td>e</td><td>346168</td></tr>\n",
       "\t<tr><td>n</td><td>313921</td></tr>\n",
       "\t<tr><td>y</td><td>130655</td></tr>\n",
       "\t<tr><td>l</td><td>105310</td></tr>\n",
       "\t<tr><td>s</td><td> 79510</td></tr>\n",
       "\t<tr><td>i</td><td> 77883</td></tr>\n",
       "\t<tr><td>h</td><td> 73724</td></tr>\n",
       "\t<tr><td>o</td><td> 68408</td></tr>\n",
       "\t<tr><td>r</td><td> 62499</td></tr>\n",
       "\t<tr><td>d</td><td> 46936</td></tr>\n",
       "\t<tr><td>t</td><td> 35264</td></tr>\n",
       "\t<tr><td>m</td><td> 19571</td></tr>\n",
       "\t<tr><td>k</td><td> 17804</td></tr>\n",
       "\t<tr><td>g</td><td>  7589</td></tr>\n",
       "\t<tr><td>z</td><td>  7171</td></tr>\n",
       "\t<tr><td>c</td><td>  6578</td></tr>\n",
       "\t<tr><td>u</td><td>  5745</td></tr>\n",
       "\t<tr><td>b</td><td>  4530</td></tr>\n",
       "\t<tr><td>x</td><td>  3735</td></tr>\n",
       "\t<tr><td>f</td><td>  3723</td></tr>\n",
       "\t<tr><td>w</td><td>  3221</td></tr>\n",
       "\t<tr><td>p</td><td>  2545</td></tr>\n",
       "\t<tr><td>v</td><td>  2049</td></tr>\n",
       "\t<tr><td>j</td><td>  1847</td></tr>\n",
       "\t<tr><td>q</td><td>   699</td></tr>\n",
       "</tbody>\n",
       "</table>\n"
      ],
      "text/latex": [
       "A tibble: 26 × 2\n",
       "\\begin{tabular}{ll}\n",
       " last & n\\\\\n",
       " <chr> & <int>\\\\\n",
       "\\hline\n",
       "\t a & 497580\\\\\n",
       "\t e & 346168\\\\\n",
       "\t n & 313921\\\\\n",
       "\t y & 130655\\\\\n",
       "\t l & 105310\\\\\n",
       "\t s &  79510\\\\\n",
       "\t i &  77883\\\\\n",
       "\t h &  73724\\\\\n",
       "\t o &  68408\\\\\n",
       "\t r &  62499\\\\\n",
       "\t d &  46936\\\\\n",
       "\t t &  35264\\\\\n",
       "\t m &  19571\\\\\n",
       "\t k &  17804\\\\\n",
       "\t g &   7589\\\\\n",
       "\t z &   7171\\\\\n",
       "\t c &   6578\\\\\n",
       "\t u &   5745\\\\\n",
       "\t b &   4530\\\\\n",
       "\t x &   3735\\\\\n",
       "\t f &   3723\\\\\n",
       "\t w &   3221\\\\\n",
       "\t p &   2545\\\\\n",
       "\t v &   2049\\\\\n",
       "\t j &   1847\\\\\n",
       "\t q &    699\\\\\n",
       "\\end{tabular}\n"
      ],
      "text/markdown": [
       "\n",
       "A tibble: 26 × 2\n",
       "\n",
       "| last &lt;chr&gt; | n &lt;int&gt; |\n",
       "|---|---|\n",
       "| a | 497580 |\n",
       "| e | 346168 |\n",
       "| n | 313921 |\n",
       "| y | 130655 |\n",
       "| l | 105310 |\n",
       "| s |  79510 |\n",
       "| i |  77883 |\n",
       "| h |  73724 |\n",
       "| o |  68408 |\n",
       "| r |  62499 |\n",
       "| d |  46936 |\n",
       "| t |  35264 |\n",
       "| m |  19571 |\n",
       "| k |  17804 |\n",
       "| g |   7589 |\n",
       "| z |   7171 |\n",
       "| c |   6578 |\n",
       "| u |   5745 |\n",
       "| b |   4530 |\n",
       "| x |   3735 |\n",
       "| f |   3723 |\n",
       "| w |   3221 |\n",
       "| p |   2545 |\n",
       "| v |   2049 |\n",
       "| j |   1847 |\n",
       "| q |    699 |\n",
       "\n"
      ],
      "text/plain": [
       "   last n     \n",
       "1  a    497580\n",
       "2  e    346168\n",
       "3  n    313921\n",
       "4  y    130655\n",
       "5  l    105310\n",
       "6  s     79510\n",
       "7  i     77883\n",
       "8  h     73724\n",
       "9  o     68408\n",
       "10 r     62499\n",
       "11 d     46936\n",
       "12 t     35264\n",
       "13 m     19571\n",
       "14 k     17804\n",
       "15 g      7589\n",
       "16 z      7171\n",
       "17 c      6578\n",
       "18 u      5745\n",
       "19 b      4530\n",
       "20 x      3735\n",
       "21 f      3723\n",
       "22 w      3221\n",
       "23 p      2545\n",
       "24 v      2049\n",
       "25 j      1847\n",
       "26 q       699"
      ]
     },
     "metadata": {},
     "output_type": "display_data"
    },
    {
     "data": {
      "image/png": "[encoded data removed]",
      "text/plain": [
       "plot without title"
      ]
     },
     "metadata": {
      "image/png": {
       "height": 420,
       "width": 420
      }
     },
     "output_type": "display_data"
    }
   ],
   "source": [
    "babynames |>\n",
    "    group_by(year) |>\n",
    "    mutate(length = str_length(name)) |>\n",
    "    ggplot(aes(x=year, y=length)) +\n",
    "    geom_smooth()\n",
    "\n",
    "babynames |> \n",
    "  mutate(\n",
    "    first = str_sub(name, 1, 1),\n",
    "    last = str_sub(name, -1, -1)\n",
    "  ) |>\n",
    "  group_by(first) |>\n",
    "  summarize(n = n()) |>\n",
    "  arrange(desc(n))\n",
    "\n",
    "babynames |> \n",
    "  mutate(\n",
    "    first = str_sub(name, 1, 1),\n",
    "    last = str_sub(name, -1, -1)\n",
    "  ) |>\n",
    "  group_by(last) |>\n",
    "  summarize(n = n()) |>\n",
    "  arrange(desc(n))\n"
   ]
  },
  {
   "attachments": {},
   "cell_type": "markdown",
   "metadata": {},
   "source": [
    "Over time, the length of names has generally increased. The letter 'a' is both the most common first and last letter."
   ]
  },
  {
   "attachments": {},
   "cell_type": "markdown",
   "metadata": {},
   "source": [
    "## [15.3.5 Exercises](https://r4ds.hadley.nz/regexps#exercises)"
   ]
  },
  {
   "attachments": {},
   "cell_type": "markdown",
   "metadata": {},
   "source": [
    "1. What baby name has the most vowels? What name has the highest proportion of vowels? (Hint: what is the denominator?)"
   ]
  },
  {
   "cell_type": "code",
   "execution_count": 19,
   "metadata": {
    "vscode": {
     "languageId": "r"
    }
   },
   "outputs": [
    {
     "data": {
      "text/html": [
       "<table class=\"dataframe\">\n",
       "<caption>A grouped_df: 1924665 × 2</caption>\n",
       "<thead>\n",
       "\t<tr><th scope=col>name</th><th scope=col>vowels</th></tr>\n",
       "\t<tr><th scope=col>&lt;chr&gt;</th><th scope=col>&lt;int&gt;</th></tr>\n",
       "</thead>\n",
       "<tbody>\n",
       "\t<tr><td>mariaguadalupe </td><td>8</td></tr>\n",
       "\t<tr><td>mariaguadalupe </td><td>8</td></tr>\n",
       "\t<tr><td>mariadelrosario</td><td>8</td></tr>\n",
       "\t<tr><td>mariaguadalupe </td><td>8</td></tr>\n",
       "\t<tr><td>mariaguadalupe </td><td>8</td></tr>\n",
       "\t<tr><td>mariaguadalupe </td><td>8</td></tr>\n",
       "\t<tr><td>mariaguadalupe </td><td>8</td></tr>\n",
       "\t<tr><td>mariaguadalupe </td><td>8</td></tr>\n",
       "\t<tr><td>mariadelrosario</td><td>8</td></tr>\n",
       "\t<tr><td>mariaguadalupe </td><td>8</td></tr>\n",
       "\t<tr><td>mariadelrosario</td><td>8</td></tr>\n",
       "\t<tr><td>mariaguadalupe </td><td>8</td></tr>\n",
       "\t<tr><td>mariaguadalupe </td><td>8</td></tr>\n",
       "\t<tr><td>mariaguadalupe </td><td>8</td></tr>\n",
       "\t<tr><td>mariaguadalupe </td><td>8</td></tr>\n",
       "\t<tr><td>mariaguadalupe </td><td>8</td></tr>\n",
       "\t<tr><td>mariaguadalupe </td><td>8</td></tr>\n",
       "\t<tr><td>mariaguadalupe </td><td>8</td></tr>\n",
       "\t<tr><td>mariaguadalupe </td><td>8</td></tr>\n",
       "\t<tr><td>mariaguadalupe </td><td>8</td></tr>\n",
       "\t<tr><td>mariaguadalupe </td><td>8</td></tr>\n",
       "\t<tr><td>mariaguadalupe </td><td>8</td></tr>\n",
       "\t<tr><td>mariaguadalupe </td><td>8</td></tr>\n",
       "\t<tr><td>mariaguadalupe </td><td>8</td></tr>\n",
       "\t<tr><td>mariaguadalupe </td><td>8</td></tr>\n",
       "\t<tr><td>mariaguadalupe </td><td>8</td></tr>\n",
       "\t<tr><td>mariaguadalupe </td><td>8</td></tr>\n",
       "\t<tr><td>mariaguadalupe </td><td>8</td></tr>\n",
       "\t<tr><td>mariaguadalupe </td><td>8</td></tr>\n",
       "\t<tr><td>mariaguadalupe </td><td>8</td></tr>\n",
       "\t<tr><td>⋮</td><td>⋮</td></tr>\n",
       "\t<tr><td>jt    </td><td>0</td></tr>\n",
       "\t<tr><td>sy    </td><td>0</td></tr>\n",
       "\t<tr><td>jp    </td><td>0</td></tr>\n",
       "\t<tr><td>lynk  </td><td>0</td></tr>\n",
       "\t<tr><td>mj    </td><td>0</td></tr>\n",
       "\t<tr><td>khy   </td><td>0</td></tr>\n",
       "\t<tr><td>lj    </td><td>0</td></tr>\n",
       "\t<tr><td>rylynn</td><td>0</td></tr>\n",
       "\t<tr><td>flynt </td><td>0</td></tr>\n",
       "\t<tr><td>hy    </td><td>0</td></tr>\n",
       "\t<tr><td>jb    </td><td>0</td></tr>\n",
       "\t<tr><td>kynng </td><td>0</td></tr>\n",
       "\t<tr><td>mylz  </td><td>0</td></tr>\n",
       "\t<tr><td>brynn </td><td>0</td></tr>\n",
       "\t<tr><td>brysyn</td><td>0</td></tr>\n",
       "\t<tr><td>kyryn </td><td>0</td></tr>\n",
       "\t<tr><td>lc    </td><td>0</td></tr>\n",
       "\t<tr><td>ry    </td><td>0</td></tr>\n",
       "\t<tr><td>syd   </td><td>0</td></tr>\n",
       "\t<tr><td>trypp </td><td>0</td></tr>\n",
       "\t<tr><td>tylynn</td><td>0</td></tr>\n",
       "\t<tr><td>bb    </td><td>0</td></tr>\n",
       "\t<tr><td>brycyn</td><td>0</td></tr>\n",
       "\t<tr><td>chrys </td><td>0</td></tr>\n",
       "\t<tr><td>jw    </td><td>0</td></tr>\n",
       "\t<tr><td>kdyn  </td><td>0</td></tr>\n",
       "\t<tr><td>ksyn  </td><td>0</td></tr>\n",
       "\t<tr><td>kysyn </td><td>0</td></tr>\n",
       "\t<tr><td>tryg  </td><td>0</td></tr>\n",
       "\t<tr><td>zy    </td><td>0</td></tr>\n",
       "</tbody>\n",
       "</table>\n"
      ],
      "text/latex": [
       "A grouped\\_df: 1924665 × 2\n",
       "\\begin{tabular}{ll}\n",
       " name & vowels\\\\\n",
       " <chr> & <int>\\\\\n",
       "\\hline\n",
       "\t mariaguadalupe  & 8\\\\\n",
       "\t mariaguadalupe  & 8\\\\\n",
       "\t mariadelrosario & 8\\\\\n",
       "\t mariaguadalupe  & 8\\\\\n",
       "\t mariaguadalupe  & 8\\\\\n",
       "\t mariaguadalupe  & 8\\\\\n",
       "\t mariaguadalupe  & 8\\\\\n",
       "\t mariaguadalupe  & 8\\\\\n",
       "\t mariadelrosario & 8\\\\\n",
       "\t mariaguadalupe  & 8\\\\\n",
       "\t mariadelrosario & 8\\\\\n",
       "\t mariaguadalupe  & 8\\\\\n",
       "\t mariaguadalupe  & 8\\\\\n",
       "\t mariaguadalupe  & 8\\\\\n",
       "\t mariaguadalupe  & 8\\\\\n",
       "\t mariaguadalupe  & 8\\\\\n",
       "\t mariaguadalupe  & 8\\\\\n",
       "\t mariaguadalupe  & 8\\\\\n",
       "\t mariaguadalupe  & 8\\\\\n",
       "\t mariaguadalupe  & 8\\\\\n",
       "\t mariaguadalupe  & 8\\\\\n",
       "\t mariaguadalupe  & 8\\\\\n",
       "\t mariaguadalupe  & 8\\\\\n",
       "\t mariaguadalupe  & 8\\\\\n",
       "\t mariaguadalupe  & 8\\\\\n",
       "\t mariaguadalupe  & 8\\\\\n",
       "\t mariaguadalupe  & 8\\\\\n",
       "\t mariaguadalupe  & 8\\\\\n",
       "\t mariaguadalupe  & 8\\\\\n",
       "\t mariaguadalupe  & 8\\\\\n",
       "\t ⋮ & ⋮\\\\\n",
       "\t jt     & 0\\\\\n",
       "\t sy     & 0\\\\\n",
       "\t jp     & 0\\\\\n",
       "\t lynk   & 0\\\\\n",
       "\t mj     & 0\\\\\n",
       "\t khy    & 0\\\\\n",
       "\t lj     & 0\\\\\n",
       "\t rylynn & 0\\\\\n",
       "\t flynt  & 0\\\\\n",
       "\t hy     & 0\\\\\n",
       "\t jb     & 0\\\\\n",
       "\t kynng  & 0\\\\\n",
       "\t mylz   & 0\\\\\n",
       "\t brynn  & 0\\\\\n",
       "\t brysyn & 0\\\\\n",
       "\t kyryn  & 0\\\\\n",
       "\t lc     & 0\\\\\n",
       "\t ry     & 0\\\\\n",
       "\t syd    & 0\\\\\n",
       "\t trypp  & 0\\\\\n",
       "\t tylynn & 0\\\\\n",
       "\t bb     & 0\\\\\n",
       "\t brycyn & 0\\\\\n",
       "\t chrys  & 0\\\\\n",
       "\t jw     & 0\\\\\n",
       "\t kdyn   & 0\\\\\n",
       "\t ksyn   & 0\\\\\n",
       "\t kysyn  & 0\\\\\n",
       "\t tryg   & 0\\\\\n",
       "\t zy     & 0\\\\\n",
       "\\end{tabular}\n"
      ],
      "text/markdown": [
       "\n",
       "A grouped_df: 1924665 × 2\n",
       "\n",
       "| name &lt;chr&gt; | vowels &lt;int&gt; |\n",
       "|---|---|\n",
       "| mariaguadalupe  | 8 |\n",
       "| mariaguadalupe  | 8 |\n",
       "| mariadelrosario | 8 |\n",
       "| mariaguadalupe  | 8 |\n",
       "| mariaguadalupe  | 8 |\n",
       "| mariaguadalupe  | 8 |\n",
       "| mariaguadalupe  | 8 |\n",
       "| mariaguadalupe  | 8 |\n",
       "| mariadelrosario | 8 |\n",
       "| mariaguadalupe  | 8 |\n",
       "| mariadelrosario | 8 |\n",
       "| mariaguadalupe  | 8 |\n",
       "| mariaguadalupe  | 8 |\n",
       "| mariaguadalupe  | 8 |\n",
       "| mariaguadalupe  | 8 |\n",
       "| mariaguadalupe  | 8 |\n",
       "| mariaguadalupe  | 8 |\n",
       "| mariaguadalupe  | 8 |\n",
       "| mariaguadalupe  | 8 |\n",
       "| mariaguadalupe  | 8 |\n",
       "| mariaguadalupe  | 8 |\n",
       "| mariaguadalupe  | 8 |\n",
       "| mariaguadalupe  | 8 |\n",
       "| mariaguadalupe  | 8 |\n",
       "| mariaguadalupe  | 8 |\n",
       "| mariaguadalupe  | 8 |\n",
       "| mariaguadalupe  | 8 |\n",
       "| mariaguadalupe  | 8 |\n",
       "| mariaguadalupe  | 8 |\n",
       "| mariaguadalupe  | 8 |\n",
       "| ⋮ | ⋮ |\n",
       "| jt     | 0 |\n",
       "| sy     | 0 |\n",
       "| jp     | 0 |\n",
       "| lynk   | 0 |\n",
       "| mj     | 0 |\n",
       "| khy    | 0 |\n",
       "| lj     | 0 |\n",
       "| rylynn | 0 |\n",
       "| flynt  | 0 |\n",
       "| hy     | 0 |\n",
       "| jb     | 0 |\n",
       "| kynng  | 0 |\n",
       "| mylz   | 0 |\n",
       "| brynn  | 0 |\n",
       "| brysyn | 0 |\n",
       "| kyryn  | 0 |\n",
       "| lc     | 0 |\n",
       "| ry     | 0 |\n",
       "| syd    | 0 |\n",
       "| trypp  | 0 |\n",
       "| tylynn | 0 |\n",
       "| bb     | 0 |\n",
       "| brycyn | 0 |\n",
       "| chrys  | 0 |\n",
       "| jw     | 0 |\n",
       "| kdyn   | 0 |\n",
       "| ksyn   | 0 |\n",
       "| kysyn  | 0 |\n",
       "| tryg   | 0 |\n",
       "| zy     | 0 |\n",
       "\n"
      ],
      "text/plain": [
       "        name            vowels\n",
       "1       mariaguadalupe  8     \n",
       "2       mariaguadalupe  8     \n",
       "3       mariadelrosario 8     \n",
       "4       mariaguadalupe  8     \n",
       "5       mariaguadalupe  8     \n",
       "6       mariaguadalupe  8     \n",
       "7       mariaguadalupe  8     \n",
       "8       mariaguadalupe  8     \n",
       "9       mariadelrosario 8     \n",
       "10      mariaguadalupe  8     \n",
       "11      mariadelrosario 8     \n",
       "12      mariaguadalupe  8     \n",
       "13      mariaguadalupe  8     \n",
       "14      mariaguadalupe  8     \n",
       "15      mariaguadalupe  8     \n",
       "16      mariaguadalupe  8     \n",
       "17      mariaguadalupe  8     \n",
       "18      mariaguadalupe  8     \n",
       "19      mariaguadalupe  8     \n",
       "20      mariaguadalupe  8     \n",
       "21      mariaguadalupe  8     \n",
       "22      mariaguadalupe  8     \n",
       "23      mariaguadalupe  8     \n",
       "24      mariaguadalupe  8     \n",
       "25      mariaguadalupe  8     \n",
       "26      mariaguadalupe  8     \n",
       "27      mariaguadalupe  8     \n",
       "28      mariaguadalupe  8     \n",
       "29      mariaguadalupe  8     \n",
       "30      mariaguadalupe  8     \n",
       "⋮       ⋮               ⋮     \n",
       "1924636 jt              0     \n",
       "1924637 sy              0     \n",
       "1924638 jp              0     \n",
       "1924639 lynk            0     \n",
       "1924640 mj              0     \n",
       "1924641 khy             0     \n",
       "1924642 lj              0     \n",
       "1924643 rylynn          0     \n",
       "1924644 flynt           0     \n",
       "1924645 hy              0     \n",
       "1924646 jb              0     \n",
       "1924647 kynng           0     \n",
       "1924648 mylz            0     \n",
       "1924649 brynn           0     \n",
       "1924650 brysyn          0     \n",
       "1924651 kyryn           0     \n",
       "1924652 lc              0     \n",
       "1924653 ry              0     \n",
       "1924654 syd             0     \n",
       "1924655 trypp           0     \n",
       "1924656 tylynn          0     \n",
       "1924657 bb              0     \n",
       "1924658 brycyn          0     \n",
       "1924659 chrys           0     \n",
       "1924660 jw              0     \n",
       "1924661 kdyn            0     \n",
       "1924662 ksyn            0     \n",
       "1924663 kysyn           0     \n",
       "1924664 tryg            0     \n",
       "1924665 zy              0     "
      ]
     },
     "metadata": {},
     "output_type": "display_data"
    },
    {
     "data": {
      "text/html": [
       "<table class=\"dataframe\">\n",
       "<caption>A tibble: 1924665 × 2</caption>\n",
       "<thead>\n",
       "\t<tr><th scope=col>name</th><th scope=col>vowel_prop</th></tr>\n",
       "\t<tr><th scope=col>&lt;chr&gt;</th><th scope=col>&lt;dbl&gt;</th></tr>\n",
       "</thead>\n",
       "<tbody>\n",
       "\t<tr><td>eua</td><td>1</td></tr>\n",
       "\t<tr><td>eua</td><td>1</td></tr>\n",
       "\t<tr><td>eua</td><td>1</td></tr>\n",
       "\t<tr><td>eua</td><td>1</td></tr>\n",
       "\t<tr><td>ea </td><td>1</td></tr>\n",
       "\t<tr><td>ai </td><td>1</td></tr>\n",
       "\t<tr><td>ai </td><td>1</td></tr>\n",
       "\t<tr><td>ai </td><td>1</td></tr>\n",
       "\t<tr><td>ia </td><td>1</td></tr>\n",
       "\t<tr><td>ai </td><td>1</td></tr>\n",
       "\t<tr><td>ai </td><td>1</td></tr>\n",
       "\t<tr><td>ai </td><td>1</td></tr>\n",
       "\t<tr><td>ia </td><td>1</td></tr>\n",
       "\t<tr><td>ai </td><td>1</td></tr>\n",
       "\t<tr><td>ia </td><td>1</td></tr>\n",
       "\t<tr><td>ai </td><td>1</td></tr>\n",
       "\t<tr><td>ia </td><td>1</td></tr>\n",
       "\t<tr><td>ai </td><td>1</td></tr>\n",
       "\t<tr><td>ia </td><td>1</td></tr>\n",
       "\t<tr><td>ia </td><td>1</td></tr>\n",
       "\t<tr><td>ai </td><td>1</td></tr>\n",
       "\t<tr><td>ai </td><td>1</td></tr>\n",
       "\t<tr><td>ai </td><td>1</td></tr>\n",
       "\t<tr><td>ia </td><td>1</td></tr>\n",
       "\t<tr><td>ai </td><td>1</td></tr>\n",
       "\t<tr><td>ia </td><td>1</td></tr>\n",
       "\t<tr><td>ai </td><td>1</td></tr>\n",
       "\t<tr><td>ia </td><td>1</td></tr>\n",
       "\t<tr><td>ai </td><td>1</td></tr>\n",
       "\t<tr><td>ia </td><td>1</td></tr>\n",
       "\t<tr><td>⋮</td><td>⋮</td></tr>\n",
       "\t<tr><td>jt    </td><td>0</td></tr>\n",
       "\t<tr><td>sy    </td><td>0</td></tr>\n",
       "\t<tr><td>jp    </td><td>0</td></tr>\n",
       "\t<tr><td>lynk  </td><td>0</td></tr>\n",
       "\t<tr><td>mj    </td><td>0</td></tr>\n",
       "\t<tr><td>khy   </td><td>0</td></tr>\n",
       "\t<tr><td>lj    </td><td>0</td></tr>\n",
       "\t<tr><td>rylynn</td><td>0</td></tr>\n",
       "\t<tr><td>flynt </td><td>0</td></tr>\n",
       "\t<tr><td>hy    </td><td>0</td></tr>\n",
       "\t<tr><td>jb    </td><td>0</td></tr>\n",
       "\t<tr><td>kynng </td><td>0</td></tr>\n",
       "\t<tr><td>mylz  </td><td>0</td></tr>\n",
       "\t<tr><td>brynn </td><td>0</td></tr>\n",
       "\t<tr><td>brysyn</td><td>0</td></tr>\n",
       "\t<tr><td>kyryn </td><td>0</td></tr>\n",
       "\t<tr><td>lc    </td><td>0</td></tr>\n",
       "\t<tr><td>ry    </td><td>0</td></tr>\n",
       "\t<tr><td>syd   </td><td>0</td></tr>\n",
       "\t<tr><td>trypp </td><td>0</td></tr>\n",
       "\t<tr><td>tylynn</td><td>0</td></tr>\n",
       "\t<tr><td>bb    </td><td>0</td></tr>\n",
       "\t<tr><td>brycyn</td><td>0</td></tr>\n",
       "\t<tr><td>chrys </td><td>0</td></tr>\n",
       "\t<tr><td>jw    </td><td>0</td></tr>\n",
       "\t<tr><td>kdyn  </td><td>0</td></tr>\n",
       "\t<tr><td>ksyn  </td><td>0</td></tr>\n",
       "\t<tr><td>kysyn </td><td>0</td></tr>\n",
       "\t<tr><td>tryg  </td><td>0</td></tr>\n",
       "\t<tr><td>zy    </td><td>0</td></tr>\n",
       "</tbody>\n",
       "</table>\n"
      ],
      "text/latex": [
       "A tibble: 1924665 × 2\n",
       "\\begin{tabular}{ll}\n",
       " name & vowel\\_prop\\\\\n",
       " <chr> & <dbl>\\\\\n",
       "\\hline\n",
       "\t eua & 1\\\\\n",
       "\t eua & 1\\\\\n",
       "\t eua & 1\\\\\n",
       "\t eua & 1\\\\\n",
       "\t ea  & 1\\\\\n",
       "\t ai  & 1\\\\\n",
       "\t ai  & 1\\\\\n",
       "\t ai  & 1\\\\\n",
       "\t ia  & 1\\\\\n",
       "\t ai  & 1\\\\\n",
       "\t ai  & 1\\\\\n",
       "\t ai  & 1\\\\\n",
       "\t ia  & 1\\\\\n",
       "\t ai  & 1\\\\\n",
       "\t ia  & 1\\\\\n",
       "\t ai  & 1\\\\\n",
       "\t ia  & 1\\\\\n",
       "\t ai  & 1\\\\\n",
       "\t ia  & 1\\\\\n",
       "\t ia  & 1\\\\\n",
       "\t ai  & 1\\\\\n",
       "\t ai  & 1\\\\\n",
       "\t ai  & 1\\\\\n",
       "\t ia  & 1\\\\\n",
       "\t ai  & 1\\\\\n",
       "\t ia  & 1\\\\\n",
       "\t ai  & 1\\\\\n",
       "\t ia  & 1\\\\\n",
       "\t ai  & 1\\\\\n",
       "\t ia  & 1\\\\\n",
       "\t ⋮ & ⋮\\\\\n",
       "\t jt     & 0\\\\\n",
       "\t sy     & 0\\\\\n",
       "\t jp     & 0\\\\\n",
       "\t lynk   & 0\\\\\n",
       "\t mj     & 0\\\\\n",
       "\t khy    & 0\\\\\n",
       "\t lj     & 0\\\\\n",
       "\t rylynn & 0\\\\\n",
       "\t flynt  & 0\\\\\n",
       "\t hy     & 0\\\\\n",
       "\t jb     & 0\\\\\n",
       "\t kynng  & 0\\\\\n",
       "\t mylz   & 0\\\\\n",
       "\t brynn  & 0\\\\\n",
       "\t brysyn & 0\\\\\n",
       "\t kyryn  & 0\\\\\n",
       "\t lc     & 0\\\\\n",
       "\t ry     & 0\\\\\n",
       "\t syd    & 0\\\\\n",
       "\t trypp  & 0\\\\\n",
       "\t tylynn & 0\\\\\n",
       "\t bb     & 0\\\\\n",
       "\t brycyn & 0\\\\\n",
       "\t chrys  & 0\\\\\n",
       "\t jw     & 0\\\\\n",
       "\t kdyn   & 0\\\\\n",
       "\t ksyn   & 0\\\\\n",
       "\t kysyn  & 0\\\\\n",
       "\t tryg   & 0\\\\\n",
       "\t zy     & 0\\\\\n",
       "\\end{tabular}\n"
      ],
      "text/markdown": [
       "\n",
       "A tibble: 1924665 × 2\n",
       "\n",
       "| name &lt;chr&gt; | vowel_prop &lt;dbl&gt; |\n",
       "|---|---|\n",
       "| eua | 1 |\n",
       "| eua | 1 |\n",
       "| eua | 1 |\n",
       "| eua | 1 |\n",
       "| ea  | 1 |\n",
       "| ai  | 1 |\n",
       "| ai  | 1 |\n",
       "| ai  | 1 |\n",
       "| ia  | 1 |\n",
       "| ai  | 1 |\n",
       "| ai  | 1 |\n",
       "| ai  | 1 |\n",
       "| ia  | 1 |\n",
       "| ai  | 1 |\n",
       "| ia  | 1 |\n",
       "| ai  | 1 |\n",
       "| ia  | 1 |\n",
       "| ai  | 1 |\n",
       "| ia  | 1 |\n",
       "| ia  | 1 |\n",
       "| ai  | 1 |\n",
       "| ai  | 1 |\n",
       "| ai  | 1 |\n",
       "| ia  | 1 |\n",
       "| ai  | 1 |\n",
       "| ia  | 1 |\n",
       "| ai  | 1 |\n",
       "| ia  | 1 |\n",
       "| ai  | 1 |\n",
       "| ia  | 1 |\n",
       "| ⋮ | ⋮ |\n",
       "| jt     | 0 |\n",
       "| sy     | 0 |\n",
       "| jp     | 0 |\n",
       "| lynk   | 0 |\n",
       "| mj     | 0 |\n",
       "| khy    | 0 |\n",
       "| lj     | 0 |\n",
       "| rylynn | 0 |\n",
       "| flynt  | 0 |\n",
       "| hy     | 0 |\n",
       "| jb     | 0 |\n",
       "| kynng  | 0 |\n",
       "| mylz   | 0 |\n",
       "| brynn  | 0 |\n",
       "| brysyn | 0 |\n",
       "| kyryn  | 0 |\n",
       "| lc     | 0 |\n",
       "| ry     | 0 |\n",
       "| syd    | 0 |\n",
       "| trypp  | 0 |\n",
       "| tylynn | 0 |\n",
       "| bb     | 0 |\n",
       "| brycyn | 0 |\n",
       "| chrys  | 0 |\n",
       "| jw     | 0 |\n",
       "| kdyn   | 0 |\n",
       "| ksyn   | 0 |\n",
       "| kysyn  | 0 |\n",
       "| tryg   | 0 |\n",
       "| zy     | 0 |\n",
       "\n"
      ],
      "text/plain": [
       "        name   vowel_prop\n",
       "1       eua    1         \n",
       "2       eua    1         \n",
       "3       eua    1         \n",
       "4       eua    1         \n",
       "5       ea     1         \n",
       "6       ai     1         \n",
       "7       ai     1         \n",
       "8       ai     1         \n",
       "9       ia     1         \n",
       "10      ai     1         \n",
       "11      ai     1         \n",
       "12      ai     1         \n",
       "13      ia     1         \n",
       "14      ai     1         \n",
       "15      ia     1         \n",
       "16      ai     1         \n",
       "17      ia     1         \n",
       "18      ai     1         \n",
       "19      ia     1         \n",
       "20      ia     1         \n",
       "21      ai     1         \n",
       "22      ai     1         \n",
       "23      ai     1         \n",
       "24      ia     1         \n",
       "25      ai     1         \n",
       "26      ia     1         \n",
       "27      ai     1         \n",
       "28      ia     1         \n",
       "29      ai     1         \n",
       "30      ia     1         \n",
       "⋮       ⋮      ⋮         \n",
       "1924636 jt     0         \n",
       "1924637 sy     0         \n",
       "1924638 jp     0         \n",
       "1924639 lynk   0         \n",
       "1924640 mj     0         \n",
       "1924641 khy    0         \n",
       "1924642 lj     0         \n",
       "1924643 rylynn 0         \n",
       "1924644 flynt  0         \n",
       "1924645 hy     0         \n",
       "1924646 jb     0         \n",
       "1924647 kynng  0         \n",
       "1924648 mylz   0         \n",
       "1924649 brynn  0         \n",
       "1924650 brysyn 0         \n",
       "1924651 kyryn  0         \n",
       "1924652 lc     0         \n",
       "1924653 ry     0         \n",
       "1924654 syd    0         \n",
       "1924655 trypp  0         \n",
       "1924656 tylynn 0         \n",
       "1924657 bb     0         \n",
       "1924658 brycyn 0         \n",
       "1924659 chrys  0         \n",
       "1924660 jw     0         \n",
       "1924661 kdyn   0         \n",
       "1924662 ksyn   0         \n",
       "1924663 kysyn  0         \n",
       "1924664 tryg   0         \n",
       "1924665 zy     0         "
      ]
     },
     "metadata": {},
     "output_type": "display_data"
    }
   ],
   "source": [
    "babynames |> \n",
    "  mutate(\n",
    "    name = str_to_lower(name),\n",
    "    vowels = str_count(name, \"[aeiou]\")\n",
    "  ) |>\n",
    "  select(name, vowels) |>\n",
    "  group_by(name) |>\n",
    "  arrange(desc(vowels))\n",
    "\n",
    "babynames |> \n",
    "  mutate(\n",
    "    name = str_to_lower(name),\n",
    "    vowel_prop = as.double(str_count(name, \"[aeiou]\") / str_length(name))\n",
    "  ) |>\n",
    "  select(name, vowel_prop) |>\n",
    "  arrange(desc(vowel_prop))"
   ]
  },
  {
   "attachments": {},
   "cell_type": "markdown",
   "metadata": {},
   "source": [
    "mariaguadalupe and mariadelrosario have the most vowels. There are many names listed above that are only vowels."
   ]
  },
  {
   "attachments": {},
   "cell_type": "markdown",
   "metadata": {},
   "source": [
    "2. Replace all forward slashes in \"a/b/c/d/e\" with backslashes. What happens if you attempt to undo the transformation by replacing all backslashes with forward slashes? (We’ll discuss the problem very soon.)"
   ]
  },
  {
   "cell_type": "code",
   "execution_count": 28,
   "metadata": {
    "vscode": {
     "languageId": "r"
    }
   },
   "outputs": [
    {
     "data": {
      "text/plain": [
       "\u001b[90m[1] │\u001b[39m a\\b\\c\\d\\e"
      ]
     },
     "metadata": {},
     "output_type": "display_data"
    },
    {
     "data": {
      "text/plain": [
       "\u001b[90m[1] │\u001b[39m a/b/c/d/e"
      ]
     },
     "metadata": {},
     "output_type": "display_data"
    }
   ],
   "source": [
    "str_view(str_replace_all(\"a/b/c/d/e\", \"/\", \"\\\\\\\\\"))\n",
    "str_view(str_replace_all(\"a/b/c/d/e\", \"\\\\\\\\\", \"/\"))"
   ]
  },
  {
   "attachments": {},
   "cell_type": "markdown",
   "metadata": {},
   "source": [
    "3. Implement a simple version of str_to_lower() using str_replace_all()."
   ]
  },
  {
   "cell_type": "code",
   "execution_count": 33,
   "metadata": {
    "vscode": {
     "languageId": "r"
    }
   },
   "outputs": [
    {
     "data": {
      "text/html": [
       "<style>\n",
       ".list-inline {list-style: none; margin:0; padding: 0}\n",
       ".list-inline>li {display: inline-block}\n",
       ".list-inline>li:not(:last-child)::after {content: \"\\00b7\"; padding: 0 .5ex}\n",
       "</style>\n",
       "<ol class=list-inline><li>'apple'</li><li>'pear'</li><li>'banana'</li></ol>\n"
      ],
      "text/latex": [
       "\\begin{enumerate*}\n",
       "\\item 'apple'\n",
       "\\item 'pear'\n",
       "\\item 'banana'\n",
       "\\end{enumerate*}\n"
      ],
      "text/markdown": [
       "1. 'apple'\n",
       "2. 'pear'\n",
       "3. 'banana'\n",
       "\n",
       "\n"
      ],
      "text/plain": [
       "[1] \"apple\"  \"pear\"   \"banana\""
      ]
     },
     "metadata": {},
     "output_type": "display_data"
    }
   ],
   "source": [
    "x <- c(\"APPLE\", \"Pear\", \"banana\")\n",
    "str_replace_all(x, \"[A-Z]\", tolower)"
   ]
  },
  {
   "attachments": {},
   "cell_type": "markdown",
   "metadata": {},
   "source": [
    "4. Create a regular expression that will match telephone numbers as commonly written in your country."
   ]
  },
  {
   "cell_type": "code",
   "execution_count": 38,
   "metadata": {
    "vscode": {
     "languageId": "r"
    }
   },
   "outputs": [
    {
     "data": {
      "text/html": [
       "<style>\n",
       ".list-inline {list-style: none; margin:0; padding: 0}\n",
       ".list-inline>li {display: inline-block}\n",
       ".list-inline>li:not(:last-child)::after {content: \"\\00b7\"; padding: 0 .5ex}\n",
       "</style>\n",
       "<ol class=list-inline><li>TRUE</li><li>FALSE</li></ol>\n"
      ],
      "text/latex": [
       "\\begin{enumerate*}\n",
       "\\item TRUE\n",
       "\\item FALSE\n",
       "\\end{enumerate*}\n"
      ],
      "text/markdown": [
       "1. TRUE\n",
       "2. FALSE\n",
       "\n",
       "\n"
      ],
      "text/plain": [
       "[1]  TRUE FALSE"
      ]
     },
     "metadata": {},
     "output_type": "display_data"
    }
   ],
   "source": [
    "example <- c(\"(123)-456-7890\", \"23(8)98-7-34\")\n",
    "str_detect(example, \"\\\\([0-9]+\\\\)\\\\-[0-9]+\\\\-[0-9]+\")"
   ]
  },
  {
   "attachments": {},
   "cell_type": "markdown",
   "metadata": {},
   "source": [
    "## [15.4.7 Exercises](https://r4ds.hadley.nz/regexps#exercises-1)"
   ]
  },
  {
   "attachments": {},
   "cell_type": "markdown",
   "metadata": {},
   "source": [
    "1. How would you match the literal string \"'\\\\? How about ```\"$^$\"```?"
   ]
  },
  {
   "cell_type": "code",
   "execution_count": 42,
   "metadata": {
    "vscode": {
     "languageId": "r"
    }
   },
   "outputs": [
    {
     "data": {
      "text/plain": [
       "\u001b[90m[1] │\u001b[39m \u001b[36m<\"'\\>\u001b[39m"
      ]
     },
     "metadata": {},
     "output_type": "display_data"
    },
    {
     "data": {
      "text/plain": [
       "\u001b[90m[1] │\u001b[39m \u001b[36m<\"$^$\">\u001b[39m"
      ]
     },
     "metadata": {},
     "output_type": "display_data"
    }
   ],
   "source": [
    "x <- \"\\\"'\\\\\"\n",
    "str_view(x, \"\\\"'\\\\\\\\\")\n",
    "\n",
    "y <- \"\\\"$^$\\\"\"\n",
    "str_view(y, \"\\\"\\\\$\\\\^\\\\$\\\"\")"
   ]
  },
  {
   "attachments": {},
   "cell_type": "markdown",
   "metadata": {},
   "source": [
    "2. Explain why each of these patterns don’t match a \\: \"\\\\\", \"\\\\\\\\\", \"\\\\\\\\\\\\\"."
   ]
  },
  {
   "attachments": {},
   "cell_type": "markdown",
   "metadata": {},
   "source": [
    "The first one is just an escape. The second escapes the escape, but still needs a character after it. The third doesn't work because you need to escape the last \\ or it doesn't show up."
   ]
  },
  {
   "attachments": {},
   "cell_type": "markdown",
   "metadata": {},
   "source": [
    "3. Given the corpus of common words in stringr::words, create regular expressions that find all words that:\n",
    "\n",
    "    a. Start with “y”.  \n",
    "    b. Don’t start with “y”.  \n",
    "    c. End with “x”.  \n",
    "    d. Are exactly three letters long. (Don’t cheat by using str_length()!)  \n",
    "    e. Have seven letters or more.  \n",
    "    f. Contain a vowel-consonant pair.  \n",
    "    g. Contain at least two vowel-consonant pairs in a row.  \n",
    "    h. Only consist of repeated vowel-consonant pairs.  "
   ]
  },
  {
   "cell_type": "code",
   "execution_count": 56,
   "metadata": {
    "vscode": {
     "languageId": "r"
    }
   },
   "outputs": [
    {
     "name": "stdout",
     "output_type": "stream",
     "text": [
      "Part a"
     ]
    },
    {
     "data": {
      "text/plain": [
       "\u001b[90m[975] │\u001b[39m \u001b[36m<y>\u001b[39mear\n",
       "\u001b[90m[976] │\u001b[39m \u001b[36m<y>\u001b[39mes\n",
       "\u001b[90m[977] │\u001b[39m \u001b[36m<y>\u001b[39mesterday\n",
       "\u001b[90m[978] │\u001b[39m \u001b[36m<y>\u001b[39met\n",
       "\u001b[90m[979] │\u001b[39m \u001b[36m<y>\u001b[39mou\n",
       "\u001b[90m[980] │\u001b[39m \u001b[36m<y>\u001b[39moung"
      ]
     },
     "metadata": {},
     "output_type": "display_data"
    },
    {
     "name": "stdout",
     "output_type": "stream",
     "text": [
      "Part b"
     ]
    },
    {
     "data": {
      "text/plain": [
       "\u001b[90m [1] │\u001b[39m \u001b[36m<a>\u001b[39m\n",
       "\u001b[90m [2] │\u001b[39m \u001b[36m<a>\u001b[39mble\n",
       "\u001b[90m [3] │\u001b[39m \u001b[36m<a>\u001b[39mbout\n",
       "\u001b[90m [4] │\u001b[39m \u001b[36m<a>\u001b[39mbsolute\n",
       "\u001b[90m [5] │\u001b[39m \u001b[36m<a>\u001b[39mccept\n",
       "\u001b[90m [6] │\u001b[39m \u001b[36m<a>\u001b[39mccount\n",
       "\u001b[90m [7] │\u001b[39m \u001b[36m<a>\u001b[39mchieve\n",
       "\u001b[90m [8] │\u001b[39m \u001b[36m<a>\u001b[39mcross\n",
       "\u001b[90m [9] │\u001b[39m \u001b[36m<a>\u001b[39mct\n",
       "\u001b[90m[10] │\u001b[39m \u001b[36m<a>\u001b[39mctive\n",
       "\u001b[90m[11] │\u001b[39m \u001b[36m<a>\u001b[39mctual\n",
       "\u001b[90m[12] │\u001b[39m \u001b[36m<a>\u001b[39mdd\n",
       "\u001b[90m[13] │\u001b[39m \u001b[36m<a>\u001b[39mddress\n",
       "\u001b[90m[14] │\u001b[39m \u001b[36m<a>\u001b[39mdmit\n",
       "\u001b[90m[15] │\u001b[39m \u001b[36m<a>\u001b[39mdvertise\n",
       "\u001b[90m[16] │\u001b[39m \u001b[36m<a>\u001b[39mffect\n",
       "\u001b[90m[17] │\u001b[39m \u001b[36m<a>\u001b[39mfford\n",
       "\u001b[90m[18] │\u001b[39m \u001b[36m<a>\u001b[39mfter\n",
       "\u001b[90m[19] │\u001b[39m \u001b[36m<a>\u001b[39mfternoon\n",
       "\u001b[90m[20] │\u001b[39m \u001b[36m<a>\u001b[39mgain\n",
       "... and 954 more"
      ]
     },
     "metadata": {},
     "output_type": "display_data"
    },
    {
     "name": "stdout",
     "output_type": "stream",
     "text": [
      "Part c"
     ]
    },
    {
     "data": {
      "text/plain": [
       "\u001b[90m[108] │\u001b[39m bo\u001b[36m<x>\u001b[39m\n",
       "\u001b[90m[747] │\u001b[39m se\u001b[36m<x>\u001b[39m\n",
       "\u001b[90m[772] │\u001b[39m si\u001b[36m<x>\u001b[39m\n",
       "\u001b[90m[841] │\u001b[39m ta\u001b[36m<x>\u001b[39m"
      ]
     },
     "metadata": {},
     "output_type": "display_data"
    },
    {
     "name": "stdout",
     "output_type": "stream",
     "text": [
      "Part d"
     ]
    },
    {
     "data": {
      "text/plain": [
       "\u001b[90m  [9] │\u001b[39m \u001b[36m<act>\u001b[39m\n",
       "\u001b[90m [12] │\u001b[39m \u001b[36m<add>\u001b[39m\n",
       "\u001b[90m [22] │\u001b[39m \u001b[36m<age>\u001b[39m\n",
       "\u001b[90m [24] │\u001b[39m \u001b[36m<ago>\u001b[39m\n",
       "\u001b[90m [26] │\u001b[39m \u001b[36m<air>\u001b[39m\n",
       "\u001b[90m [27] │\u001b[39m \u001b[36m<all>\u001b[39m\n",
       "\u001b[90m [38] │\u001b[39m \u001b[36m<and>\u001b[39m\n",
       "\u001b[90m [41] │\u001b[39m \u001b[36m<any>\u001b[39m\n",
       "\u001b[90m [51] │\u001b[39m \u001b[36m<arm>\u001b[39m\n",
       "\u001b[90m [54] │\u001b[39m \u001b[36m<art>\u001b[39m\n",
       "\u001b[90m [56] │\u001b[39m \u001b[36m<ask>\u001b[39m\n",
       "\u001b[90m [68] │\u001b[39m \u001b[36m<bad>\u001b[39m\n",
       "\u001b[90m [69] │\u001b[39m \u001b[36m<bag>\u001b[39m\n",
       "\u001b[90m [73] │\u001b[39m \u001b[36m<bar>\u001b[39m\n",
       "\u001b[90m [82] │\u001b[39m \u001b[36m<bed>\u001b[39m\n",
       "\u001b[90m [89] │\u001b[39m \u001b[36m<bet>\u001b[39m\n",
       "\u001b[90m [91] │\u001b[39m \u001b[36m<big>\u001b[39m\n",
       "\u001b[90m [94] │\u001b[39m \u001b[36m<bit>\u001b[39m\n",
       "\u001b[90m[108] │\u001b[39m \u001b[36m<box>\u001b[39m\n",
       "\u001b[90m[109] │\u001b[39m \u001b[36m<boy>\u001b[39m\n",
       "... and 90 more"
      ]
     },
     "metadata": {},
     "output_type": "display_data"
    },
    {
     "name": "stdout",
     "output_type": "stream",
     "text": [
      "Part e"
     ]
    },
    {
     "data": {
      "text/plain": [
       "\u001b[90m [4] │\u001b[39m \u001b[36m<absolute>\u001b[39m\n",
       "\u001b[90m [6] │\u001b[39m \u001b[36m<account>\u001b[39m\n",
       "\u001b[90m [7] │\u001b[39m \u001b[36m<achieve>\u001b[39m\n",
       "\u001b[90m[13] │\u001b[39m \u001b[36m<address>\u001b[39m\n",
       "\u001b[90m[15] │\u001b[39m \u001b[36m<advertise>\u001b[39m\n",
       "\u001b[90m[19] │\u001b[39m \u001b[36m<afternoon>\u001b[39m\n",
       "\u001b[90m[21] │\u001b[39m \u001b[36m<against>\u001b[39m\n",
       "\u001b[90m[31] │\u001b[39m \u001b[36m<already>\u001b[39m\n",
       "\u001b[90m[32] │\u001b[39m \u001b[36m<alright>\u001b[39m\n",
       "\u001b[90m[34] │\u001b[39m \u001b[36m<although>\u001b[39m\n",
       "\u001b[90m[36] │\u001b[39m \u001b[36m<america>\u001b[39m\n",
       "\u001b[90m[39] │\u001b[39m \u001b[36m<another>\u001b[39m\n",
       "\u001b[90m[43] │\u001b[39m \u001b[36m<apparent>\u001b[39m\n",
       "\u001b[90m[46] │\u001b[39m \u001b[36m<appoint>\u001b[39m\n",
       "\u001b[90m[47] │\u001b[39m \u001b[36m<approach>\u001b[39m\n",
       "\u001b[90m[48] │\u001b[39m \u001b[36m<appropriate>\u001b[39m\n",
       "\u001b[90m[53] │\u001b[39m \u001b[36m<arrange>\u001b[39m\n",
       "\u001b[90m[57] │\u001b[39m \u001b[36m<associate>\u001b[39m\n",
       "\u001b[90m[61] │\u001b[39m \u001b[36m<authority>\u001b[39m\n",
       "\u001b[90m[62] │\u001b[39m \u001b[36m<available>\u001b[39m\n",
       "... and 199 more"
      ]
     },
     "metadata": {},
     "output_type": "display_data"
    },
    {
     "name": "stdout",
     "output_type": "stream",
     "text": [
      "Part f"
     ]
    },
    {
     "data": {
      "text/plain": [
       "\u001b[90m [2] │\u001b[39m \u001b[36m<ab>\u001b[39mle\n",
       "\u001b[90m [3] │\u001b[39m \u001b[36m<ab>\u001b[39mo\u001b[36m<ut>\u001b[39m\n",
       "\u001b[90m [4] │\u001b[39m \u001b[36m<ab>\u001b[39ms\u001b[36m<ol>\u001b[39m\u001b[36m<ut>\u001b[39me\n",
       "\u001b[90m [5] │\u001b[39m \u001b[36m<ac>\u001b[39mc\u001b[36m<ep>\u001b[39mt\n",
       "\u001b[90m [6] │\u001b[39m \u001b[36m<ac>\u001b[39mco\u001b[36m<un>\u001b[39mt\n",
       "\u001b[90m [7] │\u001b[39m \u001b[36m<ac>\u001b[39mhi\u001b[36m<ev>\u001b[39me\n",
       "\u001b[90m [8] │\u001b[39m \u001b[36m<ac>\u001b[39mr\u001b[36m<os>\u001b[39ms\n",
       "\u001b[90m [9] │\u001b[39m \u001b[36m<ac>\u001b[39mt\n",
       "\u001b[90m[10] │\u001b[39m \u001b[36m<ac>\u001b[39mt\u001b[36m<iv>\u001b[39me\n",
       "\u001b[90m[11] │\u001b[39m \u001b[36m<ac>\u001b[39mtu\u001b[36m<al>\u001b[39m\n",
       "\u001b[90m[12] │\u001b[39m \u001b[36m<ad>\u001b[39md\n",
       "\u001b[90m[13] │\u001b[39m \u001b[36m<ad>\u001b[39mdr\u001b[36m<es>\u001b[39ms\n",
       "\u001b[90m[14] │\u001b[39m \u001b[36m<ad>\u001b[39mm\u001b[36m<it>\u001b[39m\n",
       "\u001b[90m[15] │\u001b[39m \u001b[36m<ad>\u001b[39mv\u001b[36m<er>\u001b[39mt\u001b[36m<is>\u001b[39me\n",
       "\u001b[90m[16] │\u001b[39m \u001b[36m<af>\u001b[39mf\u001b[36m<ec>\u001b[39mt\n",
       "\u001b[90m[17] │\u001b[39m \u001b[36m<af>\u001b[39mf\u001b[36m<or>\u001b[39md\n",
       "\u001b[90m[18] │\u001b[39m \u001b[36m<af>\u001b[39mt\u001b[36m<er>\u001b[39m\n",
       "\u001b[90m[19] │\u001b[39m \u001b[36m<af>\u001b[39mt\u001b[36m<er>\u001b[39mno\u001b[36m<on>\u001b[39m\n",
       "\u001b[90m[20] │\u001b[39m \u001b[36m<ag>\u001b[39ma\u001b[36m<in>\u001b[39m\n",
       "\u001b[90m[21] │\u001b[39m \u001b[36m<ag>\u001b[39ma\u001b[36m<in>\u001b[39mst\n",
       "... and 924 more"
      ]
     },
     "metadata": {},
     "output_type": "display_data"
    },
    {
     "name": "stdout",
     "output_type": "stream",
     "text": [
      "Part g"
     ]
    },
    {
     "data": {
      "text/plain": [
       "\u001b[90m  [4] │\u001b[39m abs\u001b[36m<olut>\u001b[39me\n",
       "\u001b[90m [23] │\u001b[39m \u001b[36m<agen>\u001b[39mt\n",
       "\u001b[90m [30] │\u001b[39m \u001b[36m<alon>\u001b[39mg\n",
       "\u001b[90m [36] │\u001b[39m \u001b[36m<amer>\u001b[39mica\n",
       "\u001b[90m [39] │\u001b[39m \u001b[36m<anot>\u001b[39mher\n",
       "\u001b[90m [42] │\u001b[39m \u001b[36m<apar>\u001b[39mt\n",
       "\u001b[90m [43] │\u001b[39m app\u001b[36m<aren>\u001b[39mt\n",
       "\u001b[90m [61] │\u001b[39m auth\u001b[36m<orit>\u001b[39my\n",
       "\u001b[90m [62] │\u001b[39m ava\u001b[36m<ilab>\u001b[39mle\n",
       "\u001b[90m [63] │\u001b[39m \u001b[36m<awar>\u001b[39me\n",
       "\u001b[90m [64] │\u001b[39m \u001b[36m<away>\u001b[39m\n",
       "\u001b[90m [70] │\u001b[39m b\u001b[36m<alan>\u001b[39mce\n",
       "\u001b[90m [75] │\u001b[39m b\u001b[36m<asis>\u001b[39m\n",
       "\u001b[90m [81] │\u001b[39m b\u001b[36m<ecom>\u001b[39me\n",
       "\u001b[90m [83] │\u001b[39m b\u001b[36m<efor>\u001b[39me\n",
       "\u001b[90m [84] │\u001b[39m b\u001b[36m<egin>\u001b[39m\n",
       "\u001b[90m [85] │\u001b[39m b\u001b[36m<ehin>\u001b[39md\n",
       "\u001b[90m [87] │\u001b[39m b\u001b[36m<enef>\u001b[39mit\n",
       "\u001b[90m[119] │\u001b[39m b\u001b[36m<usin>\u001b[39mess\n",
       "\u001b[90m[143] │\u001b[39m ch\u001b[36m<arac>\u001b[39mter\n",
       "... and 149 more"
      ]
     },
     "metadata": {},
     "output_type": "display_data"
    },
    {
     "name": "stdout",
     "output_type": "stream",
     "text": [
      "Part h"
     ]
    },
    {
     "data": {
      "text/plain": [
       "\u001b[90m [64] │\u001b[39m \u001b[36m<away>\u001b[39m\n",
       "\u001b[90m[265] │\u001b[39m \u001b[36m<eleven>\u001b[39m\n",
       "\u001b[90m[279] │\u001b[39m \u001b[36m<even>\u001b[39m\n",
       "\u001b[90m[281] │\u001b[39m \u001b[36m<ever>\u001b[39m\n",
       "\u001b[90m[436] │\u001b[39m \u001b[36m<item>\u001b[39m\n",
       "\u001b[90m[573] │\u001b[39m \u001b[36m<okay>\u001b[39m\n",
       "\u001b[90m[579] │\u001b[39m \u001b[36m<open>\u001b[39m\n",
       "\u001b[90m[586] │\u001b[39m \u001b[36m<original>\u001b[39m\n",
       "\u001b[90m[591] │\u001b[39m \u001b[36m<over>\u001b[39m\n",
       "\u001b[90m[905] │\u001b[39m \u001b[36m<unit>\u001b[39m\n",
       "\u001b[90m[911] │\u001b[39m \u001b[36m<upon>\u001b[39m"
      ]
     },
     "metadata": {},
     "output_type": "display_data"
    }
   ],
   "source": [
    "cat(\"Part a\")\n",
    "str_view(words, \"^y\")\n",
    "\n",
    "cat(\"Part b\")\n",
    "str_view(words, \"^[^y]\")\n",
    "\n",
    "cat(\"Part c\")\n",
    "str_view(words, \"x$\")\n",
    "\n",
    "cat(\"Part d\")\n",
    "str_view(words, \"^...$\")\n",
    "\n",
    "cat(\"Part e\")\n",
    "str_view(words, \"[a-zA-z]{7,}\")\n",
    "\n",
    "cat(\"Part f\")\n",
    "str_view(words, \"[aeiou][^aeiou]\")\n",
    "\n",
    "cat(\"Part g\")\n",
    "str_view(words, \"[aeiou][^aeiou][aeiou][^aeiou]\")\n",
    "\n",
    "cat(\"Part h\")\n",
    "str_view(words, \"^(?:[aeiou][^aeiou]){2,}$\")"
   ]
  },
  {
   "attachments": {},
   "cell_type": "markdown",
   "metadata": {},
   "source": [
    "4. Create 11 regular expressions that match the British or American spellings for each of the following words: airplane/aeroplane, aluminum/aluminium, analog/analogue, ass/arse, center/centre, defense/defence, donut/doughnut, gray/grey, modeling/modelling, skeptic/sceptic, summarize/summarise. Try and make the shortest possible regex!"
   ]
  },
  {
   "cell_type": "code",
   "execution_count": 77,
   "metadata": {
    "vscode": {
     "languageId": "r"
    }
   },
   "outputs": [
    {
     "name": "stdout",
     "output_type": "stream",
     "text": [
      "airplane/aeroplane"
     ]
    },
    {
     "data": {
      "text/plain": [
       "\u001b[90m[1] │\u001b[39m \u001b[36m<airplane>\u001b[39m\n",
       "\u001b[90m[2] │\u001b[39m \u001b[36m<aeroplane>\u001b[39m"
      ]
     },
     "metadata": {},
     "output_type": "display_data"
    },
    {
     "name": "stdout",
     "output_type": "stream",
     "text": [
      "aluminum/aluminium"
     ]
    },
    {
     "data": {
      "text/plain": [
       "\u001b[90m[3] │\u001b[39m \u001b[36m<aluminum>\u001b[39m\n",
       "\u001b[90m[4] │\u001b[39m \u001b[36m<aluminium>\u001b[39m"
      ]
     },
     "metadata": {},
     "output_type": "display_data"
    },
    {
     "name": "stdout",
     "output_type": "stream",
     "text": [
      "analog/analogue"
     ]
    },
    {
     "data": {
      "text/plain": [
       "\u001b[90m[5] │\u001b[39m \u001b[36m<analog>\u001b[39m\n",
       "\u001b[90m[6] │\u001b[39m \u001b[36m<analogue>\u001b[39m"
      ]
     },
     "metadata": {},
     "output_type": "display_data"
    },
    {
     "name": "stdout",
     "output_type": "stream",
     "text": [
      "ass/arse"
     ]
    },
    {
     "data": {
      "text/plain": [
       "\u001b[90m[7] │\u001b[39m \u001b[36m<ass>\u001b[39m\n",
       "\u001b[90m[8] │\u001b[39m \u001b[36m<arse>\u001b[39m"
      ]
     },
     "metadata": {},
     "output_type": "display_data"
    },
    {
     "name": "stdout",
     "output_type": "stream",
     "text": [
      "center/centre"
     ]
    },
    {
     "data": {
      "text/plain": [
       "\u001b[90m [9] │\u001b[39m \u001b[36m<center>\u001b[39m\n",
       "\u001b[90m[10] │\u001b[39m \u001b[36m<centre>\u001b[39m"
      ]
     },
     "metadata": {},
     "output_type": "display_data"
    },
    {
     "name": "stdout",
     "output_type": "stream",
     "text": [
      "defense/defence"
     ]
    },
    {
     "data": {
      "text/plain": [
       "\u001b[90m[11] │\u001b[39m \u001b[36m<defense>\u001b[39m\n",
       "\u001b[90m[12] │\u001b[39m \u001b[36m<defence>\u001b[39m"
      ]
     },
     "metadata": {},
     "output_type": "display_data"
    },
    {
     "name": "stdout",
     "output_type": "stream",
     "text": [
      "donut/doughnut"
     ]
    },
    {
     "data": {
      "text/plain": [
       "\u001b[90m[13] │\u001b[39m \u001b[36m<donut>\u001b[39m\n",
       "\u001b[90m[14] │\u001b[39m \u001b[36m<doughnut>\u001b[39m"
      ]
     },
     "metadata": {},
     "output_type": "display_data"
    },
    {
     "name": "stdout",
     "output_type": "stream",
     "text": [
      "gray/grey"
     ]
    },
    {
     "data": {
      "text/plain": [
       "\u001b[90m[15] │\u001b[39m \u001b[36m<gray>\u001b[39m\n",
       "\u001b[90m[16] │\u001b[39m \u001b[36m<grey>\u001b[39m"
      ]
     },
     "metadata": {},
     "output_type": "display_data"
    },
    {
     "name": "stdout",
     "output_type": "stream",
     "text": [
      "modeling/modelling"
     ]
    },
    {
     "data": {
      "text/plain": [
       "\u001b[90m[17] │\u001b[39m \u001b[36m<modeling>\u001b[39m\n",
       "\u001b[90m[18] │\u001b[39m \u001b[36m<modelling>\u001b[39m"
      ]
     },
     "metadata": {},
     "output_type": "display_data"
    },
    {
     "name": "stdout",
     "output_type": "stream",
     "text": [
      "skeptic/sceptic"
     ]
    },
    {
     "data": {
      "text/plain": [
       "\u001b[90m[19] │\u001b[39m \u001b[36m<skeptic>\u001b[39m\n",
       "\u001b[90m[20] │\u001b[39m \u001b[36m<sceptic>\u001b[39m"
      ]
     },
     "metadata": {},
     "output_type": "display_data"
    },
    {
     "name": "stdout",
     "output_type": "stream",
     "text": [
      "summarize/summarise"
     ]
    },
    {
     "data": {
      "text/plain": [
       "\u001b[90m[21] │\u001b[39m \u001b[36m<summarize>\u001b[39m\n",
       "\u001b[90m[22] │\u001b[39m \u001b[36m<summarise>\u001b[39m"
      ]
     },
     "metadata": {},
     "output_type": "display_data"
    }
   ],
   "source": [
    "x <- c(\"airplane\", \"aeroplane\", \"aluminum\", \"aluminium\", \"analog\", \"analogue\", \"ass\", \"arse\", \"center\", \"centre\", \"defense\", \"defence\", \"donut\", \"doughnut\", \"gray\", \"grey\", \"modeling\", \"modelling\", \"skeptic\", \"sceptic\", \"summarize\", \"summarise\")\n",
    "\n",
    "cat(\"airplane/aeroplane\")\n",
    "str_view(x, \"a[i|e]ro?plane\")\n",
    "\n",
    "cat(\"aluminum/aluminium\")\n",
    "str_view(x, \"alumini?um\")\n",
    "\n",
    "cat(\"analog/analogue\")\n",
    "str_view(x, \"analogu?e?\")\n",
    "\n",
    "cat(\"ass/arse\")\n",
    "str_view(x, \"ar?s{1,2}e?\")\n",
    "\n",
    "cat(\"center/centre\")\n",
    "str_view(x, \"cent[r|e][r|e]\")\n",
    "\n",
    "cat(\"defense/defence\")\n",
    "str_view(x, \"defen[c|s]e\")\n",
    "\n",
    "cat(\"donut/doughnut\")\n",
    "str_view(x, \"do(ugh)?nut\")\n",
    "\n",
    "cat(\"gray/grey\")\n",
    "str_view(x, \"gr[a|e]y\")\n",
    "\n",
    "cat(\"modeling/modelling\")\n",
    "str_view(x, \"model{1,2}ing\")\n",
    "\n",
    "cat(\"skeptic/sceptic\")\n",
    "str_view(x, \"s[k|c]eptic\")\n",
    "\n",
    "cat(\"summarize/summarise\")\n",
    "str_view(x, \"summari[z|s]e\")"
   ]
  },
  {
   "attachments": {},
   "cell_type": "markdown",
   "metadata": {},
   "source": [
    "5. Switch the first and last letters in words. Which of those strings are still words?"
   ]
  },
  {
   "cell_type": "code",
   "execution_count": 81,
   "metadata": {
    "vscode": {
     "languageId": "r"
    }
   },
   "outputs": [
    {
     "data": {
      "text/html": [
       "<style>\n",
       ".list-inline {list-style: none; margin:0; padding: 0}\n",
       ".list-inline>li {display: inline-block}\n",
       ".list-inline>li:not(:last-child)::after {content: \"\\00b7\"; padding: 0 .5ex}\n",
       "</style>\n",
       "<ol class=list-inline><li>'a'</li><li>'america'</li><li>'area'</li><li>'dad'</li><li>'dead'</li><li>'lead'</li><li>'read'</li><li>'depend'</li><li>'god'</li><li>'educate'</li><li>'else'</li><li>'encourage'</li><li>'engine'</li><li>'europe'</li><li>'evidence'</li><li>'example'</li><li>'excuse'</li><li>'exercise'</li><li>'expense'</li><li>'experience'</li><li>'eye'</li><li>'dog'</li><li>'health'</li><li>'high'</li><li>'knock'</li><li>'deal'</li><li>'level'</li><li>'local'</li><li>'nation'</li><li>'on'</li><li>'non'</li><li>'no'</li><li>'rather'</li><li>'dear'</li><li>'refer'</li><li>'remember'</li><li>'serious'</li><li>'stairs'</li><li>'test'</li><li>'tonight'</li><li>'transport'</li><li>'treat'</li><li>'trust'</li><li>'window'</li><li>'yesterday'</li></ol>\n"
      ],
      "text/latex": [
       "\\begin{enumerate*}\n",
       "\\item 'a'\n",
       "\\item 'america'\n",
       "\\item 'area'\n",
       "\\item 'dad'\n",
       "\\item 'dead'\n",
       "\\item 'lead'\n",
       "\\item 'read'\n",
       "\\item 'depend'\n",
       "\\item 'god'\n",
       "\\item 'educate'\n",
       "\\item 'else'\n",
       "\\item 'encourage'\n",
       "\\item 'engine'\n",
       "\\item 'europe'\n",
       "\\item 'evidence'\n",
       "\\item 'example'\n",
       "\\item 'excuse'\n",
       "\\item 'exercise'\n",
       "\\item 'expense'\n",
       "\\item 'experience'\n",
       "\\item 'eye'\n",
       "\\item 'dog'\n",
       "\\item 'health'\n",
       "\\item 'high'\n",
       "\\item 'knock'\n",
       "\\item 'deal'\n",
       "\\item 'level'\n",
       "\\item 'local'\n",
       "\\item 'nation'\n",
       "\\item 'on'\n",
       "\\item 'non'\n",
       "\\item 'no'\n",
       "\\item 'rather'\n",
       "\\item 'dear'\n",
       "\\item 'refer'\n",
       "\\item 'remember'\n",
       "\\item 'serious'\n",
       "\\item 'stairs'\n",
       "\\item 'test'\n",
       "\\item 'tonight'\n",
       "\\item 'transport'\n",
       "\\item 'treat'\n",
       "\\item 'trust'\n",
       "\\item 'window'\n",
       "\\item 'yesterday'\n",
       "\\end{enumerate*}\n"
      ],
      "text/markdown": [
       "1. 'a'\n",
       "2. 'america'\n",
       "3. 'area'\n",
       "4. 'dad'\n",
       "5. 'dead'\n",
       "6. 'lead'\n",
       "7. 'read'\n",
       "8. 'depend'\n",
       "9. 'god'\n",
       "10. 'educate'\n",
       "11. 'else'\n",
       "12. 'encourage'\n",
       "13. 'engine'\n",
       "14. 'europe'\n",
       "15. 'evidence'\n",
       "16. 'example'\n",
       "17. 'excuse'\n",
       "18. 'exercise'\n",
       "19. 'expense'\n",
       "20. 'experience'\n",
       "21. 'eye'\n",
       "22. 'dog'\n",
       "23. 'health'\n",
       "24. 'high'\n",
       "25. 'knock'\n",
       "26. 'deal'\n",
       "27. 'level'\n",
       "28. 'local'\n",
       "29. 'nation'\n",
       "30. 'on'\n",
       "31. 'non'\n",
       "32. 'no'\n",
       "33. 'rather'\n",
       "34. 'dear'\n",
       "35. 'refer'\n",
       "36. 'remember'\n",
       "37. 'serious'\n",
       "38. 'stairs'\n",
       "39. 'test'\n",
       "40. 'tonight'\n",
       "41. 'transport'\n",
       "42. 'treat'\n",
       "43. 'trust'\n",
       "44. 'window'\n",
       "45. 'yesterday'\n",
       "\n",
       "\n"
      ],
      "text/plain": [
       " [1] \"a\"          \"america\"    \"area\"       \"dad\"        \"dead\"      \n",
       " [6] \"lead\"       \"read\"       \"depend\"     \"god\"        \"educate\"   \n",
       "[11] \"else\"       \"encourage\"  \"engine\"     \"europe\"     \"evidence\"  \n",
       "[16] \"example\"    \"excuse\"     \"exercise\"   \"expense\"    \"experience\"\n",
       "[21] \"eye\"        \"dog\"        \"health\"     \"high\"       \"knock\"     \n",
       "[26] \"deal\"       \"level\"      \"local\"      \"nation\"     \"on\"        \n",
       "[31] \"non\"        \"no\"         \"rather\"     \"dear\"       \"refer\"     \n",
       "[36] \"remember\"   \"serious\"    \"stairs\"     \"test\"       \"tonight\"   \n",
       "[41] \"transport\"  \"treat\"      \"trust\"      \"window\"     \"yesterday\" "
      ]
     },
     "metadata": {},
     "output_type": "display_data"
    }
   ],
   "source": [
    "swapped <- str_replace(words, \"(.)(.*)(.)\", \"\\\\3\\\\2\\\\1\")\n",
    "swapped[swapped %in% words]"
   ]
  },
  {
   "attachments": {},
   "cell_type": "markdown",
   "metadata": {},
   "source": [
    "6. Describe in words what these regular expressions match: (read carefully to see if each entry is a regular expression or a string that defines a regular expression.)\n",
    "\n",
    "    a. ^.*$  \n",
    "    b. \"\\\\\\\\{.+\\\\\\\\}\"   \n",
    "    c. \\d{4}-\\d{2}-\\d{2}  \n",
    "    d. \"\\\\\\\\\\\\\\\\{4}\"  \n",
    "    e. \\\\..\\\\..\\\\..  \n",
    "    f. (.)\\1\\1  \n",
    "    g. \"(..)\\\\\\\\1\"  "
   ]
  },
  {
   "attachments": {},
   "cell_type": "markdown",
   "metadata": {},
   "source": [
    "a. Matches any string.  \n",
    "b. Matches anything inside curly brackets.  \n",
    "c. Matches 4 numbers - 2 numbers - 2 numbers. ex: 1234-56-78  \n",
    "d. Matches 4 \\ in a row.  \n",
    "e. Matches . character . character . character. ex: .a.b.c  \n",
    "f. Matches any character that appears three times in a row. ex: bbb  \n",
    "g. Matches any two characters that are repeated in a row. ex: abab"
   ]
  },
  {
   "attachments": {},
   "cell_type": "markdown",
   "metadata": {},
   "source": [
    "7. Solve the beginner regexp crosswords at https://regexcrossword.com/challenges/beginner."
   ]
  },
  {
   "attachments": {
    "image.png": {
     "image/png": "[encoded data removed]"
    }
   },
   "cell_type": "markdown",
   "metadata": {},
   "source": [
    "![regexp_crosswords](attachment:image.png)"
   ]
  },
  {
   "attachments": {},
   "cell_type": "markdown",
   "metadata": {},
   "source": [
    "## [15.6.4 Exercises](https://r4ds.hadley.nz/regexps#exercises-2)"
   ]
  },
  {
   "attachments": {},
   "cell_type": "markdown",
   "metadata": {},
   "source": [
    "1. For each of the following challenges, try solving it by using both a single regular expression, and a combination of multiple str_detect() calls.\n",
    "\n",
    "    a. Find all words that start or end with x.  \n",
    "    b. Find all words that start with a vowel and end with a consonant.  \n",
    "    c. Are there any words that contain at least one of each different vowel?  "
   ]
  },
  {
   "cell_type": "code",
   "execution_count": 95,
   "metadata": {
    "vscode": {
     "languageId": "r"
    }
   },
   "outputs": [
    {
     "name": "stdout",
     "output_type": "stream",
     "text": [
      "Part a"
     ]
    },
    {
     "data": {
      "text/plain": [
       "\u001b[90m[108] │\u001b[39m bo\u001b[36m<x>\u001b[39m\n",
       "\u001b[90m[747] │\u001b[39m se\u001b[36m<x>\u001b[39m\n",
       "\u001b[90m[772] │\u001b[39m si\u001b[36m<x>\u001b[39m\n",
       "\u001b[90m[841] │\u001b[39m ta\u001b[36m<x>\u001b[39m"
      ]
     },
     "metadata": {},
     "output_type": "display_data"
    },
    {
     "data": {
      "text/html": [
       "<style>\n",
       ".list-inline {list-style: none; margin:0; padding: 0}\n",
       ".list-inline>li {display: inline-block}\n",
       ".list-inline>li:not(:last-child)::after {content: \"\\00b7\"; padding: 0 .5ex}\n",
       "</style>\n",
       "<ol class=list-inline><li>'box'</li><li>'sex'</li><li>'six'</li><li>'tax'</li></ol>\n"
      ],
      "text/latex": [
       "\\begin{enumerate*}\n",
       "\\item 'box'\n",
       "\\item 'sex'\n",
       "\\item 'six'\n",
       "\\item 'tax'\n",
       "\\end{enumerate*}\n"
      ],
      "text/markdown": [
       "1. 'box'\n",
       "2. 'sex'\n",
       "3. 'six'\n",
       "4. 'tax'\n",
       "\n",
       "\n"
      ],
      "text/plain": [
       "[1] \"box\" \"sex\" \"six\" \"tax\""
      ]
     },
     "metadata": {},
     "output_type": "display_data"
    },
    {
     "name": "stdout",
     "output_type": "stream",
     "text": [
      "Part b"
     ]
    },
    {
     "data": {
      "text/plain": [
       "\u001b[90m [3] │\u001b[39m \u001b[36m<about>\u001b[39m\n",
       "\u001b[90m [5] │\u001b[39m \u001b[36m<accept>\u001b[39m\n",
       "\u001b[90m [6] │\u001b[39m \u001b[36m<account>\u001b[39m\n",
       "\u001b[90m [8] │\u001b[39m \u001b[36m<across>\u001b[39m\n",
       "\u001b[90m [9] │\u001b[39m \u001b[36m<act>\u001b[39m\n",
       "\u001b[90m[11] │\u001b[39m \u001b[36m<actual>\u001b[39m\n",
       "\u001b[90m[12] │\u001b[39m \u001b[36m<add>\u001b[39m\n",
       "\u001b[90m[13] │\u001b[39m \u001b[36m<address>\u001b[39m\n",
       "\u001b[90m[14] │\u001b[39m \u001b[36m<admit>\u001b[39m\n",
       "\u001b[90m[16] │\u001b[39m \u001b[36m<affect>\u001b[39m\n",
       "\u001b[90m[17] │\u001b[39m \u001b[36m<afford>\u001b[39m\n",
       "\u001b[90m[18] │\u001b[39m \u001b[36m<after>\u001b[39m\n",
       "\u001b[90m[19] │\u001b[39m \u001b[36m<afternoon>\u001b[39m\n",
       "\u001b[90m[20] │\u001b[39m \u001b[36m<again>\u001b[39m\n",
       "\u001b[90m[21] │\u001b[39m \u001b[36m<against>\u001b[39m\n",
       "\u001b[90m[23] │\u001b[39m \u001b[36m<agent>\u001b[39m\n",
       "\u001b[90m[26] │\u001b[39m \u001b[36m<air>\u001b[39m\n",
       "\u001b[90m[27] │\u001b[39m \u001b[36m<all>\u001b[39m\n",
       "\u001b[90m[28] │\u001b[39m \u001b[36m<allow>\u001b[39m\n",
       "\u001b[90m[29] │\u001b[39m \u001b[36m<almost>\u001b[39m\n",
       "... and 102 more"
      ]
     },
     "metadata": {},
     "output_type": "display_data"
    },
    {
     "data": {
      "text/html": [
       "<style>\n",
       ".list-inline {list-style: none; margin:0; padding: 0}\n",
       ".list-inline>li {display: inline-block}\n",
       ".list-inline>li:not(:last-child)::after {content: \"\\00b7\"; padding: 0 .5ex}\n",
       "</style>\n",
       "<ol class=list-inline><li>'about'</li><li>'accept'</li><li>'account'</li><li>'across'</li><li>'act'</li><li>'actual'</li><li>'add'</li><li>'address'</li><li>'admit'</li><li>'affect'</li><li>'afford'</li><li>'after'</li><li>'afternoon'</li><li>'again'</li><li>'against'</li><li>'agent'</li><li>'air'</li><li>'all'</li><li>'allow'</li><li>'almost'</li><li>'along'</li><li>'already'</li><li>'alright'</li><li>'although'</li><li>'always'</li><li>'amount'</li><li>'and'</li><li>'another'</li><li>'answer'</li><li>'any'</li><li>'apart'</li><li>'apparent'</li><li>'appear'</li><li>'apply'</li><li>'appoint'</li><li>'approach'</li><li>'arm'</li><li>'around'</li><li>'art'</li><li>'as'</li><li>'ask'</li><li>'at'</li><li>'attend'</li><li>'authority'</li><li>'away'</li><li>'awful'</li><li>'each'</li><li>'early'</li><li>'east'</li><li>'easy'</li><li>'eat'</li><li>'economy'</li><li>'effect'</li><li>'egg'</li><li>'eight'</li><li>'either'</li><li>'elect'</li><li>'electric'</li><li>'eleven'</li><li>'employ'</li><li>'end'</li><li>'english'</li><li>'enjoy'</li><li>'enough'</li><li>'enter'</li><li>'environment'</li><li>'equal'</li><li>'especial'</li><li>'even'</li><li>'evening'</li><li>'ever'</li><li>'every'</li><li>'exact'</li><li>'except'</li><li>'exist'</li><li>'expect'</li><li>'explain'</li><li>'express'</li><li>'identify'</li><li>'if'</li><li>'important'</li><li>'in'</li><li>'indeed'</li><li>'individual'</li><li>'industry'</li><li>'inform'</li><li>'instead'</li><li>'interest'</li><li>'invest'</li><li>'it'</li><li>'item'</li><li>'obvious'</li><li>'occasion'</li><li>'odd'</li><li>'of'</li><li>'off'</li><li>'offer'</li><li>'often'</li><li>'okay'</li><li>'old'</li><li>'on'</li><li>'only'</li><li>'open'</li><li>'opportunity'</li><li>'or'</li><li>'order'</li><li>'original'</li><li>'other'</li><li>'ought'</li><li>'out'</li><li>'over'</li><li>'own'</li><li>'under'</li><li>'understand'</li><li>'union'</li><li>'unit'</li><li>'university'</li><li>'unless'</li><li>'until'</li><li>'up'</li><li>'upon'</li><li>'usual'</li></ol>\n"
      ],
      "text/latex": [
       "\\begin{enumerate*}\n",
       "\\item 'about'\n",
       "\\item 'accept'\n",
       "\\item 'account'\n",
       "\\item 'across'\n",
       "\\item 'act'\n",
       "\\item 'actual'\n",
       "\\item 'add'\n",
       "\\item 'address'\n",
       "\\item 'admit'\n",
       "\\item 'affect'\n",
       "\\item 'afford'\n",
       "\\item 'after'\n",
       "\\item 'afternoon'\n",
       "\\item 'again'\n",
       "\\item 'against'\n",
       "\\item 'agent'\n",
       "\\item 'air'\n",
       "\\item 'all'\n",
       "\\item 'allow'\n",
       "\\item 'almost'\n",
       "\\item 'along'\n",
       "\\item 'already'\n",
       "\\item 'alright'\n",
       "\\item 'although'\n",
       "\\item 'always'\n",
       "\\item 'amount'\n",
       "\\item 'and'\n",
       "\\item 'another'\n",
       "\\item 'answer'\n",
       "\\item 'any'\n",
       "\\item 'apart'\n",
       "\\item 'apparent'\n",
       "\\item 'appear'\n",
       "\\item 'apply'\n",
       "\\item 'appoint'\n",
       "\\item 'approach'\n",
       "\\item 'arm'\n",
       "\\item 'around'\n",
       "\\item 'art'\n",
       "\\item 'as'\n",
       "\\item 'ask'\n",
       "\\item 'at'\n",
       "\\item 'attend'\n",
       "\\item 'authority'\n",
       "\\item 'away'\n",
       "\\item 'awful'\n",
       "\\item 'each'\n",
       "\\item 'early'\n",
       "\\item 'east'\n",
       "\\item 'easy'\n",
       "\\item 'eat'\n",
       "\\item 'economy'\n",
       "\\item 'effect'\n",
       "\\item 'egg'\n",
       "\\item 'eight'\n",
       "\\item 'either'\n",
       "\\item 'elect'\n",
       "\\item 'electric'\n",
       "\\item 'eleven'\n",
       "\\item 'employ'\n",
       "\\item 'end'\n",
       "\\item 'english'\n",
       "\\item 'enjoy'\n",
       "\\item 'enough'\n",
       "\\item 'enter'\n",
       "\\item 'environment'\n",
       "\\item 'equal'\n",
       "\\item 'especial'\n",
       "\\item 'even'\n",
       "\\item 'evening'\n",
       "\\item 'ever'\n",
       "\\item 'every'\n",
       "\\item 'exact'\n",
       "\\item 'except'\n",
       "\\item 'exist'\n",
       "\\item 'expect'\n",
       "\\item 'explain'\n",
       "\\item 'express'\n",
       "\\item 'identify'\n",
       "\\item 'if'\n",
       "\\item 'important'\n",
       "\\item 'in'\n",
       "\\item 'indeed'\n",
       "\\item 'individual'\n",
       "\\item 'industry'\n",
       "\\item 'inform'\n",
       "\\item 'instead'\n",
       "\\item 'interest'\n",
       "\\item 'invest'\n",
       "\\item 'it'\n",
       "\\item 'item'\n",
       "\\item 'obvious'\n",
       "\\item 'occasion'\n",
       "\\item 'odd'\n",
       "\\item 'of'\n",
       "\\item 'off'\n",
       "\\item 'offer'\n",
       "\\item 'often'\n",
       "\\item 'okay'\n",
       "\\item 'old'\n",
       "\\item 'on'\n",
       "\\item 'only'\n",
       "\\item 'open'\n",
       "\\item 'opportunity'\n",
       "\\item 'or'\n",
       "\\item 'order'\n",
       "\\item 'original'\n",
       "\\item 'other'\n",
       "\\item 'ought'\n",
       "\\item 'out'\n",
       "\\item 'over'\n",
       "\\item 'own'\n",
       "\\item 'under'\n",
       "\\item 'understand'\n",
       "\\item 'union'\n",
       "\\item 'unit'\n",
       "\\item 'university'\n",
       "\\item 'unless'\n",
       "\\item 'until'\n",
       "\\item 'up'\n",
       "\\item 'upon'\n",
       "\\item 'usual'\n",
       "\\end{enumerate*}\n"
      ],
      "text/markdown": [
       "1. 'about'\n",
       "2. 'accept'\n",
       "3. 'account'\n",
       "4. 'across'\n",
       "5. 'act'\n",
       "6. 'actual'\n",
       "7. 'add'\n",
       "8. 'address'\n",
       "9. 'admit'\n",
       "10. 'affect'\n",
       "11. 'afford'\n",
       "12. 'after'\n",
       "13. 'afternoon'\n",
       "14. 'again'\n",
       "15. 'against'\n",
       "16. 'agent'\n",
       "17. 'air'\n",
       "18. 'all'\n",
       "19. 'allow'\n",
       "20. 'almost'\n",
       "21. 'along'\n",
       "22. 'already'\n",
       "23. 'alright'\n",
       "24. 'although'\n",
       "25. 'always'\n",
       "26. 'amount'\n",
       "27. 'and'\n",
       "28. 'another'\n",
       "29. 'answer'\n",
       "30. 'any'\n",
       "31. 'apart'\n",
       "32. 'apparent'\n",
       "33. 'appear'\n",
       "34. 'apply'\n",
       "35. 'appoint'\n",
       "36. 'approach'\n",
       "37. 'arm'\n",
       "38. 'around'\n",
       "39. 'art'\n",
       "40. 'as'\n",
       "41. 'ask'\n",
       "42. 'at'\n",
       "43. 'attend'\n",
       "44. 'authority'\n",
       "45. 'away'\n",
       "46. 'awful'\n",
       "47. 'each'\n",
       "48. 'early'\n",
       "49. 'east'\n",
       "50. 'easy'\n",
       "51. 'eat'\n",
       "52. 'economy'\n",
       "53. 'effect'\n",
       "54. 'egg'\n",
       "55. 'eight'\n",
       "56. 'either'\n",
       "57. 'elect'\n",
       "58. 'electric'\n",
       "59. 'eleven'\n",
       "60. 'employ'\n",
       "61. 'end'\n",
       "62. 'english'\n",
       "63. 'enjoy'\n",
       "64. 'enough'\n",
       "65. 'enter'\n",
       "66. 'environment'\n",
       "67. 'equal'\n",
       "68. 'especial'\n",
       "69. 'even'\n",
       "70. 'evening'\n",
       "71. 'ever'\n",
       "72. 'every'\n",
       "73. 'exact'\n",
       "74. 'except'\n",
       "75. 'exist'\n",
       "76. 'expect'\n",
       "77. 'explain'\n",
       "78. 'express'\n",
       "79. 'identify'\n",
       "80. 'if'\n",
       "81. 'important'\n",
       "82. 'in'\n",
       "83. 'indeed'\n",
       "84. 'individual'\n",
       "85. 'industry'\n",
       "86. 'inform'\n",
       "87. 'instead'\n",
       "88. 'interest'\n",
       "89. 'invest'\n",
       "90. 'it'\n",
       "91. 'item'\n",
       "92. 'obvious'\n",
       "93. 'occasion'\n",
       "94. 'odd'\n",
       "95. 'of'\n",
       "96. 'off'\n",
       "97. 'offer'\n",
       "98. 'often'\n",
       "99. 'okay'\n",
       "100. 'old'\n",
       "101. 'on'\n",
       "102. 'only'\n",
       "103. 'open'\n",
       "104. 'opportunity'\n",
       "105. 'or'\n",
       "106. 'order'\n",
       "107. 'original'\n",
       "108. 'other'\n",
       "109. 'ought'\n",
       "110. 'out'\n",
       "111. 'over'\n",
       "112. 'own'\n",
       "113. 'under'\n",
       "114. 'understand'\n",
       "115. 'union'\n",
       "116. 'unit'\n",
       "117. 'university'\n",
       "118. 'unless'\n",
       "119. 'until'\n",
       "120. 'up'\n",
       "121. 'upon'\n",
       "122. 'usual'\n",
       "\n",
       "\n"
      ],
      "text/plain": [
       "  [1] \"about\"       \"accept\"      \"account\"     \"across\"      \"act\"        \n",
       "  [6] \"actual\"      \"add\"         \"address\"     \"admit\"       \"affect\"     \n",
       " [11] \"afford\"      \"after\"       \"afternoon\"   \"again\"       \"against\"    \n",
       " [16] \"agent\"       \"air\"         \"all\"         \"allow\"       \"almost\"     \n",
       " [21] \"along\"       \"already\"     \"alright\"     \"although\"    \"always\"     \n",
       " [26] \"amount\"      \"and\"         \"another\"     \"answer\"      \"any\"        \n",
       " [31] \"apart\"       \"apparent\"    \"appear\"      \"apply\"       \"appoint\"    \n",
       " [36] \"approach\"    \"arm\"         \"around\"      \"art\"         \"as\"         \n",
       " [41] \"ask\"         \"at\"          \"attend\"      \"authority\"   \"away\"       \n",
       " [46] \"awful\"       \"each\"        \"early\"       \"east\"        \"easy\"       \n",
       " [51] \"eat\"         \"economy\"     \"effect\"      \"egg\"         \"eight\"      \n",
       " [56] \"either\"      \"elect\"       \"electric\"    \"eleven\"      \"employ\"     \n",
       " [61] \"end\"         \"english\"     \"enjoy\"       \"enough\"      \"enter\"      \n",
       " [66] \"environment\" \"equal\"       \"especial\"    \"even\"        \"evening\"    \n",
       " [71] \"ever\"        \"every\"       \"exact\"       \"except\"      \"exist\"      \n",
       " [76] \"expect\"      \"explain\"     \"express\"     \"identify\"    \"if\"         \n",
       " [81] \"important\"   \"in\"          \"indeed\"      \"individual\"  \"industry\"   \n",
       " [86] \"inform\"      \"instead\"     \"interest\"    \"invest\"      \"it\"         \n",
       " [91] \"item\"        \"obvious\"     \"occasion\"    \"odd\"         \"of\"         \n",
       " [96] \"off\"         \"offer\"       \"often\"       \"okay\"        \"old\"        \n",
       "[101] \"on\"          \"only\"        \"open\"        \"opportunity\" \"or\"         \n",
       "[106] \"order\"       \"original\"    \"other\"       \"ought\"       \"out\"        \n",
       "[111] \"over\"        \"own\"         \"under\"       \"understand\"  \"union\"      \n",
       "[116] \"unit\"        \"university\"  \"unless\"      \"until\"       \"up\"         \n",
       "[121] \"upon\"        \"usual\"      "
      ]
     },
     "metadata": {},
     "output_type": "display_data"
    },
    {
     "name": "stdout",
     "output_type": "stream",
     "text": [
      "Part c"
     ]
    },
    {
     "data": {
      "text/html": [],
      "text/latex": [],
      "text/markdown": [],
      "text/plain": [
       "character(0)"
      ]
     },
     "metadata": {},
     "output_type": "display_data"
    }
   ],
   "source": [
    "cat(\"Part a\")\n",
    "str_view(words, \"(^xX)|(x$)\")\n",
    "words[str_detect(words, \"^[xX]\") | str_detect(words, \"[xX]$\")]\n",
    "\n",
    "cat(\"Part b\")\n",
    "str_view(words, \"^[aeiouAEIOU].*[^aeiouAEIOU]$\")\n",
    "words[str_detect(words, \"^[aeiouAEIOU]\") & str_detect(words, \"[^aeiouAEIOU]$\")]\n",
    "\n",
    "cat(\"Part c\")\n",
    "# too complicated to do in one line\n",
    "words[\n",
    "  str_detect(words, \"a\") &\n",
    "  str_detect(words, \"e\") &\n",
    "  str_detect(words, \"i\") &\n",
    "  str_detect(words, \"o\") &\n",
    "  str_detect(words, \"u\")\n",
    "]"
   ]
  },
  {
   "attachments": {},
   "cell_type": "markdown",
   "metadata": {},
   "source": [
    "2. Construct patterns to find evidence for and against the rule “i before e except after c”?"
   ]
  },
  {
   "cell_type": "code",
   "execution_count": 111,
   "metadata": {
    "vscode": {
     "languageId": "r"
    }
   },
   "outputs": [
    {
     "name": "stdout",
     "output_type": "stream",
     "text": [
      "For:"
     ]
    },
    {
     "data": {
      "text/plain": [
       "\u001b[90m  [7] │\u001b[39m ac\u001b[36m<hie>\u001b[39mve\n",
       "\u001b[90m [86] │\u001b[39m be\u001b[36m<lie>\u001b[39mve\n",
       "\u001b[90m[111] │\u001b[39m b\u001b[36m<rie>\u001b[39mf\n",
       "\u001b[90m[158] │\u001b[39m c\u001b[36m<lie>\u001b[39mnt\n",
       "\u001b[90m[228] │\u001b[39m \u001b[36m<die>\u001b[39m\n",
       "\u001b[90m[292] │\u001b[39m expe\u001b[36m<rie>\u001b[39mnce\n",
       "\u001b[90m[310] │\u001b[39m \u001b[36m<fie>\u001b[39mld\n",
       "\u001b[90m[342] │\u001b[39m f\u001b[36m<rie>\u001b[39mnd\n",
       "\u001b[90m[472] │\u001b[39m \u001b[36m<lie>\u001b[39m\n",
       "\u001b[90m[620] │\u001b[39m \u001b[36m<pie>\u001b[39mce\n",
       "\u001b[90m[670] │\u001b[39m q\u001b[36m<uie>\u001b[39mt\n",
       "\u001b[90m[684] │\u001b[39m re\u001b[36m<cei>\u001b[39mve\n",
       "\u001b[90m[872] │\u001b[39m \u001b[36m<tie>\u001b[39m\n",
       "\u001b[90m[918] │\u001b[39m \u001b[36m<vie>\u001b[39mw"
      ]
     },
     "metadata": {},
     "output_type": "display_data"
    },
    {
     "name": "stdout",
     "output_type": "stream",
     "text": [
      "Against:"
     ]
    },
    {
     "data": {
      "text/plain": [
       "\u001b[90m[726] │\u001b[39m s\u001b[36m<cie>\u001b[39mnce\n",
       "\u001b[90m[781] │\u001b[39m so\u001b[36m<cie>\u001b[39mty\n",
       "\u001b[90m[939] │\u001b[39m \u001b[36m<wei>\u001b[39mgh"
      ]
     },
     "metadata": {},
     "output_type": "display_data"
    }
   ],
   "source": [
    "for_rule <- c(\"[^c]ie\", \"cei\")\n",
    "pattern_f <- str_c(\"(\", str_flatten(for_rule, \"|\"), \")\")\n",
    "cat(\"For:\")\n",
    "str_view(words, pattern_f)\n",
    "\n",
    "against_rule <- c(\"cie\", \"[^c]ei\")\n",
    "pattern_a <- str_c(\"(\", str_flatten(against_rule, \"|\"), \")\")\n",
    "cat(\"Against:\")\n",
    "str_view(words, pattern_a)"
   ]
  },
  {
   "attachments": {},
   "cell_type": "markdown",
   "metadata": {},
   "source": [
    "3. colors() contains a number of modifiers like “lightgray” and “darkblue”. How could you automatically identify these modifiers? (Think about how you might detect and then remove the colors that are modified)."
   ]
  },
  {
   "cell_type": "code",
   "execution_count": 126,
   "metadata": {
    "vscode": {
     "languageId": "r"
    }
   },
   "outputs": [
    {
     "data": {
      "text/html": [
       "<style>\n",
       ".list-inline {list-style: none; margin:0; padding: 0}\n",
       ".list-inline>li {display: inline-block}\n",
       ".list-inline>li:not(:last-child)::after {content: \"\\00b7\"; padding: 0 .5ex}\n",
       "</style>\n",
       "<ol class=list-inline><li>'white'</li><li>'aliceblue'</li><li>'antiquewhite'</li><li>'aquamarine'</li><li>'azure'</li><li>'beige'</li><li>'bisque'</li><li>'black'</li><li>'blanchedalmond'</li><li>'blue'</li><li>'blueviolet'</li><li>'brown'</li><li>'burlywood'</li><li>'cadetblue'</li><li>'chartreuse'</li><li>'chocolate'</li><li>'coral'</li><li>'cornflowerblue'</li><li>'cornsilk'</li><li>'cyan'</li><li>'deeppink'</li><li>'deepskyblue'</li><li>'dimgray'</li><li>'dimgrey'</li><li>'dodgerblue'</li><li>'firebrick'</li><li>'floralwhite'</li><li>'forestgreen'</li><li>'gainsboro'</li><li>'ghostwhite'</li><li>'gold'</li><li>'goldenrod'</li><li>'gray'</li><li>'green'</li><li>'greenyellow'</li><li>'grey'</li><li>'honeydew'</li><li>'hotpink'</li><li>'indianred'</li><li>'ivory'</li><li>'khaki'</li><li>'lavender'</li><li>'lavenderblush'</li><li>'lawngreen'</li><li>'lemonchiffon'</li><li>'limegreen'</li><li>'linen'</li><li>'magenta'</li><li>'maroon'</li><li>'mediumaquamarine'</li><li>'mediumblue'</li><li>'mediumorchid'</li><li>'mediumpurple'</li><li>'mediumseagreen'</li><li>'mediumslateblue'</li><li>'mediumspringgreen'</li><li>'mediumturquoise'</li><li>'mediumvioletred'</li><li>'midnightblue'</li><li>'mintcream'</li><li>'mistyrose'</li><li>'moccasin'</li><li>'navajowhite'</li><li>'navy'</li><li>'navyblue'</li><li>'oldlace'</li><li>'olivedrab'</li><li>'orange'</li><li>'orangered'</li><li>'orchid'</li><li>'palegoldenrod'</li><li>'palegreen'</li><li>'paleturquoise'</li><li>'palevioletred'</li><li>'papayawhip'</li><li>'peachpuff'</li><li>'peru'</li><li>'pink'</li><li>'plum'</li><li>'powderblue'</li><li>'purple'</li><li>'red'</li><li>'rosybrown'</li><li>'royalblue'</li><li>'saddlebrown'</li><li>'salmon'</li><li>'sandybrown'</li><li>'seagreen'</li><li>'seashell'</li><li>'sienna'</li><li>'skyblue'</li><li>'slateblue'</li><li>'slategray'</li><li>'slategrey'</li><li>'snow'</li><li>'springgreen'</li><li>'steelblue'</li><li>'tan'</li><li>'thistle'</li><li>'tomato'</li><li>'turquoise'</li><li>'violet'</li><li>'violetred'</li><li>'wheat'</li><li>'whitesmoke'</li><li>'yellow'</li><li>'yellowgreen'</li></ol>\n"
      ],
      "text/latex": [
       "\\begin{enumerate*}\n",
       "\\item 'white'\n",
       "\\item 'aliceblue'\n",
       "\\item 'antiquewhite'\n",
       "\\item 'aquamarine'\n",
       "\\item 'azure'\n",
       "\\item 'beige'\n",
       "\\item 'bisque'\n",
       "\\item 'black'\n",
       "\\item 'blanchedalmond'\n",
       "\\item 'blue'\n",
       "\\item 'blueviolet'\n",
       "\\item 'brown'\n",
       "\\item 'burlywood'\n",
       "\\item 'cadetblue'\n",
       "\\item 'chartreuse'\n",
       "\\item 'chocolate'\n",
       "\\item 'coral'\n",
       "\\item 'cornflowerblue'\n",
       "\\item 'cornsilk'\n",
       "\\item 'cyan'\n",
       "\\item 'deeppink'\n",
       "\\item 'deepskyblue'\n",
       "\\item 'dimgray'\n",
       "\\item 'dimgrey'\n",
       "\\item 'dodgerblue'\n",
       "\\item 'firebrick'\n",
       "\\item 'floralwhite'\n",
       "\\item 'forestgreen'\n",
       "\\item 'gainsboro'\n",
       "\\item 'ghostwhite'\n",
       "\\item 'gold'\n",
       "\\item 'goldenrod'\n",
       "\\item 'gray'\n",
       "\\item 'green'\n",
       "\\item 'greenyellow'\n",
       "\\item 'grey'\n",
       "\\item 'honeydew'\n",
       "\\item 'hotpink'\n",
       "\\item 'indianred'\n",
       "\\item 'ivory'\n",
       "\\item 'khaki'\n",
       "\\item 'lavender'\n",
       "\\item 'lavenderblush'\n",
       "\\item 'lawngreen'\n",
       "\\item 'lemonchiffon'\n",
       "\\item 'limegreen'\n",
       "\\item 'linen'\n",
       "\\item 'magenta'\n",
       "\\item 'maroon'\n",
       "\\item 'mediumaquamarine'\n",
       "\\item 'mediumblue'\n",
       "\\item 'mediumorchid'\n",
       "\\item 'mediumpurple'\n",
       "\\item 'mediumseagreen'\n",
       "\\item 'mediumslateblue'\n",
       "\\item 'mediumspringgreen'\n",
       "\\item 'mediumturquoise'\n",
       "\\item 'mediumvioletred'\n",
       "\\item 'midnightblue'\n",
       "\\item 'mintcream'\n",
       "\\item 'mistyrose'\n",
       "\\item 'moccasin'\n",
       "\\item 'navajowhite'\n",
       "\\item 'navy'\n",
       "\\item 'navyblue'\n",
       "\\item 'oldlace'\n",
       "\\item 'olivedrab'\n",
       "\\item 'orange'\n",
       "\\item 'orangered'\n",
       "\\item 'orchid'\n",
       "\\item 'palegoldenrod'\n",
       "\\item 'palegreen'\n",
       "\\item 'paleturquoise'\n",
       "\\item 'palevioletred'\n",
       "\\item 'papayawhip'\n",
       "\\item 'peachpuff'\n",
       "\\item 'peru'\n",
       "\\item 'pink'\n",
       "\\item 'plum'\n",
       "\\item 'powderblue'\n",
       "\\item 'purple'\n",
       "\\item 'red'\n",
       "\\item 'rosybrown'\n",
       "\\item 'royalblue'\n",
       "\\item 'saddlebrown'\n",
       "\\item 'salmon'\n",
       "\\item 'sandybrown'\n",
       "\\item 'seagreen'\n",
       "\\item 'seashell'\n",
       "\\item 'sienna'\n",
       "\\item 'skyblue'\n",
       "\\item 'slateblue'\n",
       "\\item 'slategray'\n",
       "\\item 'slategrey'\n",
       "\\item 'snow'\n",
       "\\item 'springgreen'\n",
       "\\item 'steelblue'\n",
       "\\item 'tan'\n",
       "\\item 'thistle'\n",
       "\\item 'tomato'\n",
       "\\item 'turquoise'\n",
       "\\item 'violet'\n",
       "\\item 'violetred'\n",
       "\\item 'wheat'\n",
       "\\item 'whitesmoke'\n",
       "\\item 'yellow'\n",
       "\\item 'yellowgreen'\n",
       "\\end{enumerate*}\n"
      ],
      "text/markdown": [
       "1. 'white'\n",
       "2. 'aliceblue'\n",
       "3. 'antiquewhite'\n",
       "4. 'aquamarine'\n",
       "5. 'azure'\n",
       "6. 'beige'\n",
       "7. 'bisque'\n",
       "8. 'black'\n",
       "9. 'blanchedalmond'\n",
       "10. 'blue'\n",
       "11. 'blueviolet'\n",
       "12. 'brown'\n",
       "13. 'burlywood'\n",
       "14. 'cadetblue'\n",
       "15. 'chartreuse'\n",
       "16. 'chocolate'\n",
       "17. 'coral'\n",
       "18. 'cornflowerblue'\n",
       "19. 'cornsilk'\n",
       "20. 'cyan'\n",
       "21. 'deeppink'\n",
       "22. 'deepskyblue'\n",
       "23. 'dimgray'\n",
       "24. 'dimgrey'\n",
       "25. 'dodgerblue'\n",
       "26. 'firebrick'\n",
       "27. 'floralwhite'\n",
       "28. 'forestgreen'\n",
       "29. 'gainsboro'\n",
       "30. 'ghostwhite'\n",
       "31. 'gold'\n",
       "32. 'goldenrod'\n",
       "33. 'gray'\n",
       "34. 'green'\n",
       "35. 'greenyellow'\n",
       "36. 'grey'\n",
       "37. 'honeydew'\n",
       "38. 'hotpink'\n",
       "39. 'indianred'\n",
       "40. 'ivory'\n",
       "41. 'khaki'\n",
       "42. 'lavender'\n",
       "43. 'lavenderblush'\n",
       "44. 'lawngreen'\n",
       "45. 'lemonchiffon'\n",
       "46. 'limegreen'\n",
       "47. 'linen'\n",
       "48. 'magenta'\n",
       "49. 'maroon'\n",
       "50. 'mediumaquamarine'\n",
       "51. 'mediumblue'\n",
       "52. 'mediumorchid'\n",
       "53. 'mediumpurple'\n",
       "54. 'mediumseagreen'\n",
       "55. 'mediumslateblue'\n",
       "56. 'mediumspringgreen'\n",
       "57. 'mediumturquoise'\n",
       "58. 'mediumvioletred'\n",
       "59. 'midnightblue'\n",
       "60. 'mintcream'\n",
       "61. 'mistyrose'\n",
       "62. 'moccasin'\n",
       "63. 'navajowhite'\n",
       "64. 'navy'\n",
       "65. 'navyblue'\n",
       "66. 'oldlace'\n",
       "67. 'olivedrab'\n",
       "68. 'orange'\n",
       "69. 'orangered'\n",
       "70. 'orchid'\n",
       "71. 'palegoldenrod'\n",
       "72. 'palegreen'\n",
       "73. 'paleturquoise'\n",
       "74. 'palevioletred'\n",
       "75. 'papayawhip'\n",
       "76. 'peachpuff'\n",
       "77. 'peru'\n",
       "78. 'pink'\n",
       "79. 'plum'\n",
       "80. 'powderblue'\n",
       "81. 'purple'\n",
       "82. 'red'\n",
       "83. 'rosybrown'\n",
       "84. 'royalblue'\n",
       "85. 'saddlebrown'\n",
       "86. 'salmon'\n",
       "87. 'sandybrown'\n",
       "88. 'seagreen'\n",
       "89. 'seashell'\n",
       "90. 'sienna'\n",
       "91. 'skyblue'\n",
       "92. 'slateblue'\n",
       "93. 'slategray'\n",
       "94. 'slategrey'\n",
       "95. 'snow'\n",
       "96. 'springgreen'\n",
       "97. 'steelblue'\n",
       "98. 'tan'\n",
       "99. 'thistle'\n",
       "100. 'tomato'\n",
       "101. 'turquoise'\n",
       "102. 'violet'\n",
       "103. 'violetred'\n",
       "104. 'wheat'\n",
       "105. 'whitesmoke'\n",
       "106. 'yellow'\n",
       "107. 'yellowgreen'\n",
       "\n",
       "\n"
      ],
      "text/plain": [
       "  [1] \"white\"             \"aliceblue\"         \"antiquewhite\"     \n",
       "  [4] \"aquamarine\"        \"azure\"             \"beige\"            \n",
       "  [7] \"bisque\"            \"black\"             \"blanchedalmond\"   \n",
       " [10] \"blue\"              \"blueviolet\"        \"brown\"            \n",
       " [13] \"burlywood\"         \"cadetblue\"         \"chartreuse\"       \n",
       " [16] \"chocolate\"         \"coral\"             \"cornflowerblue\"   \n",
       " [19] \"cornsilk\"          \"cyan\"              \"deeppink\"         \n",
       " [22] \"deepskyblue\"       \"dimgray\"           \"dimgrey\"          \n",
       " [25] \"dodgerblue\"        \"firebrick\"         \"floralwhite\"      \n",
       " [28] \"forestgreen\"       \"gainsboro\"         \"ghostwhite\"       \n",
       " [31] \"gold\"              \"goldenrod\"         \"gray\"             \n",
       " [34] \"green\"             \"greenyellow\"       \"grey\"             \n",
       " [37] \"honeydew\"          \"hotpink\"           \"indianred\"        \n",
       " [40] \"ivory\"             \"khaki\"             \"lavender\"         \n",
       " [43] \"lavenderblush\"     \"lawngreen\"         \"lemonchiffon\"     \n",
       " [46] \"limegreen\"         \"linen\"             \"magenta\"          \n",
       " [49] \"maroon\"            \"mediumaquamarine\"  \"mediumblue\"       \n",
       " [52] \"mediumorchid\"      \"mediumpurple\"      \"mediumseagreen\"   \n",
       " [55] \"mediumslateblue\"   \"mediumspringgreen\" \"mediumturquoise\"  \n",
       " [58] \"mediumvioletred\"   \"midnightblue\"      \"mintcream\"        \n",
       " [61] \"mistyrose\"         \"moccasin\"          \"navajowhite\"      \n",
       " [64] \"navy\"              \"navyblue\"          \"oldlace\"          \n",
       " [67] \"olivedrab\"         \"orange\"            \"orangered\"        \n",
       " [70] \"orchid\"            \"palegoldenrod\"     \"palegreen\"        \n",
       " [73] \"paleturquoise\"     \"palevioletred\"     \"papayawhip\"       \n",
       " [76] \"peachpuff\"         \"peru\"              \"pink\"             \n",
       " [79] \"plum\"              \"powderblue\"        \"purple\"           \n",
       " [82] \"red\"               \"rosybrown\"         \"royalblue\"        \n",
       " [85] \"saddlebrown\"       \"salmon\"            \"sandybrown\"       \n",
       " [88] \"seagreen\"          \"seashell\"          \"sienna\"           \n",
       " [91] \"skyblue\"           \"slateblue\"         \"slategray\"        \n",
       " [94] \"slategrey\"         \"snow\"              \"springgreen\"      \n",
       " [97] \"steelblue\"         \"tan\"               \"thistle\"          \n",
       "[100] \"tomato\"            \"turquoise\"         \"violet\"           \n",
       "[103] \"violetred\"         \"wheat\"             \"whitesmoke\"       \n",
       "[106] \"yellow\"            \"yellowgreen\"      "
      ]
     },
     "metadata": {},
     "output_type": "display_data"
    }
   ],
   "source": [
    "cols <- colors()\n",
    "cols <- cols[!str_detect(cols, \"\\\\d\")]\n",
    "cols <- cols[!str_detect(cols, \"\\\\b(?:light|dark)\\\\w*\\\\b\")]\n",
    "cols"
   ]
  },
  {
   "attachments": {},
   "cell_type": "markdown",
   "metadata": {},
   "source": [
    "4. Create a regular expression that finds any base R dataset. You can get a list of these datasets via a special use of the data() function: data(package = \"datasets\")$results[, \"Item\"]. Note that a number of old datasets are individual vectors; these contain the name of the grouping “data frame” in parentheses, so you’ll need to strip those off."
   ]
  },
  {
   "cell_type": "code",
   "execution_count": 135,
   "metadata": {
    "vscode": {
     "languageId": "r"
    }
   },
   "outputs": [
    {
     "data": {
      "text/plain": [
       "\u001b[90m[1] │\u001b[39m \u001b[36m<presidents>\u001b[39m\n",
       "\u001b[90m[2] │\u001b[39m \u001b[36m<rock>\u001b[39m\n",
       "\u001b[90m[3] │\u001b[39m \u001b[36m<USArrests>\u001b[39m"
      ]
     },
     "metadata": {},
     "output_type": "display_data"
    }
   ],
   "source": [
    "datasets <- data(package = \"datasets\")$results[, \"Item\"]\n",
    "datasets <- str_remove_all(datasets, \"\\\\s+\\\\(.*\\\\)\")\n",
    "reg_exp <- str_c(\"(\", str_flatten(datasets, \"|\"), \")\")\n",
    "\n",
    "example <- c(\"presidents\", \"rock\", \"USArrests\")\n",
    "str_view(example, reg_exp)"
   ]
  }
 ],
 "metadata": {
  "kernelspec": {
   "display_name": "R",
   "language": "R",
   "name": "ir"
  },
  "language_info": {
   "codemirror_mode": "r",
   "file_extension": ".r",
   "mimetype": "text/x-r-source",
   "name": "R",
   "pygments_lexer": "r",
   "version": "4.2.1"
  },
  "orig_nbformat": 4
 },
 "nbformat": 4,
 "nbformat_minor": 2
}

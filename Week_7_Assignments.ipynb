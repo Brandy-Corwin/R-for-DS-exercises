{
 "cells": [
  {
   "cell_type": "code",
   "execution_count": null,
   "metadata": {
    "vscode": {
     "languageId": "plaintext"
    }
   },
   "outputs": [],
   "source": []
  },
  {
   "attachments": {},
   "cell_type": "markdown",
   "metadata": {},
   "source": [
    "## [14.2.4 Exercises](https://r4ds.hadley.nz/strings#exercises)"
   ]
  },
  {
   "attachments": {},
   "cell_type": "markdown",
   "metadata": {},
   "source": [
    "1. Create strings that contain the following values:\n",
    "\n",
    "    1. He said \"That's amazing!\"\n",
    "\n",
    "    2. \\a\\b\\c\\d\n",
    "\n",
    "    3. \\\\\\\\\\\\\\\\\\\\\\\\"
   ]
  },
  {
   "attachments": {},
   "cell_type": "markdown",
   "metadata": {},
   "source": [
    "2. Create the string in your R session and print it. What happens to the special “\\u00a0”? How does str_view() display it? Can you do a little googling to figure out what this special character is?\n",
    "```r\n",
    "x <- \"This\\u00a0is\\u00a0tricky\"\n",
    "```"
   ]
  },
  {
   "attachments": {},
   "cell_type": "markdown",
   "metadata": {},
   "source": [
    "## [14.3.4 Exercises](https://r4ds.hadley.nz/strings#exercises-1)"
   ]
  },
  {
   "attachments": {},
   "cell_type": "markdown",
   "metadata": {},
   "source": [
    "1. Compare and contrast the results of paste0() with str_c() for the following inputs:\n",
    "```r\n",
    "str_c(\"hi \", NA)\n",
    "str_c(letters[1:2], letters[1:3])\n",
    "```"
   ]
  },
  {
   "attachments": {},
   "cell_type": "markdown",
   "metadata": {},
   "source": [
    "2. What’s the difference between paste() and paste0()? How can you recreate the equivalent of paste() with str_c()?"
   ]
  },
  {
   "attachments": {},
   "cell_type": "markdown",
   "metadata": {},
   "source": [
    "3. Convert the following expressions from str_c() to str_glue() or vice versa:\n",
    "```r\n",
    "str_c(\"The price of \", food, \" is \", price)\n",
    "\n",
    "str_glue(\"I'm {age} years old and live in {country}\")\n",
    "\n",
    "str_c(\"\\\\section{\", title, \"}\")\n",
    "```"
   ]
  },
  {
   "attachments": {},
   "cell_type": "markdown",
   "metadata": {},
   "source": [
    "## [14.5.3 Exercises](https://r4ds.hadley.nz/strings#exercises-2)"
   ]
  },
  {
   "attachments": {},
   "cell_type": "markdown",
   "metadata": {},
   "source": [
    "1. When computing the distribution of the length of babynames, why did we use wt = n?"
   ]
  },
  {
   "attachments": {},
   "cell_type": "markdown",
   "metadata": {},
   "source": [
    "2. Use str_length() and str_sub() to extract the middle letter from each baby name. What will you do if the string has an even number of characters?"
   ]
  },
  {
   "attachments": {},
   "cell_type": "markdown",
   "metadata": {},
   "source": [
    "3. Are there any major trends in the length of babynames over time? What about the popularity of first and last letters?"
   ]
  },
  {
   "attachments": {},
   "cell_type": "markdown",
   "metadata": {},
   "source": [
    "## [15.3.5 Exercises](https://r4ds.hadley.nz/regexps#exercises)"
   ]
  },
  {
   "attachments": {},
   "cell_type": "markdown",
   "metadata": {},
   "source": [
    "1. What baby name has the most vowels? What name has the highest proportion of vowels? (Hint: what is the denominator?)"
   ]
  },
  {
   "attachments": {},
   "cell_type": "markdown",
   "metadata": {},
   "source": [
    "2. Replace all forward slashes in \"a/b/c/d/e\" with backslashes. What happens if you attempt to undo the transformation by replacing all backslashes with forward slashes? (We’ll discuss the problem very soon.)"
   ]
  },
  {
   "attachments": {},
   "cell_type": "markdown",
   "metadata": {},
   "source": [
    "3. Implement a simple version of str_to_lower() using str_replace_all()."
   ]
  },
  {
   "attachments": {},
   "cell_type": "markdown",
   "metadata": {},
   "source": [
    "4. Create a regular expression that will match telephone numbers as commonly written in your country."
   ]
  },
  {
   "attachments": {},
   "cell_type": "markdown",
   "metadata": {},
   "source": [
    "## [15.4.7 Exercises](https://r4ds.hadley.nz/regexps#exercises-1)"
   ]
  },
  {
   "attachments": {},
   "cell_type": "markdown",
   "metadata": {},
   "source": [
    "1. How would you match the literal string \"'\\? How about \"$^$\"?"
   ]
  },
  {
   "attachments": {},
   "cell_type": "markdown",
   "metadata": {},
   "source": [
    "2. Explain why each of these patterns don’t match a \\: \"\\\\\", \"\\\\\\\\\", \"\\\\\\\\\\\\\"."
   ]
  },
  {
   "attachments": {},
   "cell_type": "markdown",
   "metadata": {},
   "source": [
    "3. Given the corpus of common words in stringr::words, create regular expressions that find all words that:\n",
    "\n",
    "    a. Start with “y”.  \n",
    "    b. Don’t start with “y”.  \n",
    "    c. End with “x”.  \n",
    "    d. Are exactly three letters long. (Don’t cheat by using str_length()!)  \n",
    "    e. Have seven letters or more.  \n",
    "    f. Contain a vowel-consonant pair.  \n",
    "    g. Contain at least two vowel-consonant pairs in a row.  \n",
    "    h. Only consist of repeated vowel-consonant pairs.  "
   ]
  },
  {
   "attachments": {},
   "cell_type": "markdown",
   "metadata": {},
   "source": [
    "4. Create 11 regular expressions that match the British or American spellings for each of the following words: airplane/aeroplane, aluminum/aluminium, analog/analogue, ass/arse, center/centre, defense/defence, donut/doughnut, gray/grey, modeling/modelling, skeptic/sceptic, summarize/summarise. Try and make the shortest possible regex!"
   ]
  },
  {
   "attachments": {},
   "cell_type": "markdown",
   "metadata": {},
   "source": [
    "5. Switch the first and last letters in words. Which of those strings are still words?"
   ]
  },
  {
   "attachments": {},
   "cell_type": "markdown",
   "metadata": {},
   "source": [
    "6. Describe in words what these regular expressions match: (read carefully to see if each entry is a regular expression or a string that defines a regular expression.)\n",
    "\n",
    "    a. ^.*$ \n",
    "    b. \"\\\\\\\\{.+\\\\\\\\}\" \n",
    "    c. \\d{4}-\\d{2}-\\d{2}  \n",
    "    d. \"\\\\\\\\\\\\\\\\{4}\"  \n",
    "    e. \\\\..\\\\..\\\\..  \n",
    "    f. (.)\\1\\1  \n",
    "    g. \"(..)\\\\\\\\1\"  "
   ]
  },
  {
   "attachments": {},
   "cell_type": "markdown",
   "metadata": {},
   "source": [
    "7. Solve the beginner regexp crosswords at https://regexcrossword.com/challenges/beginner."
   ]
  },
  {
   "attachments": {},
   "cell_type": "markdown",
   "metadata": {},
   "source": [
    "## [15.6.4 Exercises](https://r4ds.hadley.nz/regexps#exercises-2)"
   ]
  },
  {
   "attachments": {},
   "cell_type": "markdown",
   "metadata": {},
   "source": [
    "1. For each of the following challenges, try solving it by using both a single regular expression, and a combination of multiple str_detect() calls.\n",
    "\n",
    "    a. Find all words that start or end with x.  \n",
    "    b. Find all words that start with a vowel and end with a consonant.  \n",
    "    c. Are there any words that contain at least one of each different vowel?  "
   ]
  },
  {
   "attachments": {},
   "cell_type": "markdown",
   "metadata": {},
   "source": [
    "2. Construct patterns to find evidence for and against the rule “i before e except after c”?"
   ]
  },
  {
   "attachments": {},
   "cell_type": "markdown",
   "metadata": {},
   "source": [
    "3. colors() contains a number of modifiers like “lightgray” and “darkblue”. How could you automatically identify these modifiers? (Think about how you might detect and then remove the colors that are modified)."
   ]
  },
  {
   "attachments": {},
   "cell_type": "markdown",
   "metadata": {},
   "source": [
    "4. Create a regular expression that finds any base R dataset. You can get a list of these datasets via a special use of the data() function: data(package = \"datasets\")$results[, \"Item\"]. Note that a number of old datasets are individual vectors; these contain the name of the grouping “data frame” in parentheses, so you’ll need to strip those off."
   ]
  }
 ],
 "metadata": {
  "language_info": {
   "name": "python"
  },
  "orig_nbformat": 4
 },
 "nbformat": 4,
 "nbformat_minor": 2
}

{
 "cells": [
  {
   "cell_type": "code",
   "execution_count": null,
   "metadata": {
    "vscode": {
     "languageId": "r"
    }
   },
   "outputs": [],
   "source": []
  },
  {
   "attachments": {},
   "cell_type": "markdown",
   "metadata": {},
   "source": [
    "## [19.2.4 Exercises](https://r4ds.hadley.nz/joins#exercises)"
   ]
  },
  {
   "attachments": {},
   "cell_type": "markdown",
   "metadata": {},
   "source": [
    "1. We forgot to draw the relationship between weather and airports in Figure 19.1. What is the relationship and how should it appear in the diagram?"
   ]
  },
  {
   "attachments": {},
   "cell_type": "markdown",
   "metadata": {},
   "source": [
    "2. weather only contains information for the three origin airports in NYC. If it contained weather records for all airports in the USA, what additional connection would it make to flights?"
   ]
  },
  {
   "attachments": {},
   "cell_type": "markdown",
   "metadata": {},
   "source": [
    "3. The year, month, day, hour, and origin variables almost form a compound key for weather, but there’s one hour that has duplicate observations. Can you figure out what’s special about that hour?"
   ]
  },
  {
   "attachments": {},
   "cell_type": "markdown",
   "metadata": {},
   "source": [
    "4. We know that some days of the year are special and fewer people than usual fly on them (e.g., Christmas eve and Christmas day). How might you represent that data as a data frame? What would be the primary key? How would it connect to the existing data frames?"
   ]
  },
  {
   "attachments": {},
   "cell_type": "markdown",
   "metadata": {},
   "source": [
    "5. Draw a diagram illustrating the connections between the Batting, People, and Salaries data frames in the Lahman package. Draw another diagram that shows the relationship between People, Managers, AwardsManagers. How would you characterize the relationship between the Batting, Pitching, and Fielding data frames?"
   ]
  },
  {
   "attachments": {},
   "cell_type": "markdown",
   "metadata": {},
   "source": [
    "## [19.3.4 Exercises](https://r4ds.hadley.nz/joins#exercises-1)"
   ]
  },
  {
   "attachments": {},
   "cell_type": "markdown",
   "metadata": {},
   "source": [
    "1. Find the 48 hours (over the course of the whole year) that have the worst delays. Cross-reference it with the weather data. Can you see any patterns?"
   ]
  },
  {
   "attachments": {},
   "cell_type": "markdown",
   "metadata": {},
   "source": [
    "2. Imagine you’ve found the top 10 most popular destinations using this code:\n",
    "```r\n",
    "top_dest <- flights2 |>\n",
    "  count(dest, sort = TRUE) |>\n",
    "  head(10)\n",
    "```\n",
    "How can you find all flights to those destinations?"
   ]
  },
  {
   "attachments": {},
   "cell_type": "markdown",
   "metadata": {},
   "source": [
    "3. Does every departing flight have corresponding weather data for that hour?"
   ]
  },
  {
   "attachments": {},
   "cell_type": "markdown",
   "metadata": {},
   "source": [
    "4. What do the tail numbers that don’t have a matching record in planes have in common? (Hint: one variable explains ~90% of the problems.)"
   ]
  },
  {
   "attachments": {},
   "cell_type": "markdown",
   "metadata": {},
   "source": [
    "5. Add a column to planes that lists every carrier that has flown that plane. You might expect that there’s an implicit relationship between plane and airline, because each plane is flown by a single airline. Confirm or reject this hypothesis using the tools you’ve learned in previous chapters."
   ]
  },
  {
   "attachments": {},
   "cell_type": "markdown",
   "metadata": {},
   "source": [
    "6. Add the latitude and the longitude of the origin and destination airport to flights. Is it easier to rename the columns before or after the join?"
   ]
  },
  {
   "attachments": {},
   "cell_type": "markdown",
   "metadata": {},
   "source": [
    "7. Compute the average delay by destination, then join on the airports data frame so you can show the spatial distribution of delays. Here’s an easy way to draw a map of the United States:\n",
    "```r\n",
    "airports |>\n",
    "  semi_join(flights, join_by(faa == dest)) |>\n",
    "  ggplot(aes(x = lon, y = lat)) +\n",
    "    borders(\"state\") +\n",
    "    geom_point() +\n",
    "    coord_quickmap()\n",
    "```\n",
    "You might want to use the size or color of the points to display the average delay for each airport."
   ]
  },
  {
   "attachments": {},
   "cell_type": "markdown",
   "metadata": {},
   "source": [
    "8. What happened on June 13 2013? Draw a map of the delays, and then use Google to cross-reference with the weather."
   ]
  },
  {
   "attachments": {},
   "cell_type": "markdown",
   "metadata": {},
   "source": [
    "## [19.5.5 Exercises](https://r4ds.hadley.nz/joins#exercises-2)"
   ]
  },
  {
   "attachments": {},
   "cell_type": "markdown",
   "metadata": {},
   "source": [
    "1. Can you explain what’s happening with the keys in this equi join? Why are they different?\n",
    "```r\n",
    "x |> full_join(y, join_by(key == key))\n",
    "#> # A tibble: 4 × 3\n",
    "#>     key val_x val_y\n",
    "#>   <dbl> <chr> <chr>\n",
    "#> 1     1 x1    y1   \n",
    "#> 2     2 x2    y2   \n",
    "#> 3     3 x3    <NA> \n",
    "#> 4     4 <NA>  y3\n",
    "\n",
    "x |> full_join(y, join_by(key == key), keep = TRUE)\n",
    "#> # A tibble: 4 × 4\n",
    "#>   key.x val_x key.y val_y\n",
    "#>   <dbl> <chr> <dbl> <chr>\n",
    "#> 1     1 x1        1 y1   \n",
    "#> 2     2 x2        2 y2   \n",
    "#> 3     3 x3       NA <NA> \n",
    "#> 4    NA <NA>      4 y3\n",
    "```"
   ]
  },
  {
   "attachments": {},
   "cell_type": "markdown",
   "metadata": {},
   "source": [
    "2. When finding if any party period overlapped with another party period we used q < q in the join_by()? Why? What happens if you remove this inequality?"
   ]
  }
 ],
 "metadata": {
  "kernelspec": {
   "display_name": "R",
   "language": "R",
   "name": "ir"
  },
  "language_info": {
   "name": "R"
  },
  "orig_nbformat": 4
 },
 "nbformat": 4,
 "nbformat_minor": 2
}

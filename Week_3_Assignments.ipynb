{
 "cells": [
  {
   "cell_type": "code",
   "execution_count": 2,
   "metadata": {
    "vscode": {
     "languageId": "r"
    }
   },
   "outputs": [
    {
     "name": "stderr",
     "output_type": "stream",
     "text": [
      "── \u001b[1mAttaching packages\u001b[22m ─────────────────────────────────────── tidyverse 1.3.2 ──\n",
      "\u001b[32m✔\u001b[39m \u001b[34mggplot2\u001b[39m 3.5.1     \u001b[32m✔\u001b[39m \u001b[34mpurrr  \u001b[39m 1.0.2\n",
      "\u001b[32m✔\u001b[39m \u001b[34mtibble \u001b[39m 3.2.1     \u001b[32m✔\u001b[39m \u001b[34mdplyr  \u001b[39m 1.1.4\n",
      "\u001b[32m✔\u001b[39m \u001b[34mtidyr  \u001b[39m 1.3.1     \u001b[32m✔\u001b[39m \u001b[34mstringr\u001b[39m 1.5.1\n",
      "\u001b[32m✔\u001b[39m \u001b[34mreadr  \u001b[39m 2.1.5     \u001b[32m✔\u001b[39m \u001b[34mforcats\u001b[39m 1.0.0\n",
      "Warning message:\n",
      "“package ‘ggplot2’ was built under R version 4.2.3”\n",
      "Warning message:\n",
      "“package ‘tibble’ was built under R version 4.2.3”\n",
      "Warning message:\n",
      "“package ‘tidyr’ was built under R version 4.2.3”\n",
      "Warning message:\n",
      "“package ‘readr’ was built under R version 4.2.3”\n",
      "Warning message:\n",
      "“package ‘purrr’ was built under R version 4.2.3”\n",
      "Warning message:\n",
      "“package ‘dplyr’ was built under R version 4.2.3”\n",
      "Warning message:\n",
      "“package ‘stringr’ was built under R version 4.2.3”\n",
      "Warning message:\n",
      "“package ‘forcats’ was built under R version 4.2.3”\n",
      "── \u001b[1mConflicts\u001b[22m ────────────────────────────────────────── tidyverse_conflicts() ──\n",
      "\u001b[31m✖\u001b[39m \u001b[34mdplyr\u001b[39m::\u001b[32mfilter()\u001b[39m masks \u001b[34mstats\u001b[39m::filter()\n",
      "\u001b[31m✖\u001b[39m \u001b[34mdplyr\u001b[39m::\u001b[32mlag()\u001b[39m    masks \u001b[34mstats\u001b[39m::lag()\n"
     ]
    }
   ],
   "source": [
    "library(tidyverse)"
   ]
  },
  {
   "attachments": {},
   "cell_type": "markdown",
   "metadata": {},
   "source": [
    "## [5.2.1 Exercises](https://r4ds.hadley.nz/data-tidy#exercises)"
   ]
  },
  {
   "attachments": {},
   "cell_type": "markdown",
   "metadata": {},
   "source": [
    "1. For each of the sample tables, describe what each observation and each column represents."
   ]
  },
  {
   "attachments": {},
   "cell_type": "markdown",
   "metadata": {},
   "source": [
    "Table 1: Each observation is for the cases and population of a country in a specific year. The first column is stating the country, the next the year, then the cases of TB that occurred in that country in that year as well as the population number in the last column.\n",
    "\n",
    "Table 2: Each observation is either the number of cases or the population of a country for a specific year. The first two columns (country and year) are the same as in table one. The third column states wether the last column's number is the cases or population of that country for that year.\n",
    "\n",
    "Table 3: Each observation is the rate of cases to the population of a country for a specific year. The first two columns (country and year) are the same as in table one. The last column takes the last two columns from table 1 (cases and population) and combines them into a rate of cases/population."
   ]
  },
  {
   "attachments": {},
   "cell_type": "markdown",
   "metadata": {},
   "source": [
    "2. Sketch out the process you’d use to calculate the rate for table2 and table3. You will need to perform four operations:  \n",
    "\n",
    "    a. Extract the number of TB cases per country per year.  \n",
    "    b. Extract the matching population per country per year.  \n",
    "    c. Divide cases by population, and multiply by 10000.  \n",
    "    d. Store back in the appropriate place.  \n",
    "      \n",
    "You haven’t yet learned all the functions you’d need to actually perform these operations, but you should still be able to think through the transformations you’d need."
   ]
  },
  {
   "attachments": {},
   "cell_type": "markdown",
   "metadata": {},
   "source": [
    "Table 2: The below code should work to create vectors of both population and cases, removes the double country,year rows, then mutates to add a new column called rate using the vectors.\n",
    "```r\n",
    "pop <- table2 |>\n",
    "    filter(type == \"population\") |>\n",
    "    select(count)\n",
    "\n",
    "cases <- table2 |>\n",
    "    filter(type == \"cases\") |>\n",
    "    select(count)\n",
    "\n",
    "table2 |>\n",
    "    select(country, year) |>\n",
    "    distinct() |>\n",
    "    mutate(rate = cases/pop * 10000)\n",
    "```\n",
    "\n",
    "Table 3: This one I can't currently do. Somehow you would need to separate the values in the rate column by \"/\" and either create vectors or new columns for each side. The use mutate the same as you would for table 2 using those vector or columns.\n",
    "```r\n",
    "table3 |>\n",
    "    #somehow separate the values in the rate column to before and after the \"/\" character |>\n",
    "    select(-rate) |>\n",
    "    mutate(rate = cases/pop * 10000)\n",
    "```"
   ]
  }
 ],
 "metadata": {
  "kernelspec": {
   "display_name": "R",
   "language": "R",
   "name": "ir"
  },
  "language_info": {
   "codemirror_mode": "r",
   "file_extension": ".r",
   "mimetype": "text/x-r-source",
   "name": "R",
   "pygments_lexer": "r",
   "version": "4.2.1"
  },
  "orig_nbformat": 4
 },
 "nbformat": 4,
 "nbformat_minor": 2
}

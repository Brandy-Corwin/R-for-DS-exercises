{
 "cells": [
  {
   "cell_type": "code",
   "execution_count": null,
   "metadata": {
    "vscode": {
     "languageId": "r"
    }
   },
   "outputs": [],
   "source": []
  },
  {
   "attachments": {},
   "cell_type": "markdown",
   "metadata": {},
   "source": [
    "## [5.2.1 Exercises](https://r4ds.hadley.nz/data-tidy#exercises)"
   ]
  },
  {
   "attachments": {},
   "cell_type": "markdown",
   "metadata": {},
   "source": [
    "1. For each of the sample tables, describe what each observation and each column represents."
   ]
  },
  {
   "attachments": {},
   "cell_type": "markdown",
   "metadata": {},
   "source": [
    "2. Sketch out the process you’d use to calculate the rate for table2 and table3. You will need to perform four operations:  \n",
    "\n",
    "    a. Extract the number of TB cases per country per year.  \n",
    "    b. Extract the matching population per country per year.  \n",
    "    c. Divide cases by population, and multiply by 10000.  \n",
    "    d. Store back in the appropriate place.  \n",
    "      \n",
    "You haven’t yet learned all the functions you’d need to actually perform these operations, but you should still be able to think through the transformations you’d need."
   ]
  }
 ],
 "metadata": {
  "kernelspec": {
   "display_name": "R",
   "language": "R",
   "name": "ir"
  },
  "language_info": {
   "name": "R"
  },
  "orig_nbformat": 4
 },
 "nbformat": 4,
 "nbformat_minor": 2
}

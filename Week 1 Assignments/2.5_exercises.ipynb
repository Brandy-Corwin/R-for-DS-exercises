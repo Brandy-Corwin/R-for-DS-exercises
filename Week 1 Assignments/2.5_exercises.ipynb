{
 "cells": [
  {
   "attachments": {},
   "cell_type": "markdown",
   "metadata": {},
   "source": [
    "1. Why does this code not work?\n",
    "```r\n",
    "my_variable <- 10\n",
    "my_varıable\n",
    "#> Error: object 'my_varıable' not found\n",
    "```\n",
    "Look carefully! (This may seem like an exercise in pointlessness, but training your brain to notice even the tiniest difference will pay off when programming.)"
   ]
  },
  {
   "attachments": {},
   "cell_type": "markdown",
   "metadata": {},
   "source": [
    "2. Tweak each of the following R commands so that they run correctly:\n",
    "```r\n",
    "libary(todyverse)\n",
    "\n",
    "ggplot(dTA = mpg) + \n",
    "  geom_point(maping = aes(x = displ y = hwy)) +\n",
    "  geom_smooth(method = \"lm)\n",
    "```"
   ]
  },
  {
   "attachments": {},
   "cell_type": "markdown",
   "metadata": {},
   "source": [
    "3. Press Option + Shift + K / Alt + Shift + K. What happens? How can you get to the same place using the menus?"
   ]
  },
  {
   "attachments": {},
   "cell_type": "markdown",
   "metadata": {},
   "source": [
    "4. Let’s revisit an exercise from the Section 1.6. Run the following lines of code. Which of the two plots is saved as mpg-plot.png? Why?\n",
    "```r\n",
    "my_bar_plot <- ggplot(mpg, aes(x = class)) +\n",
    "  geom_bar()\n",
    "my_scatter_plot <- ggplot(mpg, aes(x = cty, y = hwy)) +\n",
    "  geom_point()\n",
    "ggsave(filename = \"mpg-plot.png\", plot = my_bar_plot)\n",
    "```"
   ]
  }
 ],
 "metadata": {
  "language_info": {
   "name": "python"
  },
  "orig_nbformat": 4
 },
 "nbformat": 4,
 "nbformat_minor": 2
}

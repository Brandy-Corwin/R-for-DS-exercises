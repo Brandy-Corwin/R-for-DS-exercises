{
 "cells": [
  {
   "attachments": {},
   "cell_type": "markdown",
   "metadata": {},
   "source": [
    "1. Run the following lines of code. Which of the two plots is saved as mpg-plot.png? Why?\n",
    "```r\n",
    "ggplot(mpg, aes(x = class)) +\n",
    "  geom_bar()\n",
    "ggplot(mpg, aes(x = cty, y = hwy)) +\n",
    "  geom_point()\n",
    "ggsave(\"mpg-plot.png\")\n",
    "```"
   ]
  },
  {
   "attachments": {},
   "cell_type": "markdown",
   "metadata": {},
   "source": [
    "2. What do you need to change in the code above to save the plot as a PDF instead of a PNG? How could you find out what types of image files would work in ggsave()?"
   ]
  }
 ],
 "metadata": {
  "language_info": {
   "name": "python"
  },
  "orig_nbformat": 4
 },
 "nbformat": 4,
 "nbformat_minor": 2
}

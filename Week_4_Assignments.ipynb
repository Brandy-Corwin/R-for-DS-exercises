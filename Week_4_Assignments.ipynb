{
 "cells": [
  {
   "cell_type": "code",
   "execution_count": 1,
   "metadata": {
    "vscode": {
     "languageId": "r"
    }
   },
   "outputs": [
    {
     "name": "stderr",
     "output_type": "stream",
     "text": [
      "── \u001b[1mAttaching packages\u001b[22m ─────────────────────────────────────── tidyverse 1.3.2 ──\n",
      "\u001b[32m✔\u001b[39m \u001b[34mggplot2\u001b[39m 3.5.1     \u001b[32m✔\u001b[39m \u001b[34mpurrr  \u001b[39m 1.0.2\n",
      "\u001b[32m✔\u001b[39m \u001b[34mtibble \u001b[39m 3.2.1     \u001b[32m✔\u001b[39m \u001b[34mdplyr  \u001b[39m 1.1.4\n",
      "\u001b[32m✔\u001b[39m \u001b[34mtidyr  \u001b[39m 1.3.1     \u001b[32m✔\u001b[39m \u001b[34mstringr\u001b[39m 1.5.1\n",
      "\u001b[32m✔\u001b[39m \u001b[34mreadr  \u001b[39m 2.1.5     \u001b[32m✔\u001b[39m \u001b[34mforcats\u001b[39m 1.0.0\n",
      "Warning message:\n",
      "“package ‘ggplot2’ was built under R version 4.2.3”\n",
      "Warning message:\n",
      "“package ‘tibble’ was built under R version 4.2.3”\n",
      "Warning message:\n",
      "“package ‘tidyr’ was built under R version 4.2.3”\n",
      "Warning message:\n",
      "“package ‘readr’ was built under R version 4.2.3”\n",
      "Warning message:\n",
      "“package ‘purrr’ was built under R version 4.2.3”\n",
      "Warning message:\n",
      "“package ‘dplyr’ was built under R version 4.2.3”\n",
      "Warning message:\n",
      "“package ‘stringr’ was built under R version 4.2.3”\n",
      "Warning message:\n",
      "“package ‘forcats’ was built under R version 4.2.3”\n",
      "── \u001b[1mConflicts\u001b[22m ────────────────────────────────────────── tidyverse_conflicts() ──\n",
      "\u001b[31m✖\u001b[39m \u001b[34mdplyr\u001b[39m::\u001b[32mfilter()\u001b[39m masks \u001b[34mstats\u001b[39m::filter()\n",
      "\u001b[31m✖\u001b[39m \u001b[34mdplyr\u001b[39m::\u001b[32mlag()\u001b[39m    masks \u001b[34mstats\u001b[39m::lag()\n"
     ]
    }
   ],
   "source": [
    "library(tidyverse)"
   ]
  },
  {
   "attachments": {},
   "cell_type": "markdown",
   "metadata": {},
   "source": [
    "## [7.2.4 Exercises](https://r4ds.hadley.nz/data-import#exercises)"
   ]
  },
  {
   "attachments": {},
   "cell_type": "markdown",
   "metadata": {},
   "source": [
    "1. What function would you use to read a file where fields were separated with “|”?"
   ]
  },
  {
   "attachments": {},
   "cell_type": "markdown",
   "metadata": {},
   "source": [
    "read_delim()"
   ]
  },
  {
   "attachments": {},
   "cell_type": "markdown",
   "metadata": {},
   "source": [
    "2. Apart from file, skip, and comment, what other arguments do read_csv() and read_tsv() have in common?"
   ]
  },
  {
   "attachments": {},
   "cell_type": "markdown",
   "metadata": {},
   "source": [
    "All of their arguments are the same."
   ]
  },
  {
   "attachments": {},
   "cell_type": "markdown",
   "metadata": {},
   "source": [
    "3. What are the most important arguments to read_fwf()?"
   ]
  },
  {
   "attachments": {},
   "cell_type": "markdown",
   "metadata": {},
   "source": [
    "The col_positions argument so it can know what the columns are."
   ]
  },
  {
   "attachments": {},
   "cell_type": "markdown",
   "metadata": {},
   "source": [
    "4. Sometimes strings in a CSV file contain commas. To prevent them from causing problems, they need to be surrounded by a quoting character, like \" or '. By default, read_csv() assumes that the quoting character will be \". To read the following text into a data frame, what argument to read_csv() do you need to specify?\n",
    "```r\n",
    "\"x,y\\n1,'a,b'\"\n",
    "```"
   ]
  },
  {
   "attachments": {},
   "cell_type": "markdown",
   "metadata": {},
   "source": [
    "quote = \"\\\\'\""
   ]
  },
  {
   "attachments": {},
   "cell_type": "markdown",
   "metadata": {},
   "source": [
    "5. Identify what is wrong with each of the following inline CSV files. What happens when you run the code?\n",
    "```r\n",
    "read_csv(\"a,b\\n1,2,3\\n4,5,6\")\n",
    "read_csv(\"a,b,c\\n1,2\\n1,2,3,4\")\n",
    "read_csv(\"a,b\\n\\\"1\")\n",
    "read_csv(\"a,b\\n1,2\\na,b\")\n",
    "read_csv(\"a;b\\n1;3\")\n",
    "```"
   ]
  },
  {
   "attachments": {},
   "cell_type": "markdown",
   "metadata": {},
   "source": [
    "There are two column names but three columns."
   ]
  },
  {
   "cell_type": "code",
   "execution_count": 3,
   "metadata": {
    "vscode": {
     "languageId": "r"
    }
   },
   "outputs": [
    {
     "name": "stderr",
     "output_type": "stream",
     "text": [
      "Warning message:\n",
      "“\u001b[1m\u001b[22mOne or more parsing issues, call `problems()` on your data frame for details,\n",
      "e.g.:\n",
      "  dat <- vroom(...)\n",
      "  problems(dat)”\n",
      "\u001b[1mRows: \u001b[22m\u001b[34m2\u001b[39m \u001b[1mColumns: \u001b[22m\u001b[34m2\u001b[39m\n",
      "\u001b[36m──\u001b[39m \u001b[1mColumn specification\u001b[22m \u001b[36m────────────────────────────────────────────────────────\u001b[39m\n",
      "\u001b[1mDelimiter:\u001b[22m \",\"\n",
      "\u001b[32mdbl\u001b[39m (1): a\n",
      "\u001b[32mnum\u001b[39m (1): b\n",
      "\n",
      "\u001b[36mℹ\u001b[39m Use `spec()` to retrieve the full column specification for this data.\n",
      "\u001b[36mℹ\u001b[39m Specify the column types or set `show_col_types = FALSE` to quiet this message.\n"
     ]
    },
    {
     "data": {
      "text/html": [
       "<table class=\"dataframe\">\n",
       "<caption>A spec_tbl_df: 2 × 2</caption>\n",
       "<thead>\n",
       "\t<tr><th scope=col>a</th><th scope=col>b</th></tr>\n",
       "\t<tr><th scope=col>&lt;dbl&gt;</th><th scope=col>&lt;dbl&gt;</th></tr>\n",
       "</thead>\n",
       "<tbody>\n",
       "\t<tr><td>1</td><td>23</td></tr>\n",
       "\t<tr><td>4</td><td>56</td></tr>\n",
       "</tbody>\n",
       "</table>\n"
      ],
      "text/latex": [
       "A spec\\_tbl\\_df: 2 × 2\n",
       "\\begin{tabular}{ll}\n",
       " a & b\\\\\n",
       " <dbl> & <dbl>\\\\\n",
       "\\hline\n",
       "\t 1 & 23\\\\\n",
       "\t 4 & 56\\\\\n",
       "\\end{tabular}\n"
      ],
      "text/markdown": [
       "\n",
       "A spec_tbl_df: 2 × 2\n",
       "\n",
       "| a &lt;dbl&gt; | b &lt;dbl&gt; |\n",
       "|---|---|\n",
       "| 1 | 23 |\n",
       "| 4 | 56 |\n",
       "\n"
      ],
      "text/plain": [
       "  a b \n",
       "1 1 23\n",
       "2 4 56"
      ]
     },
     "metadata": {},
     "output_type": "display_data"
    }
   ],
   "source": [
    "read_csv(\"a,b\\n1,2,3\\n4,5,6\")"
   ]
  },
  {
   "attachments": {},
   "cell_type": "markdown",
   "metadata": {},
   "source": [
    "There are three column names but row one only has two columns and row two has four columns."
   ]
  },
  {
   "cell_type": "code",
   "execution_count": 4,
   "metadata": {
    "vscode": {
     "languageId": "r"
    }
   },
   "outputs": [
    {
     "name": "stderr",
     "output_type": "stream",
     "text": [
      "Warning message:\n",
      "“\u001b[1m\u001b[22mOne or more parsing issues, call `problems()` on your data frame for details,\n",
      "e.g.:\n",
      "  dat <- vroom(...)\n",
      "  problems(dat)”\n",
      "\u001b[1mRows: \u001b[22m\u001b[34m2\u001b[39m \u001b[1mColumns: \u001b[22m\u001b[34m3\u001b[39m\n",
      "\u001b[36m──\u001b[39m \u001b[1mColumn specification\u001b[22m \u001b[36m────────────────────────────────────────────────────────\u001b[39m\n",
      "\u001b[1mDelimiter:\u001b[22m \",\"\n",
      "\u001b[32mdbl\u001b[39m (2): a, b\n",
      "\u001b[32mnum\u001b[39m (1): c\n",
      "\n",
      "\u001b[36mℹ\u001b[39m Use `spec()` to retrieve the full column specification for this data.\n",
      "\u001b[36mℹ\u001b[39m Specify the column types or set `show_col_types = FALSE` to quiet this message.\n"
     ]
    },
    {
     "data": {
      "text/html": [
       "<table class=\"dataframe\">\n",
       "<caption>A spec_tbl_df: 2 × 3</caption>\n",
       "<thead>\n",
       "\t<tr><th scope=col>a</th><th scope=col>b</th><th scope=col>c</th></tr>\n",
       "\t<tr><th scope=col>&lt;dbl&gt;</th><th scope=col>&lt;dbl&gt;</th><th scope=col>&lt;dbl&gt;</th></tr>\n",
       "</thead>\n",
       "<tbody>\n",
       "\t<tr><td>1</td><td>2</td><td>NA</td></tr>\n",
       "\t<tr><td>1</td><td>2</td><td>34</td></tr>\n",
       "</tbody>\n",
       "</table>\n"
      ],
      "text/latex": [
       "A spec\\_tbl\\_df: 2 × 3\n",
       "\\begin{tabular}{lll}\n",
       " a & b & c\\\\\n",
       " <dbl> & <dbl> & <dbl>\\\\\n",
       "\\hline\n",
       "\t 1 & 2 & NA\\\\\n",
       "\t 1 & 2 & 34\\\\\n",
       "\\end{tabular}\n"
      ],
      "text/markdown": [
       "\n",
       "A spec_tbl_df: 2 × 3\n",
       "\n",
       "| a &lt;dbl&gt; | b &lt;dbl&gt; | c &lt;dbl&gt; |\n",
       "|---|---|---|\n",
       "| 1 | 2 | NA |\n",
       "| 1 | 2 | 34 |\n",
       "\n"
      ],
      "text/plain": [
       "  a b c \n",
       "1 1 2 NA\n",
       "2 1 2 34"
      ]
     },
     "metadata": {},
     "output_type": "display_data"
    }
   ],
   "source": [
    "read_csv(\"a,b,c\\n1,2\\n1,2,3,4\")"
   ]
  },
  {
   "attachments": {},
   "cell_type": "markdown",
   "metadata": {},
   "source": [
    "The extra \\\" after the n makes it so that no values are entered into the table."
   ]
  },
  {
   "cell_type": "code",
   "execution_count": 5,
   "metadata": {
    "vscode": {
     "languageId": "r"
    }
   },
   "outputs": [
    {
     "name": "stderr",
     "output_type": "stream",
     "text": [
      "\u001b[1mRows: \u001b[22m\u001b[34m0\u001b[39m \u001b[1mColumns: \u001b[22m\u001b[34m2\u001b[39m\n",
      "\u001b[36m──\u001b[39m \u001b[1mColumn specification\u001b[22m \u001b[36m────────────────────────────────────────────────────────\u001b[39m\n",
      "\u001b[1mDelimiter:\u001b[22m \",\"\n",
      "\u001b[31mchr\u001b[39m (2): a, b\n",
      "\n",
      "\u001b[36mℹ\u001b[39m Use `spec()` to retrieve the full column specification for this data.\n",
      "\u001b[36mℹ\u001b[39m Specify the column types or set `show_col_types = FALSE` to quiet this message.\n"
     ]
    },
    {
     "data": {
      "text/html": [
       "<table class=\"dataframe\">\n",
       "<caption>A spec_tbl_df: 0 × 2</caption>\n",
       "<thead>\n",
       "\t<tr><th scope=col>a</th><th scope=col>b</th></tr>\n",
       "\t<tr><th scope=col>&lt;chr&gt;</th><th scope=col>&lt;chr&gt;</th></tr>\n",
       "</thead>\n",
       "<tbody>\n",
       "</tbody>\n",
       "</table>\n"
      ],
      "text/latex": [
       "A spec\\_tbl\\_df: 0 × 2\n",
       "\\begin{tabular}{ll}\n",
       " a & b\\\\\n",
       " <chr> & <chr>\\\\\n",
       "\\hline\n",
       "\\end{tabular}\n"
      ],
      "text/markdown": [
       "\n",
       "A spec_tbl_df: 0 × 2\n",
       "\n",
       "| a &lt;chr&gt; | b &lt;chr&gt; |\n",
       "|---|---|\n",
       "\n"
      ],
      "text/plain": [
       "     a b"
      ]
     },
     "metadata": {},
     "output_type": "display_data"
    }
   ],
   "source": [
    "read_csv(\"a,b\\n\\\"1\")"
   ]
  },
  {
   "attachments": {},
   "cell_type": "markdown",
   "metadata": {},
   "source": [
    "Since both columns have a numeric and character value, the column type goes to character."
   ]
  },
  {
   "cell_type": "code",
   "execution_count": 6,
   "metadata": {
    "vscode": {
     "languageId": "r"
    }
   },
   "outputs": [
    {
     "name": "stderr",
     "output_type": "stream",
     "text": [
      "\u001b[1mRows: \u001b[22m\u001b[34m2\u001b[39m \u001b[1mColumns: \u001b[22m\u001b[34m2\u001b[39m\n",
      "\u001b[36m──\u001b[39m \u001b[1mColumn specification\u001b[22m \u001b[36m────────────────────────────────────────────────────────\u001b[39m\n",
      "\u001b[1mDelimiter:\u001b[22m \",\"\n",
      "\u001b[31mchr\u001b[39m (2): a, b\n",
      "\n",
      "\u001b[36mℹ\u001b[39m Use `spec()` to retrieve the full column specification for this data.\n",
      "\u001b[36mℹ\u001b[39m Specify the column types or set `show_col_types = FALSE` to quiet this message.\n"
     ]
    },
    {
     "data": {
      "text/html": [
       "<table class=\"dataframe\">\n",
       "<caption>A spec_tbl_df: 2 × 2</caption>\n",
       "<thead>\n",
       "\t<tr><th scope=col>a</th><th scope=col>b</th></tr>\n",
       "\t<tr><th scope=col>&lt;chr&gt;</th><th scope=col>&lt;chr&gt;</th></tr>\n",
       "</thead>\n",
       "<tbody>\n",
       "\t<tr><td>1</td><td>2</td></tr>\n",
       "\t<tr><td>a</td><td>b</td></tr>\n",
       "</tbody>\n",
       "</table>\n"
      ],
      "text/latex": [
       "A spec\\_tbl\\_df: 2 × 2\n",
       "\\begin{tabular}{ll}\n",
       " a & b\\\\\n",
       " <chr> & <chr>\\\\\n",
       "\\hline\n",
       "\t 1 & 2\\\\\n",
       "\t a & b\\\\\n",
       "\\end{tabular}\n"
      ],
      "text/markdown": [
       "\n",
       "A spec_tbl_df: 2 × 2\n",
       "\n",
       "| a &lt;chr&gt; | b &lt;chr&gt; |\n",
       "|---|---|\n",
       "| 1 | 2 |\n",
       "| a | b |\n",
       "\n"
      ],
      "text/plain": [
       "  a b\n",
       "1 1 2\n",
       "2 a b"
      ]
     },
     "metadata": {},
     "output_type": "display_data"
    }
   ],
   "source": [
    "read_csv(\"a,b\\n1,2\\na,b\")"
   ]
  },
  {
   "attachments": {},
   "cell_type": "markdown",
   "metadata": {},
   "source": [
    "The delimiter is ; instead of ,."
   ]
  },
  {
   "cell_type": "code",
   "execution_count": 7,
   "metadata": {
    "vscode": {
     "languageId": "r"
    }
   },
   "outputs": [
    {
     "name": "stderr",
     "output_type": "stream",
     "text": [
      "\u001b[1mRows: \u001b[22m\u001b[34m1\u001b[39m \u001b[1mColumns: \u001b[22m\u001b[34m1\u001b[39m\n",
      "\u001b[36m──\u001b[39m \u001b[1mColumn specification\u001b[22m \u001b[36m────────────────────────────────────────────────────────\u001b[39m\n",
      "\u001b[1mDelimiter:\u001b[22m \",\"\n",
      "\u001b[31mchr\u001b[39m (1): a;b\n",
      "\n",
      "\u001b[36mℹ\u001b[39m Use `spec()` to retrieve the full column specification for this data.\n",
      "\u001b[36mℹ\u001b[39m Specify the column types or set `show_col_types = FALSE` to quiet this message.\n"
     ]
    },
    {
     "data": {
      "text/html": [
       "<table class=\"dataframe\">\n",
       "<caption>A spec_tbl_df: 1 × 1</caption>\n",
       "<thead>\n",
       "\t<tr><th scope=col>a;b</th></tr>\n",
       "\t<tr><th scope=col>&lt;chr&gt;</th></tr>\n",
       "</thead>\n",
       "<tbody>\n",
       "\t<tr><td>1;3</td></tr>\n",
       "</tbody>\n",
       "</table>\n"
      ],
      "text/latex": [
       "A spec\\_tbl\\_df: 1 × 1\n",
       "\\begin{tabular}{l}\n",
       " a;b\\\\\n",
       " <chr>\\\\\n",
       "\\hline\n",
       "\t 1;3\\\\\n",
       "\\end{tabular}\n"
      ],
      "text/markdown": [
       "\n",
       "A spec_tbl_df: 1 × 1\n",
       "\n",
       "| a;b &lt;chr&gt; |\n",
       "|---|\n",
       "| 1;3 |\n",
       "\n"
      ],
      "text/plain": [
       "  a;b\n",
       "1 1;3"
      ]
     },
     "metadata": {},
     "output_type": "display_data"
    }
   ],
   "source": [
    "read_csv(\"a;b\\n1;3\")"
   ]
  },
  {
   "attachments": {},
   "cell_type": "markdown",
   "metadata": {},
   "source": [
    "6. Practice referring to non-syntactic names in the following data frame by:  \n",
    "\n",
    "    a. Extracting the variable called 1.  \n",
    "    b. Plotting a scatterplot of 1 vs. 2.  \n",
    "    c. Creating a new column called 3, which is 2 divided by 1.  \n",
    "    d. Renaming the columns to one, two, and three.    \n",
    "```r\n",
    "annoying <- tibble(\n",
    "  `1` = 1:10,\n",
    "  `2` = `1` * 2 + rnorm(length(`1`))\n",
    ")\n",
    "```"
   ]
  },
  {
   "cell_type": "code",
   "execution_count": 30,
   "metadata": {
    "vscode": {
     "languageId": "r"
    }
   },
   "outputs": [
    {
     "data": {
      "text/html": [
       "<table class=\"dataframe\">\n",
       "<caption>A tibble: 10 × 2</caption>\n",
       "<thead>\n",
       "\t<tr><th scope=col>1</th><th scope=col>2</th></tr>\n",
       "\t<tr><th scope=col>&lt;int&gt;</th><th scope=col>&lt;dbl&gt;</th></tr>\n",
       "</thead>\n",
       "<tbody>\n",
       "\t<tr><td> 1</td><td> 3.456991</td></tr>\n",
       "\t<tr><td> 2</td><td> 2.774524</td></tr>\n",
       "\t<tr><td> 3</td><td> 7.763572</td></tr>\n",
       "\t<tr><td> 4</td><td> 6.761841</td></tr>\n",
       "\t<tr><td> 5</td><td>11.236072</td></tr>\n",
       "\t<tr><td> 6</td><td>11.928628</td></tr>\n",
       "\t<tr><td> 7</td><td>14.239181</td></tr>\n",
       "\t<tr><td> 8</td><td>17.778761</td></tr>\n",
       "\t<tr><td> 9</td><td>18.272125</td></tr>\n",
       "\t<tr><td>10</td><td>19.503880</td></tr>\n",
       "</tbody>\n",
       "</table>\n"
      ],
      "text/latex": [
       "A tibble: 10 × 2\n",
       "\\begin{tabular}{ll}\n",
       " 1 & 2\\\\\n",
       " <int> & <dbl>\\\\\n",
       "\\hline\n",
       "\t  1 &  3.456991\\\\\n",
       "\t  2 &  2.774524\\\\\n",
       "\t  3 &  7.763572\\\\\n",
       "\t  4 &  6.761841\\\\\n",
       "\t  5 & 11.236072\\\\\n",
       "\t  6 & 11.928628\\\\\n",
       "\t  7 & 14.239181\\\\\n",
       "\t  8 & 17.778761\\\\\n",
       "\t  9 & 18.272125\\\\\n",
       "\t 10 & 19.503880\\\\\n",
       "\\end{tabular}\n"
      ],
      "text/markdown": [
       "\n",
       "A tibble: 10 × 2\n",
       "\n",
       "| 1 &lt;int&gt; | 2 &lt;dbl&gt; |\n",
       "|---|---|\n",
       "|  1 |  3.456991 |\n",
       "|  2 |  2.774524 |\n",
       "|  3 |  7.763572 |\n",
       "|  4 |  6.761841 |\n",
       "|  5 | 11.236072 |\n",
       "|  6 | 11.928628 |\n",
       "|  7 | 14.239181 |\n",
       "|  8 | 17.778761 |\n",
       "|  9 | 18.272125 |\n",
       "| 10 | 19.503880 |\n",
       "\n"
      ],
      "text/plain": [
       "   1  2        \n",
       "1   1  3.456991\n",
       "2   2  2.774524\n",
       "3   3  7.763572\n",
       "4   4  6.761841\n",
       "5   5 11.236072\n",
       "6   6 11.928628\n",
       "7   7 14.239181\n",
       "8   8 17.778761\n",
       "9   9 18.272125\n",
       "10 10 19.503880"
      ]
     },
     "metadata": {},
     "output_type": "display_data"
    }
   ],
   "source": [
    "annoying <- tibble(\n",
    "  `1` = 1:10,\n",
    "  `2` = `1` * 2 + rnorm(length(`1`))\n",
    ")\n",
    "annoying"
   ]
  },
  {
   "cell_type": "code",
   "execution_count": 31,
   "metadata": {
    "vscode": {
     "languageId": "r"
    }
   },
   "outputs": [
    {
     "data": {
      "text/html": [
       "<table class=\"dataframe\">\n",
       "<caption>A tibble: 10 × 1</caption>\n",
       "<thead>\n",
       "\t<tr><th scope=col>1</th></tr>\n",
       "\t<tr><th scope=col>&lt;int&gt;</th></tr>\n",
       "</thead>\n",
       "<tbody>\n",
       "\t<tr><td> 1</td></tr>\n",
       "\t<tr><td> 2</td></tr>\n",
       "\t<tr><td> 3</td></tr>\n",
       "\t<tr><td> 4</td></tr>\n",
       "\t<tr><td> 5</td></tr>\n",
       "\t<tr><td> 6</td></tr>\n",
       "\t<tr><td> 7</td></tr>\n",
       "\t<tr><td> 8</td></tr>\n",
       "\t<tr><td> 9</td></tr>\n",
       "\t<tr><td>10</td></tr>\n",
       "</tbody>\n",
       "</table>\n"
      ],
      "text/latex": [
       "A tibble: 10 × 1\n",
       "\\begin{tabular}{l}\n",
       " 1\\\\\n",
       " <int>\\\\\n",
       "\\hline\n",
       "\t  1\\\\\n",
       "\t  2\\\\\n",
       "\t  3\\\\\n",
       "\t  4\\\\\n",
       "\t  5\\\\\n",
       "\t  6\\\\\n",
       "\t  7\\\\\n",
       "\t  8\\\\\n",
       "\t  9\\\\\n",
       "\t 10\\\\\n",
       "\\end{tabular}\n"
      ],
      "text/markdown": [
       "\n",
       "A tibble: 10 × 1\n",
       "\n",
       "| 1 &lt;int&gt; |\n",
       "|---|\n",
       "|  1 |\n",
       "|  2 |\n",
       "|  3 |\n",
       "|  4 |\n",
       "|  5 |\n",
       "|  6 |\n",
       "|  7 |\n",
       "|  8 |\n",
       "|  9 |\n",
       "| 10 |\n",
       "\n"
      ],
      "text/plain": [
       "   1 \n",
       "1   1\n",
       "2   2\n",
       "3   3\n",
       "4   4\n",
       "5   5\n",
       "6   6\n",
       "7   7\n",
       "8   8\n",
       "9   9\n",
       "10 10"
      ]
     },
     "metadata": {},
     "output_type": "display_data"
    }
   ],
   "source": [
    "# a\n",
    "annoying |>\n",
    "    select(`1`)"
   ]
  },
  {
   "cell_type": "code",
   "execution_count": 32,
   "metadata": {
    "vscode": {
     "languageId": "r"
    }
   },
   "outputs": [
    {
     "data": {
      "image/png": "[encoded data removed]",
      "text/plain": [
       "plot without title"
      ]
     },
     "metadata": {
      "image/png": {
       "height": 420,
       "width": 420
      }
     },
     "output_type": "display_data"
    }
   ],
   "source": [
    "# b\n",
    "ggplot(\n",
    "  data = annoying, mapping = aes(x = `2`, y = `1`)) + \n",
    "  geom_point()"
   ]
  },
  {
   "cell_type": "code",
   "execution_count": 33,
   "metadata": {
    "vscode": {
     "languageId": "r"
    }
   },
   "outputs": [
    {
     "data": {
      "text/html": [
       "<table class=\"dataframe\">\n",
       "<caption>A tibble: 10 × 3</caption>\n",
       "<thead>\n",
       "\t<tr><th scope=col>1</th><th scope=col>2</th><th scope=col>3</th></tr>\n",
       "\t<tr><th scope=col>&lt;int&gt;</th><th scope=col>&lt;dbl&gt;</th><th scope=col>&lt;dbl&gt;</th></tr>\n",
       "</thead>\n",
       "<tbody>\n",
       "\t<tr><td> 1</td><td> 3.456991</td><td>3.456991</td></tr>\n",
       "\t<tr><td> 2</td><td> 2.774524</td><td>1.387262</td></tr>\n",
       "\t<tr><td> 3</td><td> 7.763572</td><td>2.587857</td></tr>\n",
       "\t<tr><td> 4</td><td> 6.761841</td><td>1.690460</td></tr>\n",
       "\t<tr><td> 5</td><td>11.236072</td><td>2.247214</td></tr>\n",
       "\t<tr><td> 6</td><td>11.928628</td><td>1.988105</td></tr>\n",
       "\t<tr><td> 7</td><td>14.239181</td><td>2.034169</td></tr>\n",
       "\t<tr><td> 8</td><td>17.778761</td><td>2.222345</td></tr>\n",
       "\t<tr><td> 9</td><td>18.272125</td><td>2.030236</td></tr>\n",
       "\t<tr><td>10</td><td>19.503880</td><td>1.950388</td></tr>\n",
       "</tbody>\n",
       "</table>\n"
      ],
      "text/latex": [
       "A tibble: 10 × 3\n",
       "\\begin{tabular}{lll}\n",
       " 1 & 2 & 3\\\\\n",
       " <int> & <dbl> & <dbl>\\\\\n",
       "\\hline\n",
       "\t  1 &  3.456991 & 3.456991\\\\\n",
       "\t  2 &  2.774524 & 1.387262\\\\\n",
       "\t  3 &  7.763572 & 2.587857\\\\\n",
       "\t  4 &  6.761841 & 1.690460\\\\\n",
       "\t  5 & 11.236072 & 2.247214\\\\\n",
       "\t  6 & 11.928628 & 1.988105\\\\\n",
       "\t  7 & 14.239181 & 2.034169\\\\\n",
       "\t  8 & 17.778761 & 2.222345\\\\\n",
       "\t  9 & 18.272125 & 2.030236\\\\\n",
       "\t 10 & 19.503880 & 1.950388\\\\\n",
       "\\end{tabular}\n"
      ],
      "text/markdown": [
       "\n",
       "A tibble: 10 × 3\n",
       "\n",
       "| 1 &lt;int&gt; | 2 &lt;dbl&gt; | 3 &lt;dbl&gt; |\n",
       "|---|---|---|\n",
       "|  1 |  3.456991 | 3.456991 |\n",
       "|  2 |  2.774524 | 1.387262 |\n",
       "|  3 |  7.763572 | 2.587857 |\n",
       "|  4 |  6.761841 | 1.690460 |\n",
       "|  5 | 11.236072 | 2.247214 |\n",
       "|  6 | 11.928628 | 1.988105 |\n",
       "|  7 | 14.239181 | 2.034169 |\n",
       "|  8 | 17.778761 | 2.222345 |\n",
       "|  9 | 18.272125 | 2.030236 |\n",
       "| 10 | 19.503880 | 1.950388 |\n",
       "\n"
      ],
      "text/plain": [
       "   1  2         3       \n",
       "1   1  3.456991 3.456991\n",
       "2   2  2.774524 1.387262\n",
       "3   3  7.763572 2.587857\n",
       "4   4  6.761841 1.690460\n",
       "5   5 11.236072 2.247214\n",
       "6   6 11.928628 1.988105\n",
       "7   7 14.239181 2.034169\n",
       "8   8 17.778761 2.222345\n",
       "9   9 18.272125 2.030236\n",
       "10 10 19.503880 1.950388"
      ]
     },
     "metadata": {},
     "output_type": "display_data"
    }
   ],
   "source": [
    "#c\n",
    "annoying2 <- annoying |>\n",
    "    mutate(`3` = `2` / `1`)\n",
    "annoying2"
   ]
  },
  {
   "cell_type": "code",
   "execution_count": 34,
   "metadata": {
    "vscode": {
     "languageId": "r"
    }
   },
   "outputs": [
    {
     "data": {
      "text/html": [
       "<table class=\"dataframe\">\n",
       "<caption>A tibble: 10 × 3</caption>\n",
       "<thead>\n",
       "\t<tr><th scope=col>one</th><th scope=col>two</th><th scope=col>three</th></tr>\n",
       "\t<tr><th scope=col>&lt;int&gt;</th><th scope=col>&lt;dbl&gt;</th><th scope=col>&lt;dbl&gt;</th></tr>\n",
       "</thead>\n",
       "<tbody>\n",
       "\t<tr><td> 1</td><td> 3.456991</td><td>3.456991</td></tr>\n",
       "\t<tr><td> 2</td><td> 2.774524</td><td>1.387262</td></tr>\n",
       "\t<tr><td> 3</td><td> 7.763572</td><td>2.587857</td></tr>\n",
       "\t<tr><td> 4</td><td> 6.761841</td><td>1.690460</td></tr>\n",
       "\t<tr><td> 5</td><td>11.236072</td><td>2.247214</td></tr>\n",
       "\t<tr><td> 6</td><td>11.928628</td><td>1.988105</td></tr>\n",
       "\t<tr><td> 7</td><td>14.239181</td><td>2.034169</td></tr>\n",
       "\t<tr><td> 8</td><td>17.778761</td><td>2.222345</td></tr>\n",
       "\t<tr><td> 9</td><td>18.272125</td><td>2.030236</td></tr>\n",
       "\t<tr><td>10</td><td>19.503880</td><td>1.950388</td></tr>\n",
       "</tbody>\n",
       "</table>\n"
      ],
      "text/latex": [
       "A tibble: 10 × 3\n",
       "\\begin{tabular}{lll}\n",
       " one & two & three\\\\\n",
       " <int> & <dbl> & <dbl>\\\\\n",
       "\\hline\n",
       "\t  1 &  3.456991 & 3.456991\\\\\n",
       "\t  2 &  2.774524 & 1.387262\\\\\n",
       "\t  3 &  7.763572 & 2.587857\\\\\n",
       "\t  4 &  6.761841 & 1.690460\\\\\n",
       "\t  5 & 11.236072 & 2.247214\\\\\n",
       "\t  6 & 11.928628 & 1.988105\\\\\n",
       "\t  7 & 14.239181 & 2.034169\\\\\n",
       "\t  8 & 17.778761 & 2.222345\\\\\n",
       "\t  9 & 18.272125 & 2.030236\\\\\n",
       "\t 10 & 19.503880 & 1.950388\\\\\n",
       "\\end{tabular}\n"
      ],
      "text/markdown": [
       "\n",
       "A tibble: 10 × 3\n",
       "\n",
       "| one &lt;int&gt; | two &lt;dbl&gt; | three &lt;dbl&gt; |\n",
       "|---|---|---|\n",
       "|  1 |  3.456991 | 3.456991 |\n",
       "|  2 |  2.774524 | 1.387262 |\n",
       "|  3 |  7.763572 | 2.587857 |\n",
       "|  4 |  6.761841 | 1.690460 |\n",
       "|  5 | 11.236072 | 2.247214 |\n",
       "|  6 | 11.928628 | 1.988105 |\n",
       "|  7 | 14.239181 | 2.034169 |\n",
       "|  8 | 17.778761 | 2.222345 |\n",
       "|  9 | 18.272125 | 2.030236 |\n",
       "| 10 | 19.503880 | 1.950388 |\n",
       "\n"
      ],
      "text/plain": [
       "   one two       three   \n",
       "1   1   3.456991 3.456991\n",
       "2   2   2.774524 1.387262\n",
       "3   3   7.763572 2.587857\n",
       "4   4   6.761841 1.690460\n",
       "5   5  11.236072 2.247214\n",
       "6   6  11.928628 1.988105\n",
       "7   7  14.239181 2.034169\n",
       "8   8  17.778761 2.222345\n",
       "9   9  18.272125 2.030236\n",
       "10 10  19.503880 1.950388"
      ]
     },
     "metadata": {},
     "output_type": "display_data"
    }
   ],
   "source": [
    "#d\n",
    "annoying3 <- annoying2 |>\n",
    "    rename(one = `1`, two = `2`, three = `3`)\n",
    "annoying3"
   ]
  }
 ],
 "metadata": {
  "kernelspec": {
   "display_name": "R",
   "language": "R",
   "name": "ir"
  },
  "language_info": {
   "codemirror_mode": "r",
   "file_extension": ".r",
   "mimetype": "text/x-r-source",
   "name": "R",
   "pygments_lexer": "r",
   "version": "4.2.1"
  },
  "orig_nbformat": 4
 },
 "nbformat": 4,
 "nbformat_minor": 2
}

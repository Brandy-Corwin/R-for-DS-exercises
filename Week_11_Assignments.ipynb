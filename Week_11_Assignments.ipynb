{
 "cells": [
  {
   "cell_type": "code",
   "execution_count": 1,
   "metadata": {
    "vscode": {
     "languageId": "r"
    }
   },
   "outputs": [
    {
     "name": "stderr",
     "output_type": "stream",
     "text": [
      "Warning message:\n",
      "“package ‘readxl’ was built under R version 4.2.3”\n",
      "── \u001b[1mAttaching packages\u001b[22m ─────────────────────────────────────── tidyverse 1.3.2 ──\n",
      "\u001b[32m✔\u001b[39m \u001b[34mggplot2\u001b[39m 3.5.1     \u001b[32m✔\u001b[39m \u001b[34mpurrr  \u001b[39m 1.0.2\n",
      "\u001b[32m✔\u001b[39m \u001b[34mtibble \u001b[39m 3.2.1     \u001b[32m✔\u001b[39m \u001b[34mdplyr  \u001b[39m 1.1.4\n",
      "\u001b[32m✔\u001b[39m \u001b[34mtidyr  \u001b[39m 1.3.1     \u001b[32m✔\u001b[39m \u001b[34mstringr\u001b[39m 1.5.1\n",
      "\u001b[32m✔\u001b[39m \u001b[34mreadr  \u001b[39m 2.1.5     \u001b[32m✔\u001b[39m \u001b[34mforcats\u001b[39m 1.0.0\n",
      "Warning message:\n",
      "“package ‘ggplot2’ was built under R version 4.2.3”\n",
      "Warning message:\n",
      "“package ‘tibble’ was built under R version 4.2.3”\n",
      "Warning message:\n",
      "“package ‘tidyr’ was built under R version 4.2.3”\n",
      "Warning message:\n",
      "“package ‘readr’ was built under R version 4.2.3”\n",
      "Warning message:\n",
      "“package ‘purrr’ was built under R version 4.2.3”\n",
      "Warning message:\n",
      "“package ‘dplyr’ was built under R version 4.2.3”\n",
      "Warning message:\n",
      "“package ‘stringr’ was built under R version 4.2.3”\n",
      "Warning message:\n",
      "“package ‘forcats’ was built under R version 4.2.3”\n",
      "── \u001b[1mConflicts\u001b[22m ────────────────────────────────────────── tidyverse_conflicts() ──\n",
      "\u001b[31m✖\u001b[39m \u001b[34mdplyr\u001b[39m::\u001b[32mfilter()\u001b[39m masks \u001b[34mstats\u001b[39m::filter()\n",
      "\u001b[31m✖\u001b[39m \u001b[34mdplyr\u001b[39m::\u001b[32mlag()\u001b[39m    masks \u001b[34mstats\u001b[39m::lag()\n",
      "Warning message:\n",
      "“package ‘writexl’ was built under R version 4.2.3”\n",
      "Warning message:\n",
      "“package ‘openxlsx’ was built under R version 4.2.3”\n",
      "Warning message:\n",
      "“package ‘googlesheets4’ was built under R version 4.2.3”\n"
     ]
    }
   ],
   "source": [
    "library(readxl)\n",
    "library(tidyverse)\n",
    "library(writexl)\n",
    "library(openxlsx)\n",
    "library(googlesheets4)"
   ]
  },
  {
   "attachments": {},
   "cell_type": "markdown",
   "metadata": {},
   "source": [
    "## [20.2.9 Exercises](https://r4ds.hadley.nz/spreadsheets#exercises)"
   ]
  },
  {
   "attachments": {},
   "cell_type": "markdown",
   "metadata": {},
   "source": [
    "1. In an Excel file, create the following dataset and save it as survey.xlsx. Alternatively, you can download it as an Excel file from [here](https://docs.google.com/spreadsheets/d/1yc5gL-a2OOBr8M7B3IsDNX5uR17vBHOyWZq6xSTG2G8).\n",
    "\n",
    "<img src=\"https://r4ds.hadley.nz/screenshots/import-spreadsheets-survey.png\" width=\"300\" height=\"200\"/></img>\n",
    "\n",
    "Then, read it into R, with survey_id as a character variable and n_pets as a numerical variable.\n",
    "```r\n",
    "#> # A tibble: 6 × 2\n",
    "#>   survey_id n_pets\n",
    "#>   <chr>      <dbl>\n",
    "#> 1 1              0\n",
    "#> 2 2              1\n",
    "#> 3 3             NA\n",
    "#> 4 4              2\n",
    "#> 5 5              2\n",
    "#> 6 6             NA\n",
    "```"
   ]
  },
  {
   "cell_type": "code",
   "execution_count": 2,
   "metadata": {
    "vscode": {
     "languageId": "r"
    }
   },
   "outputs": [
    {
     "data": {
      "text/html": [
       "<style>\n",
       ".list-inline {list-style: none; margin:0; padding: 0}\n",
       ".list-inline>li {display: inline-block}\n",
       ".list-inline>li:not(:last-child)::after {content: \"\\00b7\"; padding: 0 .5ex}\n",
       "</style>\n",
       "<ol class=list-inline><li>'1.0'</li><li>'2.0'</li><li>'3.0'</li><li>'4.0'</li><li>'5.0'</li><li>'6.0'</li></ol>\n"
      ],
      "text/latex": [
       "\\begin{enumerate*}\n",
       "\\item '1.0'\n",
       "\\item '2.0'\n",
       "\\item '3.0'\n",
       "\\item '4.0'\n",
       "\\item '5.0'\n",
       "\\item '6.0'\n",
       "\\end{enumerate*}\n"
      ],
      "text/markdown": [
       "1. '1.0'\n",
       "2. '2.0'\n",
       "3. '3.0'\n",
       "4. '4.0'\n",
       "5. '5.0'\n",
       "6. '6.0'\n",
       "\n",
       "\n"
      ],
      "text/plain": [
       "[1] \"1.0\" \"2.0\" \"3.0\" \"4.0\" \"5.0\" \"6.0\""
      ]
     },
     "metadata": {},
     "output_type": "display_data"
    },
    {
     "data": {
      "text/html": [
       "<table class=\"dataframe\">\n",
       "<caption>A tibble: 6 × 2</caption>\n",
       "<thead>\n",
       "\t<tr><th scope=col>survey_id</th><th scope=col>n_pets</th></tr>\n",
       "\t<tr><th scope=col>&lt;chr&gt;</th><th scope=col>&lt;dbl&gt;</th></tr>\n",
       "</thead>\n",
       "<tbody>\n",
       "\t<tr><td>1</td><td> 0</td></tr>\n",
       "\t<tr><td>2</td><td> 1</td></tr>\n",
       "\t<tr><td>3</td><td>NA</td></tr>\n",
       "\t<tr><td>4</td><td> 2</td></tr>\n",
       "\t<tr><td>5</td><td> 2</td></tr>\n",
       "\t<tr><td>6</td><td>NA</td></tr>\n",
       "</tbody>\n",
       "</table>\n"
      ],
      "text/latex": [
       "A tibble: 6 × 2\n",
       "\\begin{tabular}{ll}\n",
       " survey\\_id & n\\_pets\\\\\n",
       " <chr> & <dbl>\\\\\n",
       "\\hline\n",
       "\t 1 &  0\\\\\n",
       "\t 2 &  1\\\\\n",
       "\t 3 & NA\\\\\n",
       "\t 4 &  2\\\\\n",
       "\t 5 &  2\\\\\n",
       "\t 6 & NA\\\\\n",
       "\\end{tabular}\n"
      ],
      "text/markdown": [
       "\n",
       "A tibble: 6 × 2\n",
       "\n",
       "| survey_id &lt;chr&gt; | n_pets &lt;dbl&gt; |\n",
       "|---|---|\n",
       "| 1 |  0 |\n",
       "| 2 |  1 |\n",
       "| 3 | NA |\n",
       "| 4 |  2 |\n",
       "| 5 |  2 |\n",
       "| 6 | NA |\n",
       "\n"
      ],
      "text/plain": [
       "  survey_id n_pets\n",
       "1 1          0    \n",
       "2 2          1    \n",
       "3 3         NA    \n",
       "4 4          2    \n",
       "5 5          2    \n",
       "6 6         NA    "
      ]
     },
     "metadata": {},
     "output_type": "display_data"
    }
   ],
   "source": [
    "survey <- read_excel(\"excel_files/survey.xlsx\",\n",
    "    na = c(\"\", \"N/A\"),\n",
    "    col_types = c(\"numeric\", \"text\"))\n",
    "sprintf(\"%.1f\",survey[[\"survey_id\"]])\n",
    "survey <- survey |>\n",
    "  mutate(\n",
    "    n_pets = if_else(n_pets == \"two\", \"2\", n_pets),\n",
    "    n_pets = parse_number(n_pets),\n",
    "    survey_id = as.character(survey_id)\n",
    "  )\n",
    "survey"
   ]
  },
  {
   "attachments": {},
   "cell_type": "markdown",
   "metadata": {},
   "source": [
    "2. In another Excel file, create the following dataset and save it as roster.xlsx. Alternatively, you can download it as an Excel file from [here](https://docs.google.com/spreadsheets/d/1LgZ0Bkg9d_NK8uTdP2uHXm07kAlwx8-Ictf8NocebIE).\n",
    "\n",
    "<img src=\"https://r4ds.hadley.nz/screenshots/import-spreadsheets-roster.png\" width=\"300\" height=\"300\"/></img>\n",
    "\n",
    "Then, read it into R. The resulting data frame should be called roster and should look like the following.\n",
    "```r\n",
    "#> # A tibble: 12 × 3\n",
    "#>    group subgroup    id\n",
    "#>    <dbl> <chr>    <dbl>\n",
    "#>  1     1 A            1\n",
    "#>  2     1 A            2\n",
    "#>  3     1 A            3\n",
    "#>  4     1 B            4\n",
    "#>  5     1 B            5\n",
    "#>  6     1 B            6\n",
    "#>  7     1 B            7\n",
    "#>  8     2 A            8\n",
    "#>  9     2 A            9\n",
    "#> 10     2 B           10\n",
    "#> 11     2 B           11\n",
    "#> 12     2 B           12\n",
    "```"
   ]
  },
  {
   "cell_type": "code",
   "execution_count": 3,
   "metadata": {
    "vscode": {
     "languageId": "r"
    }
   },
   "outputs": [
    {
     "data": {
      "text/html": [
       "<table class=\"dataframe\">\n",
       "<caption>A tibble: 12 × 3</caption>\n",
       "<thead>\n",
       "\t<tr><th scope=col>group</th><th scope=col>subgroup</th><th scope=col>id</th></tr>\n",
       "\t<tr><th scope=col>&lt;dbl&gt;</th><th scope=col>&lt;chr&gt;</th><th scope=col>&lt;dbl&gt;</th></tr>\n",
       "</thead>\n",
       "<tbody>\n",
       "\t<tr><td>1</td><td>A</td><td> 1</td></tr>\n",
       "\t<tr><td>1</td><td>A</td><td> 2</td></tr>\n",
       "\t<tr><td>1</td><td>A</td><td> 3</td></tr>\n",
       "\t<tr><td>1</td><td>B</td><td> 4</td></tr>\n",
       "\t<tr><td>1</td><td>B</td><td> 5</td></tr>\n",
       "\t<tr><td>1</td><td>B</td><td> 6</td></tr>\n",
       "\t<tr><td>1</td><td>B</td><td> 7</td></tr>\n",
       "\t<tr><td>2</td><td>A</td><td> 8</td></tr>\n",
       "\t<tr><td>2</td><td>A</td><td> 9</td></tr>\n",
       "\t<tr><td>2</td><td>B</td><td>10</td></tr>\n",
       "\t<tr><td>2</td><td>B</td><td>11</td></tr>\n",
       "\t<tr><td>2</td><td>B</td><td>12</td></tr>\n",
       "</tbody>\n",
       "</table>\n"
      ],
      "text/latex": [
       "A tibble: 12 × 3\n",
       "\\begin{tabular}{lll}\n",
       " group & subgroup & id\\\\\n",
       " <dbl> & <chr> & <dbl>\\\\\n",
       "\\hline\n",
       "\t 1 & A &  1\\\\\n",
       "\t 1 & A &  2\\\\\n",
       "\t 1 & A &  3\\\\\n",
       "\t 1 & B &  4\\\\\n",
       "\t 1 & B &  5\\\\\n",
       "\t 1 & B &  6\\\\\n",
       "\t 1 & B &  7\\\\\n",
       "\t 2 & A &  8\\\\\n",
       "\t 2 & A &  9\\\\\n",
       "\t 2 & B & 10\\\\\n",
       "\t 2 & B & 11\\\\\n",
       "\t 2 & B & 12\\\\\n",
       "\\end{tabular}\n"
      ],
      "text/markdown": [
       "\n",
       "A tibble: 12 × 3\n",
       "\n",
       "| group &lt;dbl&gt; | subgroup &lt;chr&gt; | id &lt;dbl&gt; |\n",
       "|---|---|---|\n",
       "| 1 | A |  1 |\n",
       "| 1 | A |  2 |\n",
       "| 1 | A |  3 |\n",
       "| 1 | B |  4 |\n",
       "| 1 | B |  5 |\n",
       "| 1 | B |  6 |\n",
       "| 1 | B |  7 |\n",
       "| 2 | A |  8 |\n",
       "| 2 | A |  9 |\n",
       "| 2 | B | 10 |\n",
       "| 2 | B | 11 |\n",
       "| 2 | B | 12 |\n",
       "\n"
      ],
      "text/plain": [
       "   group subgroup id\n",
       "1  1     A         1\n",
       "2  1     A         2\n",
       "3  1     A         3\n",
       "4  1     B         4\n",
       "5  1     B         5\n",
       "6  1     B         6\n",
       "7  1     B         7\n",
       "8  2     A         8\n",
       "9  2     A         9\n",
       "10 2     B        10\n",
       "11 2     B        11\n",
       "12 2     B        12"
      ]
     },
     "metadata": {},
     "output_type": "display_data"
    }
   ],
   "source": [
    "roster <- read_excel(\"excel_files/roster.xlsx\") |>\n",
    "    fill(group,subgroup)\n",
    "roster"
   ]
  },
  {
   "attachments": {},
   "cell_type": "markdown",
   "metadata": {},
   "source": [
    "3. In a new Excel file, create the following dataset and save it as sales.xlsx. Alternatively, you can download it as an Excel file from [here](https://docs.google.com/spreadsheets/d/1oCqdXUNO8JR3Pca8fHfiz_WXWxMuZAp3YiYFaKze5V0).\n",
    "\n",
    "<img src=\"https://r4ds.hadley.nz/screenshots/import-spreadsheets-sales.png\" width=\"300\" height=\"300\"/></img>\n",
    "\n",
    "    a. Read sales.xlsx in and save as sales. The data frame should look like the following, with id and n as column names and with 9 rows.\n",
    "```r\n",
    "#> # A tibble: 9 × 2\n",
    "#>   id      n    \n",
    "#>   <chr>   <chr>\n",
    "#> 1 Brand 1 n    \n",
    "#> 2 1234    8    \n",
    "#> 3 8721    2    \n",
    "#> 4 1822    3    \n",
    "#> 5 Brand 2 n    \n",
    "#> 6 3333    1    \n",
    "#> 7 2156    3    \n",
    "#> 8 3987    6    \n",
    "#> 9 3216    5\n",
    "```\n",
    "    b. Modify sales further to get it into the following tidy format with three columns (brand, id, and n) and 7 rows of data. Note that id and n are numeric, brand is a character variable.\n",
    "```r\n",
    "#> # A tibble: 7 × 3\n",
    "#>   brand      id     n\n",
    "#>   <chr>   <dbl> <dbl>\n",
    "#> 1 Brand 1  1234     8\n",
    "#> 2 Brand 1  8721     2\n",
    "#> 3 Brand 1  1822     3\n",
    "#> 4 Brand 2  3333     1\n",
    "#> 5 Brand 2  2156     3\n",
    "#> 6 Brand 2  3987     6\n",
    "#> 7 Brand 2  3216     5\n",
    "```"
   ]
  },
  {
   "cell_type": "code",
   "execution_count": 4,
   "metadata": {
    "vscode": {
     "languageId": "r"
    }
   },
   "outputs": [
    {
     "data": {
      "text/html": [
       "<table class=\"dataframe\">\n",
       "<caption>A tibble: 9 × 2</caption>\n",
       "<thead>\n",
       "\t<tr><th scope=col>id</th><th scope=col>n</th></tr>\n",
       "\t<tr><th scope=col>&lt;chr&gt;</th><th scope=col>&lt;chr&gt;</th></tr>\n",
       "</thead>\n",
       "<tbody>\n",
       "\t<tr><td>Brand 1</td><td>n  </td></tr>\n",
       "\t<tr><td>1234.0 </td><td>8.0</td></tr>\n",
       "\t<tr><td>8721.0 </td><td>2.0</td></tr>\n",
       "\t<tr><td>1822.0 </td><td>3.0</td></tr>\n",
       "\t<tr><td>Brand 2</td><td>n  </td></tr>\n",
       "\t<tr><td>3333.0 </td><td>1.0</td></tr>\n",
       "\t<tr><td>2156.0 </td><td>3.0</td></tr>\n",
       "\t<tr><td>3987.0 </td><td>6.0</td></tr>\n",
       "\t<tr><td>3216.0 </td><td>5.0</td></tr>\n",
       "</tbody>\n",
       "</table>\n"
      ],
      "text/latex": [
       "A tibble: 9 × 2\n",
       "\\begin{tabular}{ll}\n",
       " id & n\\\\\n",
       " <chr> & <chr>\\\\\n",
       "\\hline\n",
       "\t Brand 1 & n  \\\\\n",
       "\t 1234.0  & 8.0\\\\\n",
       "\t 8721.0  & 2.0\\\\\n",
       "\t 1822.0  & 3.0\\\\\n",
       "\t Brand 2 & n  \\\\\n",
       "\t 3333.0  & 1.0\\\\\n",
       "\t 2156.0  & 3.0\\\\\n",
       "\t 3987.0  & 6.0\\\\\n",
       "\t 3216.0  & 5.0\\\\\n",
       "\\end{tabular}\n"
      ],
      "text/markdown": [
       "\n",
       "A tibble: 9 × 2\n",
       "\n",
       "| id &lt;chr&gt; | n &lt;chr&gt; |\n",
       "|---|---|\n",
       "| Brand 1 | n   |\n",
       "| 1234.0  | 8.0 |\n",
       "| 8721.0  | 2.0 |\n",
       "| 1822.0  | 3.0 |\n",
       "| Brand 2 | n   |\n",
       "| 3333.0  | 1.0 |\n",
       "| 2156.0  | 3.0 |\n",
       "| 3987.0  | 6.0 |\n",
       "| 3216.0  | 5.0 |\n",
       "\n"
      ],
      "text/plain": [
       "  id      n  \n",
       "1 Brand 1 n  \n",
       "2 1234.0  8.0\n",
       "3 8721.0  2.0\n",
       "4 1822.0  3.0\n",
       "5 Brand 2 n  \n",
       "6 3333.0  1.0\n",
       "7 2156.0  3.0\n",
       "8 3987.0  6.0\n",
       "9 3216.0  5.0"
      ]
     },
     "metadata": {},
     "output_type": "display_data"
    },
    {
     "data": {
      "text/html": [
       "<table class=\"dataframe\">\n",
       "<caption>A tibble: 7 × 3</caption>\n",
       "<thead>\n",
       "\t<tr><th scope=col>brand</th><th scope=col>id</th><th scope=col>n</th></tr>\n",
       "\t<tr><th scope=col>&lt;chr&gt;</th><th scope=col>&lt;dbl&gt;</th><th scope=col>&lt;dbl&gt;</th></tr>\n",
       "</thead>\n",
       "<tbody>\n",
       "\t<tr><td>Brand 1</td><td>1234</td><td>8</td></tr>\n",
       "\t<tr><td>Brand 1</td><td>8721</td><td>2</td></tr>\n",
       "\t<tr><td>Brand 1</td><td>1822</td><td>3</td></tr>\n",
       "\t<tr><td>Brand 2</td><td>3333</td><td>1</td></tr>\n",
       "\t<tr><td>Brand 2</td><td>2156</td><td>3</td></tr>\n",
       "\t<tr><td>Brand 2</td><td>3987</td><td>6</td></tr>\n",
       "\t<tr><td>Brand 2</td><td>3216</td><td>5</td></tr>\n",
       "</tbody>\n",
       "</table>\n"
      ],
      "text/latex": [
       "A tibble: 7 × 3\n",
       "\\begin{tabular}{lll}\n",
       " brand & id & n\\\\\n",
       " <chr> & <dbl> & <dbl>\\\\\n",
       "\\hline\n",
       "\t Brand 1 & 1234 & 8\\\\\n",
       "\t Brand 1 & 8721 & 2\\\\\n",
       "\t Brand 1 & 1822 & 3\\\\\n",
       "\t Brand 2 & 3333 & 1\\\\\n",
       "\t Brand 2 & 2156 & 3\\\\\n",
       "\t Brand 2 & 3987 & 6\\\\\n",
       "\t Brand 2 & 3216 & 5\\\\\n",
       "\\end{tabular}\n"
      ],
      "text/markdown": [
       "\n",
       "A tibble: 7 × 3\n",
       "\n",
       "| brand &lt;chr&gt; | id &lt;dbl&gt; | n &lt;dbl&gt; |\n",
       "|---|---|---|\n",
       "| Brand 1 | 1234 | 8 |\n",
       "| Brand 1 | 8721 | 2 |\n",
       "| Brand 1 | 1822 | 3 |\n",
       "| Brand 2 | 3333 | 1 |\n",
       "| Brand 2 | 2156 | 3 |\n",
       "| Brand 2 | 3987 | 6 |\n",
       "| Brand 2 | 3216 | 5 |\n",
       "\n"
      ],
      "text/plain": [
       "  brand   id   n\n",
       "1 Brand 1 1234 8\n",
       "2 Brand 1 8721 2\n",
       "3 Brand 1 1822 3\n",
       "4 Brand 2 3333 1\n",
       "5 Brand 2 2156 3\n",
       "6 Brand 2 3987 6\n",
       "7 Brand 2 3216 5"
      ]
     },
     "metadata": {},
     "output_type": "display_data"
    }
   ],
   "source": [
    "# A\n",
    "sales <- read_excel(\"excel_files/sales.xlsx\", range = \"A5:B13\", col_names = c(\"id\", \"n\"))\n",
    "sales\n",
    "\n",
    "# B\n",
    "sales <- sales |>\n",
    "    filter(! n == \"n\") |>\n",
    "    mutate(brand = c(\"Brand 1\", \"Brand 1\",\"Brand 1\",\"Brand 2\",\"Brand 2\",\"Brand 2\",\"Brand 2\"), .before = 1) |>\n",
    "    mutate(\n",
    "        id = parse_number(id),\n",
    "        n = parse_number(n)\n",
    "  )\n",
    "sales"
   ]
  },
  {
   "attachments": {},
   "cell_type": "markdown",
   "metadata": {},
   "source": [
    "4. Recreate the bake_sale data frame, write it out to an Excel file using the write.xlsx() function from the openxlsx package."
   ]
  },
  {
   "cell_type": "code",
   "execution_count": 7,
   "metadata": {
    "vscode": {
     "languageId": "r"
    }
   },
   "outputs": [
    {
     "data": {
      "text/html": [
       "<table class=\"dataframe\">\n",
       "<caption>A tibble: 3 × 2</caption>\n",
       "<thead>\n",
       "\t<tr><th scope=col>item</th><th scope=col>quantity</th></tr>\n",
       "\t<tr><th scope=col>&lt;fct&gt;</th><th scope=col>&lt;dbl&gt;</th></tr>\n",
       "</thead>\n",
       "<tbody>\n",
       "\t<tr><td>brownie</td><td>10</td></tr>\n",
       "\t<tr><td>cupcake</td><td> 5</td></tr>\n",
       "\t<tr><td>cookie </td><td> 8</td></tr>\n",
       "</tbody>\n",
       "</table>\n"
      ],
      "text/latex": [
       "A tibble: 3 × 2\n",
       "\\begin{tabular}{ll}\n",
       " item & quantity\\\\\n",
       " <fct> & <dbl>\\\\\n",
       "\\hline\n",
       "\t brownie & 10\\\\\n",
       "\t cupcake &  5\\\\\n",
       "\t cookie  &  8\\\\\n",
       "\\end{tabular}\n"
      ],
      "text/markdown": [
       "\n",
       "A tibble: 3 × 2\n",
       "\n",
       "| item &lt;fct&gt; | quantity &lt;dbl&gt; |\n",
       "|---|---|\n",
       "| brownie | 10 |\n",
       "| cupcake |  5 |\n",
       "| cookie  |  8 |\n",
       "\n"
      ],
      "text/plain": [
       "  item    quantity\n",
       "1 brownie 10      \n",
       "2 cupcake  5      \n",
       "3 cookie   8      "
      ]
     },
     "metadata": {},
     "output_type": "display_data"
    }
   ],
   "source": [
    "bake_sale <- tibble(\n",
    "  item     = factor(c(\"brownie\", \"cupcake\", \"cookie\")),\n",
    "  quantity = c(10, 5, 8)\n",
    ")\n",
    "bake_sale\n",
    "\n",
    "write.xlsx(bake_sale, file = \"excel_files/bake_sale.xlsx\")"
   ]
  },
  {
   "attachments": {},
   "cell_type": "markdown",
   "metadata": {},
   "source": [
    "5. In Chapter 7 you learned about the janitor::clean_names() function to turn column names into snake case. Read the students.xlsx file that we introduced earlier in this section and use this function to “clean” the column names."
   ]
  },
  {
   "cell_type": "code",
   "execution_count": 2,
   "metadata": {
    "vscode": {
     "languageId": "r"
    }
   },
   "outputs": [
    {
     "data": {
      "text/html": [
       "<table class=\"dataframe\">\n",
       "<caption>A tibble: 6 × 5</caption>\n",
       "<thead>\n",
       "\t<tr><th scope=col>student_id</th><th scope=col>full_name</th><th scope=col>favourite_food</th><th scope=col>meal_plan</th><th scope=col>age</th></tr>\n",
       "\t<tr><th scope=col>&lt;dbl&gt;</th><th scope=col>&lt;chr&gt;</th><th scope=col>&lt;chr&gt;</th><th scope=col>&lt;chr&gt;</th><th scope=col>&lt;chr&gt;</th></tr>\n",
       "</thead>\n",
       "<tbody>\n",
       "\t<tr><td>1</td><td>Sunil Huffmann  </td><td>Strawberry yoghurt</td><td>Lunch only         </td><td>4.0 </td></tr>\n",
       "\t<tr><td>2</td><td>Barclay Lynn    </td><td>French fries      </td><td>Lunch only         </td><td>5.0 </td></tr>\n",
       "\t<tr><td>3</td><td>Jayendra Lyne   </td><td>N/A               </td><td>Breakfast and lunch</td><td>7.0 </td></tr>\n",
       "\t<tr><td>4</td><td>Leon Rossini    </td><td>Anchovies         </td><td>Lunch only         </td><td>NA  </td></tr>\n",
       "\t<tr><td>5</td><td>Chidiegwu Dunkel</td><td>Pizza             </td><td>Breakfast and lunch</td><td>five</td></tr>\n",
       "\t<tr><td>6</td><td>Güvenç Attila   </td><td>Ice cream         </td><td>Lunch only         </td><td>6.0 </td></tr>\n",
       "</tbody>\n",
       "</table>\n"
      ],
      "text/latex": [
       "A tibble: 6 × 5\n",
       "\\begin{tabular}{lllll}\n",
       " student\\_id & full\\_name & favourite\\_food & meal\\_plan & age\\\\\n",
       " <dbl> & <chr> & <chr> & <chr> & <chr>\\\\\n",
       "\\hline\n",
       "\t 1 & Sunil Huffmann   & Strawberry yoghurt & Lunch only          & 4.0 \\\\\n",
       "\t 2 & Barclay Lynn     & French fries       & Lunch only          & 5.0 \\\\\n",
       "\t 3 & Jayendra Lyne    & N/A                & Breakfast and lunch & 7.0 \\\\\n",
       "\t 4 & Leon Rossini     & Anchovies          & Lunch only          & NA  \\\\\n",
       "\t 5 & Chidiegwu Dunkel & Pizza              & Breakfast and lunch & five\\\\\n",
       "\t 6 & Güvenç Attila    & Ice cream          & Lunch only          & 6.0 \\\\\n",
       "\\end{tabular}\n"
      ],
      "text/markdown": [
       "\n",
       "A tibble: 6 × 5\n",
       "\n",
       "| student_id &lt;dbl&gt; | full_name &lt;chr&gt; | favourite_food &lt;chr&gt; | meal_plan &lt;chr&gt; | age &lt;chr&gt; |\n",
       "|---|---|---|---|---|\n",
       "| 1 | Sunil Huffmann   | Strawberry yoghurt | Lunch only          | 4.0  |\n",
       "| 2 | Barclay Lynn     | French fries       | Lunch only          | 5.0  |\n",
       "| 3 | Jayendra Lyne    | N/A                | Breakfast and lunch | 7.0  |\n",
       "| 4 | Leon Rossini     | Anchovies          | Lunch only          | NA   |\n",
       "| 5 | Chidiegwu Dunkel | Pizza              | Breakfast and lunch | five |\n",
       "| 6 | Güvenç Attila    | Ice cream          | Lunch only          | 6.0  |\n",
       "\n"
      ],
      "text/plain": [
       "  student_id full_name        favourite_food     meal_plan           age \n",
       "1 1          Sunil Huffmann   Strawberry yoghurt Lunch only          4.0 \n",
       "2 2          Barclay Lynn     French fries       Lunch only          5.0 \n",
       "3 3          Jayendra Lyne    N/A                Breakfast and lunch 7.0 \n",
       "4 4          Leon Rossini     Anchovies          Lunch only          NA  \n",
       "5 5          Chidiegwu Dunkel Pizza              Breakfast and lunch five\n",
       "6 6          Güvenç Attila    Ice cream          Lunch only          6.0 "
      ]
     },
     "metadata": {},
     "output_type": "display_data"
    }
   ],
   "source": [
    "students <- read_excel(\"excel_files/students.xlsx\")\n",
    "students |> janitor::clean_names()"
   ]
  },
  {
   "attachments": {},
   "cell_type": "markdown",
   "metadata": {},
   "source": [
    "6. What happens if you try to read in a file with .xlsx extension with read_xls()?"
   ]
  },
  {
   "attachments": {},
   "cell_type": "markdown",
   "metadata": {},
   "source": [
    "You get an error massage that says that it can't open the file."
   ]
  },
  {
   "attachments": {},
   "cell_type": "markdown",
   "metadata": {},
   "source": [
    "## [20.3.6 Exercises](https://r4ds.hadley.nz/spreadsheets#exercises-1)"
   ]
  },
  {
   "attachments": {},
   "cell_type": "markdown",
   "metadata": {},
   "source": [
    "1. Read the students dataset from earlier in the chapter from Excel and also from Google Sheets, with no additional arguments supplied to the read_excel() and read_sheet() functions. Are the resulting data frames in R exactly the same? If not, how are they different?"
   ]
  },
  {
   "cell_type": "code",
   "execution_count": 18,
   "metadata": {
    "vscode": {
     "languageId": "r"
    }
   },
   "outputs": [
    {
     "data": {
      "text/html": [
       "<table class=\"dataframe\">\n",
       "<caption>A tibble: 6 × 5</caption>\n",
       "<thead>\n",
       "\t<tr><th scope=col>Student ID</th><th scope=col>Full Name</th><th scope=col>favourite.food</th><th scope=col>mealPlan</th><th scope=col>AGE</th></tr>\n",
       "\t<tr><th scope=col>&lt;dbl&gt;</th><th scope=col>&lt;chr&gt;</th><th scope=col>&lt;chr&gt;</th><th scope=col>&lt;chr&gt;</th><th scope=col>&lt;chr&gt;</th></tr>\n",
       "</thead>\n",
       "<tbody>\n",
       "\t<tr><td>1</td><td>Sunil Huffmann  </td><td>Strawberry yoghurt</td><td>Lunch only         </td><td>4.0 </td></tr>\n",
       "\t<tr><td>2</td><td>Barclay Lynn    </td><td>French fries      </td><td>Lunch only         </td><td>5.0 </td></tr>\n",
       "\t<tr><td>3</td><td>Jayendra Lyne   </td><td>N/A               </td><td>Breakfast and lunch</td><td>7.0 </td></tr>\n",
       "\t<tr><td>4</td><td>Leon Rossini    </td><td>Anchovies         </td><td>Lunch only         </td><td>NA  </td></tr>\n",
       "\t<tr><td>5</td><td>Chidiegwu Dunkel</td><td>Pizza             </td><td>Breakfast and lunch</td><td>five</td></tr>\n",
       "\t<tr><td>6</td><td>Güvenç Attila   </td><td>Ice cream         </td><td>Lunch only         </td><td>6.0 </td></tr>\n",
       "</tbody>\n",
       "</table>\n"
      ],
      "text/latex": [
       "A tibble: 6 × 5\n",
       "\\begin{tabular}{lllll}\n",
       " Student ID & Full Name & favourite.food & mealPlan & AGE\\\\\n",
       " <dbl> & <chr> & <chr> & <chr> & <chr>\\\\\n",
       "\\hline\n",
       "\t 1 & Sunil Huffmann   & Strawberry yoghurt & Lunch only          & 4.0 \\\\\n",
       "\t 2 & Barclay Lynn     & French fries       & Lunch only          & 5.0 \\\\\n",
       "\t 3 & Jayendra Lyne    & N/A                & Breakfast and lunch & 7.0 \\\\\n",
       "\t 4 & Leon Rossini     & Anchovies          & Lunch only          & NA  \\\\\n",
       "\t 5 & Chidiegwu Dunkel & Pizza              & Breakfast and lunch & five\\\\\n",
       "\t 6 & Güvenç Attila    & Ice cream          & Lunch only          & 6.0 \\\\\n",
       "\\end{tabular}\n"
      ],
      "text/markdown": [
       "\n",
       "A tibble: 6 × 5\n",
       "\n",
       "| Student ID &lt;dbl&gt; | Full Name &lt;chr&gt; | favourite.food &lt;chr&gt; | mealPlan &lt;chr&gt; | AGE &lt;chr&gt; |\n",
       "|---|---|---|---|---|\n",
       "| 1 | Sunil Huffmann   | Strawberry yoghurt | Lunch only          | 4.0  |\n",
       "| 2 | Barclay Lynn     | French fries       | Lunch only          | 5.0  |\n",
       "| 3 | Jayendra Lyne    | N/A                | Breakfast and lunch | 7.0  |\n",
       "| 4 | Leon Rossini     | Anchovies          | Lunch only          | NA   |\n",
       "| 5 | Chidiegwu Dunkel | Pizza              | Breakfast and lunch | five |\n",
       "| 6 | Güvenç Attila    | Ice cream          | Lunch only          | 6.0  |\n",
       "\n"
      ],
      "text/plain": [
       "  Student ID Full Name        favourite.food     mealPlan            AGE \n",
       "1 1          Sunil Huffmann   Strawberry yoghurt Lunch only          4.0 \n",
       "2 2          Barclay Lynn     French fries       Lunch only          5.0 \n",
       "3 3          Jayendra Lyne    N/A                Breakfast and lunch 7.0 \n",
       "4 4          Leon Rossini     Anchovies          Lunch only          NA  \n",
       "5 5          Chidiegwu Dunkel Pizza              Breakfast and lunch five\n",
       "6 6          Güvenç Attila    Ice cream          Lunch only          6.0 "
      ]
     },
     "metadata": {},
     "output_type": "display_data"
    },
    {
     "name": "stderr",
     "output_type": "stream",
     "text": [
      "\u001b[32m✔\u001b[39m Reading from \u001b[36mstudents\u001b[39m.\n",
      "\n",
      "\u001b[32m✔\u001b[39m Range \u001b[33mSheet1\u001b[39m.\n",
      "\n"
     ]
    },
    {
     "data": {
      "text/html": [
       "<table class=\"dataframe\">\n",
       "<caption>A tibble: 6 × 5</caption>\n",
       "<thead>\n",
       "\t<tr><th scope=col>Student ID</th><th scope=col>Full Name</th><th scope=col>favourite.food</th><th scope=col>mealPlan</th><th scope=col>AGE</th></tr>\n",
       "\t<tr><th scope=col>&lt;dbl&gt;</th><th scope=col>&lt;chr&gt;</th><th scope=col>&lt;chr&gt;</th><th scope=col>&lt;chr&gt;</th><th scope=col>&lt;chr&gt;</th></tr>\n",
       "</thead>\n",
       "<tbody>\n",
       "\t<tr><td>1</td><td>Sunil Huffmann  </td><td>Strawberry yoghurt</td><td>Lunch only         </td><td>4   </td></tr>\n",
       "\t<tr><td>2</td><td>Barclay Lynn    </td><td>French fries      </td><td>Lunch only         </td><td>5   </td></tr>\n",
       "\t<tr><td>3</td><td>Jayendra Lyne   </td><td>N/A               </td><td>Breakfast and lunch</td><td>7   </td></tr>\n",
       "\t<tr><td>4</td><td>Leon Rossini    </td><td>Anchovies         </td><td>Lunch only         </td><td>NA  </td></tr>\n",
       "\t<tr><td>5</td><td>Chidiegwu Dunkel</td><td>Pizza             </td><td>Breakfast and lunch</td><td>five</td></tr>\n",
       "\t<tr><td>6</td><td>Güvenç Attila   </td><td>Ice cream         </td><td>Lunch only         </td><td>6   </td></tr>\n",
       "</tbody>\n",
       "</table>\n"
      ],
      "text/latex": [
       "A tibble: 6 × 5\n",
       "\\begin{tabular}{lllll}\n",
       " Student ID & Full Name & favourite.food & mealPlan & AGE\\\\\n",
       " <dbl> & <chr> & <chr> & <chr> & <chr>\\\\\n",
       "\\hline\n",
       "\t 1 & Sunil Huffmann   & Strawberry yoghurt & Lunch only          & 4   \\\\\n",
       "\t 2 & Barclay Lynn     & French fries       & Lunch only          & 5   \\\\\n",
       "\t 3 & Jayendra Lyne    & N/A                & Breakfast and lunch & 7   \\\\\n",
       "\t 4 & Leon Rossini     & Anchovies          & Lunch only          & NA  \\\\\n",
       "\t 5 & Chidiegwu Dunkel & Pizza              & Breakfast and lunch & five\\\\\n",
       "\t 6 & Güvenç Attila    & Ice cream          & Lunch only          & 6   \\\\\n",
       "\\end{tabular}\n"
      ],
      "text/markdown": [
       "\n",
       "A tibble: 6 × 5\n",
       "\n",
       "| Student ID &lt;dbl&gt; | Full Name &lt;chr&gt; | favourite.food &lt;chr&gt; | mealPlan &lt;chr&gt; | AGE &lt;chr&gt; |\n",
       "|---|---|---|---|---|\n",
       "| 1 | Sunil Huffmann   | Strawberry yoghurt | Lunch only          | 4    |\n",
       "| 2 | Barclay Lynn     | French fries       | Lunch only          | 5    |\n",
       "| 3 | Jayendra Lyne    | N/A                | Breakfast and lunch | 7    |\n",
       "| 4 | Leon Rossini     | Anchovies          | Lunch only          | NA   |\n",
       "| 5 | Chidiegwu Dunkel | Pizza              | Breakfast and lunch | five |\n",
       "| 6 | Güvenç Attila    | Ice cream          | Lunch only          | 6    |\n",
       "\n"
      ],
      "text/plain": [
       "  Student ID Full Name        favourite.food     mealPlan            AGE \n",
       "1 1          Sunil Huffmann   Strawberry yoghurt Lunch only          4   \n",
       "2 2          Barclay Lynn     French fries       Lunch only          5   \n",
       "3 3          Jayendra Lyne    N/A                Breakfast and lunch 7   \n",
       "4 4          Leon Rossini     Anchovies          Lunch only          NA  \n",
       "5 5          Chidiegwu Dunkel Pizza              Breakfast and lunch five\n",
       "6 6          Güvenç Attila    Ice cream          Lunch only          6   "
      ]
     },
     "metadata": {},
     "output_type": "display_data"
    }
   ],
   "source": [
    "students_excel <- read_excel(\"excel_files/students.xlsx\")\n",
    "students_excel\n",
    "\n",
    "gs4_deauth()\n",
    "students_sheet_id <- \"1V1nPp1tzOuutXFLb3G9Eyxi3qxeEhnOXUzL5_BcCQ0w\"\n",
    "students_sheet <- read_sheet(students_sheet_id, col_types = \"dcccc\")\n",
    "students_sheet"
   ]
  },
  {
   "attachments": {},
   "cell_type": "markdown",
   "metadata": {},
   "source": [
    "I had to add the col_types to read_sheet or it didn't produce a data frame. Once I got both read functions to output a data frame, they looked the same."
   ]
  },
  {
   "attachments": {},
   "cell_type": "markdown",
   "metadata": {},
   "source": [
    "2. Read the Google Sheet titled survey from https://pos.it/r4ds-survey, with survey_id as a character variable and n_pets as a numerical variable."
   ]
  },
  {
   "cell_type": "code",
   "execution_count": 19,
   "metadata": {
    "vscode": {
     "languageId": "r"
    }
   },
   "outputs": [
    {
     "name": "stderr",
     "output_type": "stream",
     "text": [
      "\u001b[32m✔\u001b[39m Reading from \u001b[36msurvey\u001b[39m.\n",
      "\n",
      "\u001b[32m✔\u001b[39m Range \u001b[33mSheet1\u001b[39m.\n",
      "\n",
      "Warning message in .Primitive(\"as.double\")(x, ...):\n",
      "“NAs introduced by coercion”\n",
      "Warning message in .Primitive(\"as.double\")(x, ...):\n",
      "“NAs introduced by coercion”\n"
     ]
    },
    {
     "data": {
      "text/html": [
       "<table class=\"dataframe\">\n",
       "<caption>A tibble: 6 × 2</caption>\n",
       "<thead>\n",
       "\t<tr><th scope=col>survey_id</th><th scope=col>n_pets</th></tr>\n",
       "\t<tr><th scope=col>&lt;chr&gt;</th><th scope=col>&lt;dbl&gt;</th></tr>\n",
       "</thead>\n",
       "<tbody>\n",
       "\t<tr><td>1</td><td> 0</td></tr>\n",
       "\t<tr><td>2</td><td> 1</td></tr>\n",
       "\t<tr><td>3</td><td>NA</td></tr>\n",
       "\t<tr><td>4</td><td>NA</td></tr>\n",
       "\t<tr><td>5</td><td> 2</td></tr>\n",
       "\t<tr><td>6</td><td>NA</td></tr>\n",
       "</tbody>\n",
       "</table>\n"
      ],
      "text/latex": [
       "A tibble: 6 × 2\n",
       "\\begin{tabular}{ll}\n",
       " survey\\_id & n\\_pets\\\\\n",
       " <chr> & <dbl>\\\\\n",
       "\\hline\n",
       "\t 1 &  0\\\\\n",
       "\t 2 &  1\\\\\n",
       "\t 3 & NA\\\\\n",
       "\t 4 & NA\\\\\n",
       "\t 5 &  2\\\\\n",
       "\t 6 & NA\\\\\n",
       "\\end{tabular}\n"
      ],
      "text/markdown": [
       "\n",
       "A tibble: 6 × 2\n",
       "\n",
       "| survey_id &lt;chr&gt; | n_pets &lt;dbl&gt; |\n",
       "|---|---|\n",
       "| 1 |  0 |\n",
       "| 2 |  1 |\n",
       "| 3 | NA |\n",
       "| 4 | NA |\n",
       "| 5 |  2 |\n",
       "| 6 | NA |\n",
       "\n"
      ],
      "text/plain": [
       "  survey_id n_pets\n",
       "1 1          0    \n",
       "2 2          1    \n",
       "3 3         NA    \n",
       "4 4         NA    \n",
       "5 5          2    \n",
       "6 6         NA    "
      ]
     },
     "metadata": {},
     "output_type": "display_data"
    }
   ],
   "source": [
    "survey_id <- \"1yc5gL-a2OOBr8M7B3IsDNX5uR17vBHOyWZq6xSTG2G8\"\n",
    "survey_sheet <- read_sheet(survey_id, col_types = \"cd\" )\n",
    "survey_sheet"
   ]
  },
  {
   "attachments": {},
   "cell_type": "markdown",
   "metadata": {},
   "source": [
    "3. Read the Google Sheet titled roster from https://pos.it/r4ds-roster. The resulting data frame should be called roster and should look like the following.\n",
    "```r\n",
    "#> # A tibble: 12 × 3\n",
    "#>    group subgroup    id\n",
    "#>    <dbl> <chr>    <dbl>\n",
    "#>  1     1 A            1\n",
    "#>  2     1 A            2\n",
    "#>  3     1 A            3\n",
    "#>  4     1 B            4\n",
    "#>  5     1 B            5\n",
    "#>  6     1 B            6\n",
    "#>  7     1 B            7\n",
    "#>  8     2 A            8\n",
    "#>  9     2 A            9\n",
    "#> 10     2 B           10\n",
    "#> 11     2 B           11\n",
    "#> 12     2 B           12\n",
    "```"
   ]
  },
  {
   "cell_type": "code",
   "execution_count": 21,
   "metadata": {
    "vscode": {
     "languageId": "r"
    }
   },
   "outputs": [
    {
     "name": "stderr",
     "output_type": "stream",
     "text": [
      "\u001b[32m✔\u001b[39m Reading from \u001b[36mroster\u001b[39m.\n",
      "\n",
      "\u001b[32m✔\u001b[39m Range \u001b[33mSheet1\u001b[39m.\n",
      "\n"
     ]
    },
    {
     "data": {
      "text/html": [
       "<table class=\"dataframe\">\n",
       "<caption>A tibble: 12 × 3</caption>\n",
       "<thead>\n",
       "\t<tr><th scope=col>group</th><th scope=col>subgroup</th><th scope=col>id</th></tr>\n",
       "\t<tr><th scope=col>&lt;dbl&gt;</th><th scope=col>&lt;chr&gt;</th><th scope=col>&lt;dbl&gt;</th></tr>\n",
       "</thead>\n",
       "<tbody>\n",
       "\t<tr><td>1</td><td>A</td><td> 1</td></tr>\n",
       "\t<tr><td>1</td><td>A</td><td> 2</td></tr>\n",
       "\t<tr><td>1</td><td>A</td><td> 3</td></tr>\n",
       "\t<tr><td>1</td><td>B</td><td> 4</td></tr>\n",
       "\t<tr><td>1</td><td>B</td><td> 5</td></tr>\n",
       "\t<tr><td>1</td><td>B</td><td> 6</td></tr>\n",
       "\t<tr><td>1</td><td>B</td><td> 7</td></tr>\n",
       "\t<tr><td>2</td><td>A</td><td> 8</td></tr>\n",
       "\t<tr><td>2</td><td>A</td><td> 9</td></tr>\n",
       "\t<tr><td>2</td><td>B</td><td>10</td></tr>\n",
       "\t<tr><td>2</td><td>B</td><td>11</td></tr>\n",
       "\t<tr><td>2</td><td>B</td><td>12</td></tr>\n",
       "</tbody>\n",
       "</table>\n"
      ],
      "text/latex": [
       "A tibble: 12 × 3\n",
       "\\begin{tabular}{lll}\n",
       " group & subgroup & id\\\\\n",
       " <dbl> & <chr> & <dbl>\\\\\n",
       "\\hline\n",
       "\t 1 & A &  1\\\\\n",
       "\t 1 & A &  2\\\\\n",
       "\t 1 & A &  3\\\\\n",
       "\t 1 & B &  4\\\\\n",
       "\t 1 & B &  5\\\\\n",
       "\t 1 & B &  6\\\\\n",
       "\t 1 & B &  7\\\\\n",
       "\t 2 & A &  8\\\\\n",
       "\t 2 & A &  9\\\\\n",
       "\t 2 & B & 10\\\\\n",
       "\t 2 & B & 11\\\\\n",
       "\t 2 & B & 12\\\\\n",
       "\\end{tabular}\n"
      ],
      "text/markdown": [
       "\n",
       "A tibble: 12 × 3\n",
       "\n",
       "| group &lt;dbl&gt; | subgroup &lt;chr&gt; | id &lt;dbl&gt; |\n",
       "|---|---|---|\n",
       "| 1 | A |  1 |\n",
       "| 1 | A |  2 |\n",
       "| 1 | A |  3 |\n",
       "| 1 | B |  4 |\n",
       "| 1 | B |  5 |\n",
       "| 1 | B |  6 |\n",
       "| 1 | B |  7 |\n",
       "| 2 | A |  8 |\n",
       "| 2 | A |  9 |\n",
       "| 2 | B | 10 |\n",
       "| 2 | B | 11 |\n",
       "| 2 | B | 12 |\n",
       "\n"
      ],
      "text/plain": [
       "   group subgroup id\n",
       "1  1     A         1\n",
       "2  1     A         2\n",
       "3  1     A         3\n",
       "4  1     B         4\n",
       "5  1     B         5\n",
       "6  1     B         6\n",
       "7  1     B         7\n",
       "8  2     A         8\n",
       "9  2     A         9\n",
       "10 2     B        10\n",
       "11 2     B        11\n",
       "12 2     B        12"
      ]
     },
     "metadata": {},
     "output_type": "display_data"
    }
   ],
   "source": [
    "roster_id <- \"1LgZ0Bkg9d_NK8uTdP2uHXm07kAlwx8-Ictf8NocebIE\"\n",
    "roster_sheet <- read_sheet(roster_id, col_types = \"dcd\") |>\n",
    "    fill(group,subgroup)\n",
    "roster_sheet"
   ]
  }
 ],
 "metadata": {
  "kernelspec": {
   "display_name": "R",
   "language": "R",
   "name": "ir"
  },
  "language_info": {
   "codemirror_mode": "r",
   "file_extension": ".r",
   "mimetype": "text/x-r-source",
   "name": "R",
   "pygments_lexer": "r",
   "version": "4.2.1"
  },
  "orig_nbformat": 4
 },
 "nbformat": 4,
 "nbformat_minor": 2
}
